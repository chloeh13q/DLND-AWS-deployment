{
 "cells": [
  {
   "cell_type": "markdown",
   "metadata": {},
   "source": [
    "# Creating a Sentiment Analysis Web App\n",
    "## Using PyTorch and SageMaker\n",
    "\n",
    "_Deep Learning Nanodegree Program | Deployment_\n",
    "\n",
    "---\n",
    "\n",
    "Now that we have a basic understanding of how SageMaker works we will try to use it to construct a complete project from end to end. Our goal will be to have a simple web page which a user can use to enter a movie review. The web page will then send the review off to our deployed model which will predict the sentiment of the entered review.\n",
    "\n",
    "## Instructions\n",
    "\n",
    "Some template code has already been provided for you, and you will need to implement additional functionality to successfully complete this notebook. You will not need to modify the included code beyond what is requested. Sections that begin with '**TODO**' in the header indicate that you need to complete or implement some portion within them. Instructions will be provided for each section and the specifics of the implementation are marked in the code block with a `# TODO: ...` comment. Please be sure to read the instructions carefully!\n",
    "\n",
    "In addition to implementing code, there will be questions for you to answer which relate to the task and your implementation. Each section where you will answer a question is preceded by a '**Question:**' header. Carefully read each question and provide your answer below the '**Answer:**' header by editing the Markdown cell.\n",
    "\n",
    "> **Note**: Code and Markdown cells can be executed using the **Shift+Enter** keyboard shortcut. In addition, a cell can be edited by typically clicking it (double-click for Markdown cells) or by pressing **Enter** while it is highlighted.\n",
    "\n",
    "## General Outline\n",
    "\n",
    "Recall the general outline for SageMaker projects using a notebook instance.\n",
    "\n",
    "1. Download or otherwise retrieve the data.\n",
    "2. Process / Prepare the data.\n",
    "3. Upload the processed data to S3.\n",
    "4. Train a chosen model.\n",
    "5. Test the trained model (typically using a batch transform job).\n",
    "6. Deploy the trained model.\n",
    "7. Use the deployed model.\n",
    "\n",
    "For this project, you will be following the steps in the general outline with some modifications. \n",
    "\n",
    "First, you will not be testing the model in its own step. You will still be testing the model, however, you will do it by deploying your model and then using the deployed model by sending the test data to it. One of the reasons for doing this is so that you can make sure that your deployed model is working correctly before moving forward.\n",
    "\n",
    "In addition, you will deploy and use your trained model a second time. In the second iteration you will customize the way that your trained model is deployed by including some of your own code. In addition, your newly deployed model will be used in the sentiment analysis web app."
   ]
  },
  {
   "cell_type": "markdown",
   "metadata": {},
   "source": [
    "## Step 1: Downloading the data\n",
    "\n",
    "As in the XGBoost in SageMaker notebook, we will be using the [IMDb dataset](http://ai.stanford.edu/~amaas/data/sentiment/)\n",
    "\n",
    "> Maas, Andrew L., et al. [Learning Word Vectors for Sentiment Analysis](http://ai.stanford.edu/~amaas/data/sentiment/). In _Proceedings of the 49th Annual Meeting of the Association for Computational Linguistics: Human Language Technologies_. Association for Computational Linguistics, 2011."
   ]
  },
  {
   "cell_type": "code",
   "execution_count": 1,
   "metadata": {},
   "outputs": [
    {
     "name": "stdout",
     "output_type": "stream",
     "text": [
      "mkdir: cannot create directory ‘../data’: File exists\n",
      "--2020-07-22 11:15:02--  http://ai.stanford.edu/~amaas/data/sentiment/aclImdb_v1.tar.gz\n",
      "Resolving ai.stanford.edu (ai.stanford.edu)... 171.64.68.10\n",
      "Connecting to ai.stanford.edu (ai.stanford.edu)|171.64.68.10|:80... connected.\n",
      "HTTP request sent, awaiting response... 200 OK\n",
      "Length: 84125825 (80M) [application/x-gzip]\n",
      "Saving to: ‘../data/aclImdb_v1.tar.gz’\n",
      "\n",
      "../data/aclImdb_v1. 100%[===================>]  80.23M  23.4MB/s    in 4.3s    \n",
      "\n",
      "2020-07-22 11:15:06 (18.6 MB/s) - ‘../data/aclImdb_v1.tar.gz’ saved [84125825/84125825]\n",
      "\n"
     ]
    }
   ],
   "source": [
    "%mkdir ../data\n",
    "!wget -O ../data/aclImdb_v1.tar.gz http://ai.stanford.edu/~amaas/data/sentiment/aclImdb_v1.tar.gz\n",
    "!tar -zxf ../data/aclImdb_v1.tar.gz -C ../data"
   ]
  },
  {
   "cell_type": "markdown",
   "metadata": {},
   "source": [
    "## Step 2: Preparing and Processing the data\n",
    "\n",
    "Also, as in the XGBoost notebook, we will be doing some initial data processing. The first few steps are the same as in the XGBoost example. To begin with, we will read in each of the reviews and combine them into a single input structure. Then, we will split the dataset into a training set and a testing set."
   ]
  },
  {
   "cell_type": "code",
   "execution_count": 2,
   "metadata": {},
   "outputs": [],
   "source": [
    "import os\n",
    "import glob\n",
    "\n",
    "def read_imdb_data(data_dir='../data/aclImdb'):\n",
    "    data = {}\n",
    "    labels = {}\n",
    "    \n",
    "    for data_type in ['train', 'test']:\n",
    "        data[data_type] = {}\n",
    "        labels[data_type] = {}\n",
    "        \n",
    "        for sentiment in ['pos', 'neg']:\n",
    "            data[data_type][sentiment] = []\n",
    "            labels[data_type][sentiment] = []\n",
    "            \n",
    "            path = os.path.join(data_dir, data_type, sentiment, '*.txt')\n",
    "            files = glob.glob(path)\n",
    "            \n",
    "            for f in files:\n",
    "                with open(f) as review:\n",
    "                    data[data_type][sentiment].append(review.read())\n",
    "                    # Here we represent a positive review by '1' and a negative review by '0'\n",
    "                    labels[data_type][sentiment].append(1 if sentiment == 'pos' else 0)\n",
    "                    \n",
    "            assert len(data[data_type][sentiment]) == len(labels[data_type][sentiment]), \\\n",
    "                    \"{}/{} data size does not match labels size\".format(data_type, sentiment)\n",
    "                \n",
    "    return data, labels"
   ]
  },
  {
   "cell_type": "code",
   "execution_count": 3,
   "metadata": {},
   "outputs": [
    {
     "name": "stdout",
     "output_type": "stream",
     "text": [
      "IMDB reviews: train = 12500 pos / 12500 neg, test = 12500 pos / 12500 neg\n"
     ]
    }
   ],
   "source": [
    "data, labels = read_imdb_data()\n",
    "print(\"IMDB reviews: train = {} pos / {} neg, test = {} pos / {} neg\".format(\n",
    "            len(data['train']['pos']), len(data['train']['neg']),\n",
    "            len(data['test']['pos']), len(data['test']['neg'])))"
   ]
  },
  {
   "cell_type": "markdown",
   "metadata": {},
   "source": [
    "Now that we've read the raw training and testing data from the downloaded dataset, we will combine the positive and negative reviews and shuffle the resulting records."
   ]
  },
  {
   "cell_type": "code",
   "execution_count": 4,
   "metadata": {},
   "outputs": [],
   "source": [
    "from sklearn.utils import shuffle\n",
    "\n",
    "def prepare_imdb_data(data, labels):\n",
    "    \"\"\"Prepare training and test sets from IMDb movie reviews.\"\"\"\n",
    "    \n",
    "    #Combine positive and negative reviews and labels\n",
    "    data_train = data['train']['pos'] + data['train']['neg']\n",
    "    data_test = data['test']['pos'] + data['test']['neg']\n",
    "    labels_train = labels['train']['pos'] + labels['train']['neg']\n",
    "    labels_test = labels['test']['pos'] + labels['test']['neg']\n",
    "    \n",
    "    #Shuffle reviews and corresponding labels within training and test sets\n",
    "    data_train, labels_train = shuffle(data_train, labels_train)\n",
    "    data_test, labels_test = shuffle(data_test, labels_test)\n",
    "    \n",
    "    # Return a unified training data, test data, training labels, test labets\n",
    "    return data_train, data_test, labels_train, labels_test"
   ]
  },
  {
   "cell_type": "code",
   "execution_count": 5,
   "metadata": {},
   "outputs": [
    {
     "name": "stdout",
     "output_type": "stream",
     "text": [
      "IMDb reviews (combined): train = 25000, test = 25000\n"
     ]
    }
   ],
   "source": [
    "train_X, test_X, train_y, test_y = prepare_imdb_data(data, labels)\n",
    "print(\"IMDb reviews (combined): train = {}, test = {}\".format(len(train_X), len(test_X)))"
   ]
  },
  {
   "cell_type": "markdown",
   "metadata": {},
   "source": [
    "Now that we have our training and testing sets unified and prepared, we should do a quick check and see an example of the data our model will be trained on. This is generally a good idea as it allows you to see how each of the further processing steps affects the reviews and it also ensures that the data has been loaded correctly."
   ]
  },
  {
   "cell_type": "code",
   "execution_count": 6,
   "metadata": {},
   "outputs": [
    {
     "name": "stdout",
     "output_type": "stream",
     "text": [
      "The potential was there. I saw Creep and thought, 'Oooh, this is getting interesting' several times. Yet somehow the interesting plot lines wound up unexplained or ignored, like they never happened. The lead character was irritating throughout the movie, and at one point my fella and I both shouted that we wanted her to die. There are some genuinely spooky/scary moments, but these are grossly overshadowed by the moments that just annoyed the hell out of me. It's another one of those horror movies that crops up and intrigues you for a while, but ultimately leaves you frustrated and a little confused about what the movie makers were trying to achieve.<br /><br />The one saving grace of this movie is the bad guy, but when the baddie is more likable than the lead character you know you're on to a loser.\n",
      "0\n"
     ]
    }
   ],
   "source": [
    "print(train_X[100])\n",
    "print(train_y[100])"
   ]
  },
  {
   "cell_type": "markdown",
   "metadata": {},
   "source": [
    "The first step in processing the reviews is to make sure that any html tags that appear should be removed. In addition we wish to tokenize our input, that way words such as *entertained* and *entertaining* are considered the same with regard to sentiment analysis."
   ]
  },
  {
   "cell_type": "code",
   "execution_count": 7,
   "metadata": {},
   "outputs": [],
   "source": [
    "import nltk\n",
    "from nltk.corpus import stopwords\n",
    "from nltk.stem.porter import *\n",
    "\n",
    "import re\n",
    "from bs4 import BeautifulSoup\n",
    "\n",
    "def review_to_words(review):\n",
    "    nltk.download(\"stopwords\", quiet=True)\n",
    "    stemmer = PorterStemmer()\n",
    "    \n",
    "    text = BeautifulSoup(review, \"html.parser\").get_text() # Remove HTML tags\n",
    "    text = re.sub(r\"[^a-zA-Z0-9]\", \" \", text.lower()) # Convert to lower case\n",
    "    words = text.split() # Split string into words\n",
    "    words = [w for w in words if w not in stopwords.words(\"english\")] # Remove stopwords\n",
    "    words = [PorterStemmer().stem(w) for w in words] # stem\n",
    "    \n",
    "    return words"
   ]
  },
  {
   "cell_type": "markdown",
   "metadata": {},
   "source": [
    "The `review_to_words` method defined above uses `BeautifulSoup` to remove any html tags that appear and uses the `nltk` package to tokenize the reviews. As a check to ensure we know how everything is working, try applying `review_to_words` to one of the reviews in the training set."
   ]
  },
  {
   "cell_type": "code",
   "execution_count": 8,
   "metadata": {},
   "outputs": [
    {
     "data": {
      "text/plain": [
       "['potenti',\n",
       " 'saw',\n",
       " 'creep',\n",
       " 'thought',\n",
       " 'oooh',\n",
       " 'get',\n",
       " 'interest',\n",
       " 'sever',\n",
       " 'time',\n",
       " 'yet',\n",
       " 'somehow',\n",
       " 'interest',\n",
       " 'plot',\n",
       " 'line',\n",
       " 'wound',\n",
       " 'unexplain',\n",
       " 'ignor',\n",
       " 'like',\n",
       " 'never',\n",
       " 'happen',\n",
       " 'lead',\n",
       " 'charact',\n",
       " 'irrit',\n",
       " 'throughout',\n",
       " 'movi',\n",
       " 'one',\n",
       " 'point',\n",
       " 'fella',\n",
       " 'shout',\n",
       " 'want',\n",
       " 'die',\n",
       " 'genuin',\n",
       " 'spooki',\n",
       " 'scari',\n",
       " 'moment',\n",
       " 'grossli',\n",
       " 'overshadow',\n",
       " 'moment',\n",
       " 'annoy',\n",
       " 'hell',\n",
       " 'anoth',\n",
       " 'one',\n",
       " 'horror',\n",
       " 'movi',\n",
       " 'crop',\n",
       " 'intrigu',\n",
       " 'ultim',\n",
       " 'leav',\n",
       " 'frustrat',\n",
       " 'littl',\n",
       " 'confus',\n",
       " 'movi',\n",
       " 'maker',\n",
       " 'tri',\n",
       " 'achiev',\n",
       " 'one',\n",
       " 'save',\n",
       " 'grace',\n",
       " 'movi',\n",
       " 'bad',\n",
       " 'guy',\n",
       " 'baddi',\n",
       " 'likabl',\n",
       " 'lead',\n",
       " 'charact',\n",
       " 'know',\n",
       " 'loser']"
      ]
     },
     "execution_count": 8,
     "metadata": {},
     "output_type": "execute_result"
    }
   ],
   "source": [
    "# apply review_to_words to a review (train_X[100] or any other review)\n",
    "review_to_words(train_X[100])"
   ]
  },
  {
   "cell_type": "markdown",
   "metadata": {},
   "source": [
    "**Question:** Above we mentioned that `review_to_words` method removes html formatting and allows us to tokenize the words found in a review, for example, converting *entertained* and *entertaining* into *entertain* so that they are treated as though they are the same word. What else, if anything, does this method do to the input?"
   ]
  },
  {
   "cell_type": "markdown",
   "metadata": {},
   "source": [
    "**Answer:**\n",
    "\n",
    "The method also converts all the reviews into lower case, splits each string into individual words, and removes all the stopwords."
   ]
  },
  {
   "cell_type": "markdown",
   "metadata": {},
   "source": [
    "The method below applies the `review_to_words` method to each of the reviews in the training and testing datasets. In addition it caches the results. This is because performing this processing step can take a long time. This way if you are unable to complete the notebook in the current session, you can come back without needing to process the data a second time."
   ]
  },
  {
   "cell_type": "code",
   "execution_count": 9,
   "metadata": {},
   "outputs": [],
   "source": [
    "import pickle\n",
    "\n",
    "cache_dir = os.path.join(\"../cache\", \"sentiment_analysis\")  # where to store cache files\n",
    "os.makedirs(cache_dir, exist_ok=True)  # ensure cache directory exists\n",
    "\n",
    "def preprocess_data(data_train, data_test, labels_train, labels_test,\n",
    "                    cache_dir=cache_dir, cache_file=\"preprocessed_data.pkl\"):\n",
    "    \"\"\"Convert each review to words; read from cache if available.\"\"\"\n",
    "\n",
    "    # If cache_file is not None, try to read from it first\n",
    "    cache_data = None\n",
    "    if cache_file is not None:\n",
    "        try:\n",
    "            with open(os.path.join(cache_dir, cache_file), \"rb\") as f:\n",
    "                cache_data = pickle.load(f)\n",
    "            print(\"Read preprocessed data from cache file:\", cache_file)\n",
    "        except:\n",
    "            pass  # unable to read from cache, but that's okay\n",
    "    \n",
    "    # If cache is missing, then do the heavy lifting\n",
    "    if cache_data is None:\n",
    "        # Preprocess training and test data to obtain words for each review\n",
    "        #words_train = list(map(review_to_words, data_train))\n",
    "        #words_test = list(map(review_to_words, data_test))\n",
    "        words_train = [review_to_words(review) for review in data_train]\n",
    "        words_test = [review_to_words(review) for review in data_test]\n",
    "        \n",
    "        # Write to cache file for future runs\n",
    "        if cache_file is not None:\n",
    "            cache_data = dict(words_train=words_train, words_test=words_test,\n",
    "                              labels_train=labels_train, labels_test=labels_test)\n",
    "            with open(os.path.join(cache_dir, cache_file), \"wb\") as f:\n",
    "                pickle.dump(cache_data, f)\n",
    "            print(\"Wrote preprocessed data to cache file:\", cache_file)\n",
    "    else:\n",
    "        # Unpack data loaded from cache file\n",
    "        words_train, words_test, labels_train, labels_test = (cache_data['words_train'],\n",
    "                cache_data['words_test'], cache_data['labels_train'], cache_data['labels_test'])\n",
    "    \n",
    "    return words_train, words_test, labels_train, labels_test"
   ]
  },
  {
   "cell_type": "code",
   "execution_count": 10,
   "metadata": {},
   "outputs": [
    {
     "name": "stdout",
     "output_type": "stream",
     "text": [
      "Read preprocessed data from cache file: preprocessed_data.pkl\n"
     ]
    }
   ],
   "source": [
    "# Preprocess data\n",
    "train_X, test_X, train_y, test_y = preprocess_data(train_X, test_X, train_y, test_y)"
   ]
  },
  {
   "cell_type": "markdown",
   "metadata": {},
   "source": [
    "## Transform the data\n",
    "\n",
    "In the XGBoost notebook we transformed the data from its word representation to a bag-of-words feature representation. For the model we are going to construct in this notebook we will construct a feature representation which is very similar. To start, we will represent each word as an integer. Of course, some of the words that appear in the reviews occur very infrequently and so likely don't contain much information for the purposes of sentiment analysis. The way we will deal with this problem is that we will fix the size of our working vocabulary and we will only include the words that appear most frequently. We will then combine all of the infrequent words into a single category and, in our case, we will label it as `1`.\n",
    "\n",
    "Since we will be using a recurrent neural network, it will be convenient if the length of each review is the same. To do this, we will fix a size for our reviews and then pad short reviews with the category 'no word' (which we will label `0`) and truncate long reviews."
   ]
  },
  {
   "cell_type": "markdown",
   "metadata": {},
   "source": [
    "### (TODO) Create a word dictionary\n",
    "\n",
    "To begin with, we need to construct a way to map words that appear in the reviews to integers. Here we fix the size of our vocabulary (including the 'no word' and 'infrequent' categories) to be `5000` but you may wish to change this to see how it affects the model.\n",
    "\n",
    "> **TODO:** Complete the implementation for the `build_dict()` method below. Note that even though the vocab_size is set to `5000`, we only want to construct a mapping for the most frequently appearing `4998` words. This is because we want to reserve the special labels `0` for 'no word' and `1` for 'infrequent word'."
   ]
  },
  {
   "cell_type": "code",
   "execution_count": 11,
   "metadata": {},
   "outputs": [],
   "source": [
    "import numpy as np\n",
    "from collections import Counter\n",
    "\n",
    "def build_dict(data, vocab_size = 5000):\n",
    "    \"\"\"Construct and return a dictionary mapping each of the most frequently appearing words to a unique integer.\"\"\"\n",
    "    \n",
    "    # determine how often each word appears in `data`\n",
    "    word_count = {} # A dict storing the words that appear in the reviews along with how often they occur\n",
    "    for review in data:\n",
    "        for word in review:\n",
    "            if word in word_count:\n",
    "                word_count[word] += 1\n",
    "            else:\n",
    "                word_count[word] = 1\n",
    "    \n",
    "    # sort the words found in `data` so that sorted_words[0] is the most frequently appearing word and\n",
    "    # sorted_words[-1] is the least frequently appearing word.\n",
    "    sorted_words = sorted(word_count, key=word_count.get, reverse=True)\n",
    "    \n",
    "    word_dict = {} # This is what we are building, a dictionary that translates words into integers\n",
    "    for idx, word in enumerate(sorted_words[:vocab_size - 2]): # The -2 is so that we save room for the 'no word'\n",
    "        word_dict[word] = idx + 2                              # 'infrequent' labels\n",
    "        \n",
    "    return word_dict"
   ]
  },
  {
   "cell_type": "code",
   "execution_count": 12,
   "metadata": {},
   "outputs": [
    {
     "name": "stdout",
     "output_type": "stream",
     "text": [
      "{'movi': 2, 'film': 3, 'one': 4, 'like': 5, 'time': 6, 'good': 7, 'make': 8, 'charact': 9, 'get': 10, 'see': 11, 'watch': 12, 'stori': 13, 'even': 14, 'would': 15, 'realli': 16, 'well': 17, 'scene': 18, 'look': 19, 'show': 20, 'much': 21, 'end': 22, 'peopl': 23, 'bad': 24, 'go': 25, 'great': 26, 'also': 27, 'first': 28, 'love': 29, 'think': 30, 'way': 31, 'act': 32, 'play': 33, 'made': 34, 'thing': 35, 'could': 36, 'know': 37, 'say': 38, 'seem': 39, 'work': 40, 'plot': 41, 'two': 42, 'actor': 43, 'year': 44, 'come': 45, 'mani': 46, 'seen': 47, 'take': 48, 'want': 49, 'life': 50, 'never': 51, 'littl': 52, 'best': 53, 'tri': 54, 'man': 55, 'ever': 56, 'give': 57, 'better': 58, 'still': 59, 'perform': 60, 'find': 61, 'feel': 62, 'part': 63, 'back': 64, 'use': 65, 'someth': 66, 'director': 67, 'actual': 68, 'interest': 69, 'lot': 70, 'real': 71, 'old': 72, 'cast': 73, 'though': 74, 'live': 75, 'star': 76, 'enjoy': 77, 'guy': 78, 'anoth': 79, 'new': 80, 'role': 81, 'noth': 82, '10': 83, 'funni': 84, 'music': 85, 'point': 86, 'start': 87, 'set': 88, 'girl': 89, 'origin': 90, 'day': 91, 'world': 92, 'everi': 93, 'believ': 94, 'turn': 95, 'quit': 96, 'us': 97, 'direct': 98, 'thought': 99, 'fact': 100, 'minut': 101, 'horror': 102, 'kill': 103, 'action': 104, 'comedi': 105, 'pretti': 106, 'young': 107, 'wonder': 108, 'happen': 109, 'around': 110, 'got': 111, 'effect': 112, 'right': 113, 'long': 114, 'howev': 115, 'big': 116, 'line': 117, 'famili': 118, 'enough': 119, 'seri': 120, 'may': 121, 'need': 122, 'fan': 123, 'bit': 124, 'script': 125, 'beauti': 126, 'person': 127, 'becom': 128, 'without': 129, 'must': 130, 'alway': 131, 'friend': 132, 'tell': 133, 'reason': 134, 'saw': 135, 'last': 136, 'final': 137, 'kid': 138, 'almost': 139, 'put': 140, 'least': 141, 'sure': 142, 'done': 143, 'whole': 144, 'place': 145, 'complet': 146, 'kind': 147, 'expect': 148, 'differ': 149, 'shot': 150, 'far': 151, 'mean': 152, 'anyth': 153, 'book': 154, 'laugh': 155, 'might': 156, 'name': 157, 'sinc': 158, 'begin': 159, '2': 160, 'probabl': 161, 'woman': 162, 'help': 163, 'entertain': 164, 'let': 165, 'screen': 166, 'call': 167, 'tv': 168, 'moment': 169, 'away': 170, 'read': 171, 'yet': 172, 'rather': 173, 'worst': 174, 'run': 175, 'fun': 176, 'lead': 177, 'hard': 178, 'audienc': 179, 'idea': 180, 'anyon': 181, 'episod': 182, 'american': 183, 'found': 184, 'appear': 185, 'bore': 186, 'especi': 187, 'although': 188, 'hope': 189, 'cours': 190, 'keep': 191, 'anim': 192, 'job': 193, 'goe': 194, 'move': 195, 'sens': 196, 'dvd': 197, 'version': 198, 'war': 199, 'money': 200, 'someon': 201, 'mind': 202, 'mayb': 203, 'problem': 204, 'true': 205, 'hous': 206, 'everyth': 207, 'nice': 208, 'second': 209, 'rate': 210, 'three': 211, 'night': 212, 'follow': 213, 'face': 214, 'recommend': 215, 'product': 216, 'main': 217, 'worth': 218, 'leav': 219, 'human': 220, 'special': 221, 'excel': 222, 'togeth': 223, 'wast': 224, 'sound': 225, 'everyon': 226, 'john': 227, 'hand': 228, '1': 229, 'father': 230, 'later': 231, 'eye': 232, 'said': 233, 'view': 234, 'instead': 235, 'review': 236, 'boy': 237, 'high': 238, 'hour': 239, 'miss': 240, 'classic': 241, 'talk': 242, 'wife': 243, 'understand': 244, 'left': 245, 'care': 246, 'black': 247, 'death': 248, 'open': 249, 'murder': 250, 'write': 251, 'half': 252, 'head': 253, 'rememb': 254, 'chang': 255, 'viewer': 256, 'fight': 257, 'gener': 258, 'surpris': 259, 'short': 260, 'includ': 261, 'die': 262, 'fall': 263, 'less': 264, 'els': 265, 'entir': 266, 'piec': 267, 'involv': 268, 'pictur': 269, 'simpli': 270, 'home': 271, 'top': 272, 'power': 273, 'total': 274, 'usual': 275, 'budget': 276, 'attempt': 277, 'suppos': 278, 'releas': 279, 'hollywood': 280, 'terribl': 281, 'song': 282, 'men': 283, 'possibl': 284, 'featur': 285, 'portray': 286, 'disappoint': 287, 'poor': 288, '3': 289, 'coupl': 290, 'stupid': 291, 'camera': 292, 'dead': 293, 'wrong': 294, 'produc': 295, 'low': 296, 'video': 297, 'either': 298, 'aw': 299, 'definit': 300, 'except': 301, 'rest': 302, 'given': 303, 'absolut': 304, 'women': 305, 'lack': 306, 'word': 307, 'writer': 308, 'titl': 309, 'talent': 310, 'decid': 311, 'full': 312, 'perfect': 313, 'along': 314, 'style': 315, 'close': 316, 'truli': 317, 'school': 318, 'emot': 319, 'save': 320, 'age': 321, 'sex': 322, 'next': 323, 'bring': 324, 'mr': 325, 'case': 326, 'killer': 327, 'heart': 328, 'comment': 329, 'sort': 330, 'creat': 331, 'perhap': 332, 'came': 333, 'brother': 334, 'sever': 335, 'joke': 336, 'art': 337, 'dialogu': 338, 'game': 339, 'small': 340, 'base': 341, 'flick': 342, 'written': 343, 'sequenc': 344, 'meet': 345, 'earli': 346, 'often': 347, 'other': 348, 'mother': 349, 'develop': 350, 'humor': 351, 'actress': 352, 'consid': 353, 'dark': 354, 'guess': 355, 'amaz': 356, 'unfortun': 357, 'light': 358, 'lost': 359, 'exampl': 360, 'cinema': 361, 'drama': 362, 'white': 363, 'ye': 364, 'experi': 365, 'imagin': 366, 'mention': 367, 'stop': 368, 'natur': 369, 'forc': 370, 'manag': 371, 'felt': 372, 'cut': 373, 'present': 374, 'children': 375, 'fail': 376, 'son': 377, 'support': 378, 'qualiti': 379, 'car': 380, 'ask': 381, 'hit': 382, 'side': 383, 'voic': 384, 'extrem': 385, 'impress': 386, 'wors': 387, 'evil': 388, 'went': 389, 'stand': 390, 'certainli': 391, 'basic': 392, 'oh': 393, 'overal': 394, 'favorit': 395, 'horribl': 396, 'mysteri': 397, 'number': 398, 'type': 399, 'danc': 400, 'wait': 401, 'hero': 402, 'alreadi': 403, '5': 404, 'learn': 405, 'matter': 406, '4': 407, 'michael': 408, 'genr': 409, 'fine': 410, 'despit': 411, 'throughout': 412, 'walk': 413, 'success': 414, 'histori': 415, 'question': 416, 'zombi': 417, 'town': 418, 'realiz': 419, 'relationship': 420, 'child': 421, 'past': 422, 'daughter': 423, 'late': 424, 'b': 425, 'wish': 426, 'hate': 427, 'credit': 428, 'event': 429, 'theme': 430, 'touch': 431, 'citi': 432, 'today': 433, 'sometim': 434, 'behind': 435, 'god': 436, 'twist': 437, 'sit': 438, 'deal': 439, 'stay': 440, 'annoy': 441, 'abl': 442, 'rent': 443, 'pleas': 444, 'edit': 445, 'blood': 446, 'deserv': 447, 'anyway': 448, 'comic': 449, 'appar': 450, 'soon': 451, 'gave': 452, 'etc': 453, 'level': 454, 'slow': 455, 'chanc': 456, 'score': 457, 'bodi': 458, 'brilliant': 459, 'incred': 460, 'figur': 461, 'situat': 462, 'self': 463, 'major': 464, 'stuff': 465, 'decent': 466, 'element': 467, 'dream': 468, 'return': 469, 'obvious': 470, 'order': 471, 'continu': 472, 'pace': 473, 'ridicul': 474, 'happi': 475, 'add': 476, 'highli': 477, 'group': 478, 'thank': 479, 'ladi': 480, 'novel': 481, 'speak': 482, 'pain': 483, 'career': 484, 'shoot': 485, 'strang': 486, 'heard': 487, 'sad': 488, 'polic': 489, 'husband': 490, 'import': 491, 'break': 492, 'took': 493, 'strong': 494, 'cannot': 495, 'predict': 496, 'robert': 497, 'violenc': 498, 'hilari': 499, 'recent': 500, 'countri': 501, 'known': 502, 'particularli': 503, 'pick': 504, 'documentari': 505, 'season': 506, 'critic': 507, 'jame': 508, 'compar': 509, 'alon': 510, 'obviou': 511, 'told': 512, 'state': 513, 'visual': 514, 'rock': 515, 'offer': 516, 'exist': 517, 'theater': 518, 'opinion': 519, 'gore': 520, 'crap': 521, 'hold': 522, 'result': 523, 'hear': 524, 'realiti': 525, 'room': 526, 'clich': 527, 'effort': 528, 'thriller': 529, 'caus': 530, 'sequel': 531, 'serious': 532, 'explain': 533, 'king': 534, 'local': 535, 'ago': 536, 'none': 537, 'hell': 538, 'note': 539, 'allow': 540, 'sister': 541, 'david': 542, 'simpl': 543, 'femal': 544, 'deliv': 545, 'ok': 546, 'convinc': 547, 'class': 548, 'check': 549, 'suspens': 550, 'win': 551, 'oscar': 552, 'buy': 553, 'huge': 554, 'valu': 555, 'sexual': 556, 'scari': 557, 'cool': 558, 'similar': 559, 'excit': 560, 'exactli': 561, 'provid': 562, 'apart': 563, 'avoid': 564, 'shown': 565, 'seriou': 566, 'english': 567, 'whose': 568, 'taken': 569, 'cinematographi': 570, 'shock': 571, 'polit': 572, 'spoiler': 573, 'offic': 574, 'across': 575, 'middl': 576, 'pass': 577, 'street': 578, 'messag': 579, 'charm': 580, 'somewhat': 581, 'silli': 582, 'modern': 583, 'filmmak': 584, 'confus': 585, 'form': 586, 'tale': 587, 'singl': 588, 'jack': 589, 'mostli': 590, 'william': 591, 'carri': 592, 'attent': 593, 'sing': 594, 'five': 595, 'subject': 596, 'richard': 597, 'prove': 598, 'team': 599, 'stage': 600, 'cop': 601, 'unlik': 602, 'georg': 603, 'televis': 604, 'monster': 605, 'earth': 606, 'cover': 607, 'villain': 608, 'pay': 609, 'marri': 610, 'toward': 611, 'build': 612, 'parent': 613, 'pull': 614, 'due': 615, 'respect': 616, 'fill': 617, 'four': 618, 'dialog': 619, 'remind': 620, 'futur': 621, 'typic': 622, 'weak': 623, '7': 624, 'cheap': 625, 'intellig': 626, 'atmospher': 627, 'british': 628, 'clearli': 629, '80': 630, 'non': 631, 'dog': 632, 'paul': 633, '8': 634, 'fast': 635, 'knew': 636, 'artist': 637, 'crime': 638, 'easili': 639, 'escap': 640, 'doubt': 641, 'adult': 642, 'detail': 643, 'date': 644, 'member': 645, 'romant': 646, 'fire': 647, 'drive': 648, 'gun': 649, 'straight': 650, 'beyond': 651, 'fit': 652, 'attack': 653, 'imag': 654, 'upon': 655, 'posit': 656, 'whether': 657, 'peter': 658, 'fantast': 659, 'captur': 660, 'appreci': 661, 'aspect': 662, 'ten': 663, 'plan': 664, 'discov': 665, 'remain': 666, 'period': 667, 'near': 668, 'realist': 669, 'air': 670, 'mark': 671, 'red': 672, 'dull': 673, 'adapt': 674, 'within': 675, 'spend': 676, 'lose': 677, 'color': 678, 'materi': 679, 'chase': 680, 'mari': 681, 'storylin': 682, 'forget': 683, 'bunch': 684, 'clear': 685, 'lee': 686, 'victim': 687, 'nearli': 688, 'box': 689, 'york': 690, 'inspir': 691, 'match': 692, 'mess': 693, 'finish': 694, 'standard': 695, 'easi': 696, 'truth': 697, 'suffer': 698, 'busi': 699, 'bill': 700, 'dramat': 701, 'space': 702, 'western': 703, 'e': 704, 'list': 705, 'battl': 706, 'notic': 707, 'de': 708, 'french': 709, 'ad': 710, '9': 711, 'tom': 712, 'larg': 713, 'among': 714, 'eventu': 715, 'train': 716, 'accept': 717, 'agre': 718, 'soundtrack': 719, 'spirit': 720, 'third': 721, 'teenag': 722, 'soldier': 723, 'adventur': 724, 'drug': 725, 'famou': 726, 'suggest': 727, 'sorri': 728, 'babi': 729, 'cri': 730, 'normal': 731, 'ultim': 732, 'troubl': 733, 'contain': 734, 'certain': 735, 'cultur': 736, 'romanc': 737, 'rare': 738, 'lame': 739, 'somehow': 740, 'mix': 741, 'disney': 742, 'gone': 743, 'cartoon': 744, 'student': 745, 'fear': 746, 'reveal': 747, 'suck': 748, 'kept': 749, 'attract': 750, 'appeal': 751, 'premis': 752, 'secret': 753, 'greatest': 754, 'design': 755, 'shame': 756, 'throw': 757, 'copi': 758, 'scare': 759, 'wit': 760, 'admit': 761, 'america': 762, 'particular': 763, 'brought': 764, 'relat': 765, 'screenplay': 766, 'whatev': 767, 'pure': 768, '70': 769, 'harri': 770, 'averag': 771, 'master': 772, 'describ': 773, 'male': 774, 'treat': 775, '20': 776, 'fantasi': 777, 'issu': 778, 'warn': 779, 'inde': 780, 'forward': 781, 'background': 782, 'project': 783, 'free': 784, 'memor': 785, 'japanes': 786, 'poorli': 787, 'award': 788, 'locat': 789, 'amus': 790, 'potenti': 791, 'struggl': 792, 'magic': 793, 'weird': 794, 'societi': 795, 'okay': 796, 'imdb': 797, 'accent': 798, 'doctor': 799, 'hot': 800, 'water': 801, '30': 802, 'express': 803, 'alien': 804, 'dr': 805, 'odd': 806, 'crazi': 807, 'choic': 808, 'fiction': 809, 'studio': 810, 'becam': 811, 'control': 812, 'masterpiec': 813, 'fli': 814, 'difficult': 815, 'joe': 816, 'scream': 817, 'costum': 818, 'lover': 819, 'refer': 820, 'uniqu': 821, 'remak': 822, 'vampir': 823, 'girlfriend': 824, 'prison': 825, 'execut': 826, 'wear': 827, 'jump': 828, 'wood': 829, 'unless': 830, 'creepi': 831, 'cheesi': 832, 'superb': 833, 'otherwis': 834, 'parti': 835, 'roll': 836, 'ghost': 837, 'public': 838, 'mad': 839, 'depict': 840, 'week': 841, 'jane': 842, 'earlier': 843, 'badli': 844, 'moral': 845, 'fi': 846, 'dumb': 847, 'flaw': 848, 'grow': 849, 'deep': 850, 'sci': 851, 'cat': 852, 'maker': 853, 'connect': 854, 'older': 855, 'footag': 856, 'bother': 857, 'plenti': 858, 'outsid': 859, 'stick': 860, 'gay': 861, 'catch': 862, 'co': 863, 'plu': 864, 'popular': 865, 'equal': 866, 'social': 867, 'quickli': 868, 'disturb': 869, 'perfectli': 870, 'dress': 871, '90': 872, 'era': 873, 'mistak': 874, 'lie': 875, 'ride': 876, 'previou': 877, 'combin': 878, 'concept': 879, 'band': 880, 'answer': 881, 'rich': 882, 'surviv': 883, 'front': 884, 'christma': 885, 'sweet': 886, 'insid': 887, 'concern': 888, 'eat': 889, 'bare': 890, 'ben': 891, 'beat': 892, 'listen': 893, 'c': 894, 'serv': 895, 'term': 896, 'la': 897, 'meant': 898, 'german': 899, 'hardli': 900, 'stereotyp': 901, 'law': 902, 'innoc': 903, 'desper': 904, 'memori': 905, 'promis': 906, 'cute': 907, 'intent': 908, 'inform': 909, 'variou': 910, 'steal': 911, 'brain': 912, 'post': 913, 'tone': 914, 'island': 915, 'amount': 916, 'compani': 917, 'track': 918, 'nuditi': 919, 'store': 920, 'claim': 921, '50': 922, 'flat': 923, 'hair': 924, 'univers': 925, 'land': 926, 'kick': 927, 'danger': 928, 'fairli': 929, 'scott': 930, 'player': 931, 'step': 932, 'crew': 933, 'plain': 934, 'toni': 935, 'share': 936, 'tast': 937, 'centuri': 938, 'engag': 939, 'achiev': 940, 'travel': 941, 'cold': 942, 'suit': 943, 'record': 944, 'rip': 945, 'manner': 946, 'sadli': 947, 'tension': 948, 'wrote': 949, 'spot': 950, 'intens': 951, 'fascin': 952, 'familiar': 953, 'burn': 954, 'remark': 955, 'depth': 956, 'histor': 957, 'destroy': 958, 'sleep': 959, 'purpos': 960, 'languag': 961, 'ruin': 962, 'ignor': 963, 'delight': 964, 'unbeliev': 965, 'italian': 966, 'soul': 967, 'abil': 968, 'collect': 969, 'detect': 970, 'clever': 971, 'violent': 972, 'rape': 973, 'reach': 974, 'door': 975, 'liter': 976, 'scienc': 977, 'trash': 978, 'reveng': 979, 'caught': 980, 'commun': 981, 'creatur': 982, 'trip': 983, 'approach': 984, 'intrigu': 985, 'fashion': 986, 'paint': 987, 'skill': 988, 'introduc': 989, 'complex': 990, 'channel': 991, 'camp': 992, 'christian': 993, 'hole': 994, 'extra': 995, 'immedi': 996, 'limit': 997, 'mental': 998, 'ann': 999, '6': 1000, 'slightli': 1001, 'comput': 1002, 'million': 1003, 'mere': 1004, 'conclus': 1005, 'slasher': 1006, 'suddenli': 1007, 'imposs': 1008, 'crimin': 1009, 'neither': 1010, 'teen': 1011, 'physic': 1012, 'spent': 1013, 'nation': 1014, 'respons': 1015, 'planet': 1016, 'receiv': 1017, 'fake': 1018, 'sick': 1019, 'blue': 1020, 'bizarr': 1021, 'embarrass': 1022, 'indian': 1023, '15': 1024, 'ring': 1025, 'pop': 1026, 'drop': 1027, 'drag': 1028, 'haunt': 1029, 'pointless': 1030, 'suspect': 1031, 'edg': 1032, 'search': 1033, 'handl': 1034, 'biggest': 1035, 'common': 1036, 'hurt': 1037, 'arriv': 1038, 'faith': 1039, 'technic': 1040, 'angel': 1041, 'dad': 1042, 'genuin': 1043, 'solid': 1044, 'awesom': 1045, 'f': 1046, 'former': 1047, 'focu': 1048, 'van': 1049, 'colleg': 1050, 'count': 1051, 'tear': 1052, 'heavi': 1053, 'wall': 1054, 'rais': 1055, 'visit': 1056, 'younger': 1057, 'laughabl': 1058, 'sign': 1059, 'excus': 1060, 'fair': 1061, 'cult': 1062, 'tough': 1063, 'key': 1064, 'motion': 1065, 'super': 1066, 'desir': 1067, 'addit': 1068, 'stun': 1069, 'exploit': 1070, 'cloth': 1071, 'smith': 1072, 'tortur': 1073, 'race': 1074, 'davi': 1075, 'cross': 1076, 'author': 1077, 'jim': 1078, 'focus': 1079, 'minor': 1080, 'consist': 1081, 'compel': 1082, 'commit': 1083, 'pathet': 1084, 'chemistri': 1085, 'park': 1086, 'tradit': 1087, 'obsess': 1088, 'frank': 1089, 'grade': 1090, '60': 1091, 'asid': 1092, 'brutal': 1093, 'somewher': 1094, 'steve': 1095, 'u': 1096, 'opportun': 1097, 'explor': 1098, 'depress': 1099, 'rule': 1100, 'grant': 1101, 'besid': 1102, 'honest': 1103, 'anti': 1104, 'dub': 1105, 'intend': 1106, 'trailer': 1107, 'bar': 1108, 'longer': 1109, 'regard': 1110, 'west': 1111, 'scientist': 1112, 'decad': 1113, 'judg': 1114, 'silent': 1115, 'armi': 1116, 'creativ': 1117, 'wild': 1118, 'g': 1119, 'south': 1120, 'stewart': 1121, 'draw': 1122, 'road': 1123, 'govern': 1124, 'boss': 1125, 'ex': 1126, 'practic': 1127, 'gang': 1128, 'club': 1129, 'surprisingli': 1130, 'motiv': 1131, 'festiv': 1132, 'redeem': 1133, 'london': 1134, 'page': 1135, 'green': 1136, 'aliv': 1137, 'display': 1138, 'militari': 1139, 'idiot': 1140, 'machin': 1141, 'repeat': 1142, 'thrill': 1143, 'folk': 1144, 'yeah': 1145, '100': 1146, 'nobodi': 1147, '40': 1148, 'journey': 1149, 'garbag': 1150, 'smile': 1151, 'tire': 1152, 'ground': 1153, 'mood': 1154, 'bought': 1155, 'cost': 1156, 'stone': 1157, 'sam': 1158, 'noir': 1159, 'mouth': 1160, 'agent': 1161, 'terrif': 1162, 'requir': 1163, 'utterli': 1164, 'area': 1165, 'sexi': 1166, 'honestli': 1167, 'report': 1168, 'geniu': 1169, 'humour': 1170, 'enter': 1171, 'glad': 1172, 'investig': 1173, 'serial': 1174, 'occasion': 1175, 'narr': 1176, 'passion': 1177, 'marriag': 1178, 'climax': 1179, 'industri': 1180, 'studi': 1181, 'center': 1182, 'nowher': 1183, 'ship': 1184, 'demon': 1185, 'charli': 1186, 'bear': 1187, 'loos': 1188, 'hors': 1189, 'hang': 1190, 'wow': 1191, 'graphic': 1192, 'giant': 1193, 'admir': 1194, 'send': 1195, 'damn': 1196, 'loud': 1197, 'rel': 1198, 'subtl': 1199, 'profession': 1200, 'nake': 1201, 'blow': 1202, 'bottom': 1203, 'insult': 1204, 'batman': 1205, 'doubl': 1206, 'r': 1207, 'kelli': 1208, 'boyfriend': 1209, 'initi': 1210, 'frame': 1211, 'gem': 1212, 'opera': 1213, 'cinemat': 1214, 'drawn': 1215, 'affect': 1216, 'challeng': 1217, 'church': 1218, 'j': 1219, 'nightmar': 1220, 'fulli': 1221, 'evid': 1222, 'seek': 1223, 'l': 1224, 'conflict': 1225, 'arm': 1226, 'essenti': 1227, 'henri': 1228, 'wind': 1229, 'christoph': 1230, 'grace': 1231, 'narrat': 1232, 'assum': 1233, 'witch': 1234, 'push': 1235, 'hunt': 1236, 'chri': 1237, 'wise': 1238, 'nomin': 1239, 'repres': 1240, 'month': 1241, 'avail': 1242, 'hide': 1243, 'sceneri': 1244, 'affair': 1245, 'thu': 1246, 'bond': 1247, 'smart': 1248, 'justic': 1249, 'outstand': 1250, 'interview': 1251, 'flashback': 1252, 'constantli': 1253, 'satisfi': 1254, 'presenc': 1255, 'central': 1256, 'bed': 1257, 'content': 1258, 'sell': 1259, 'iron': 1260, 'everybodi': 1261, 'gag': 1262, 'slowli': 1263, 'hotel': 1264, 'hire': 1265, 'system': 1266, 'individu': 1267, 'thrown': 1268, 'charl': 1269, 'adam': 1270, 'hey': 1271, 'jone': 1272, 'mediocr': 1273, 'allen': 1274, 'lesson': 1275, 'ray': 1276, 'billi': 1277, 'photographi': 1278, 'cameo': 1279, 'fellow': 1280, 'pari': 1281, 'strike': 1282, 'absurd': 1283, 'independ': 1284, 'rise': 1285, 'brief': 1286, 'neg': 1287, 'impact': 1288, 'phone': 1289, 'born': 1290, 'ill': 1291, 'model': 1292, 'fresh': 1293, 'spoil': 1294, 'angl': 1295, 'likabl': 1296, 'abus': 1297, 'hill': 1298, 'discuss': 1299, 'ahead': 1300, 'sight': 1301, 'sent': 1302, 'photograph': 1303, 'occur': 1304, 'logic': 1305, 'shine': 1306, 'blame': 1307, 'mainli': 1308, 'bruce': 1309, 'forev': 1310, 'commerci': 1311, 'skip': 1312, 'segment': 1313, 'held': 1314, 'teacher': 1315, 'surround': 1316, 'blond': 1317, 'zero': 1318, 'satir': 1319, 'resembl': 1320, 'trap': 1321, 'summer': 1322, 'queen': 1323, 'six': 1324, 'ball': 1325, 'fool': 1326, 'tragedi': 1327, 'twice': 1328, 'sub': 1329, 'reaction': 1330, 'pack': 1331, 'bomb': 1332, 'protagonist': 1333, 'hospit': 1334, 'will': 1335, 'sport': 1336, 'mile': 1337, 'vote': 1338, 'mom': 1339, 'jerri': 1340, 'trust': 1341, 'drink': 1342, 'encount': 1343, 'plane': 1344, 'program': 1345, 'station': 1346, 'al': 1347, 'current': 1348, 'martin': 1349, 'choos': 1350, 'celebr': 1351, 'join': 1352, 'tragic': 1353, 'field': 1354, 'round': 1355, 'lord': 1356, 'favourit': 1357, 'vision': 1358, 'jean': 1359, 'robot': 1360, 'arthur': 1361, 'tie': 1362, 'roger': 1363, 'random': 1364, 'fortun': 1365, 'psycholog': 1366, 'dread': 1367, 'intern': 1368, 'improv': 1369, 'epic': 1370, 'nonsens': 1371, 'prefer': 1372, 'highlight': 1373, 'formula': 1374, 'legend': 1375, 'pleasur': 1376, '11': 1377, 'tape': 1378, 'dollar': 1379, 'fox': 1380, 'wide': 1381, 'gorgeou': 1382, 'porn': 1383, 'thin': 1384, 'object': 1385, 'ugli': 1386, 'buddi': 1387, 'influenc': 1388, 'ii': 1389, 'nasti': 1390, 'prepar': 1391, 'warm': 1392, 'reflect': 1393, 'progress': 1394, 'supposedli': 1395, 'worthi': 1396, 'youth': 1397, 'latter': 1398, 'unusu': 1399, 'length': 1400, 'crash': 1401, 'shop': 1402, 'superior': 1403, 'childhood': 1404, 'seven': 1405, 'remot': 1406, 'theatr': 1407, 'funniest': 1408, 'paid': 1409, 'disgust': 1410, 'pilot': 1411, 'convers': 1412, 'fell': 1413, 'castl': 1414, 'trick': 1415, 'rob': 1416, 'establish': 1417, 'disast': 1418, 'gangster': 1419, 'ident': 1420, 'disappear': 1421, 'suicid': 1422, 'mine': 1423, 'heaven': 1424, 'singer': 1425, 'tend': 1426, 'mask': 1427, 'forgotten': 1428, 'decis': 1429, 'heroin': 1430, 'partner': 1431, 'brian': 1432, 'recogn': 1433, 'alan': 1434, 'desert': 1435, 'ms': 1436, 'stuck': 1437, 'p': 1438, 'sky': 1439, 'thoroughli': 1440, 'replac': 1441, 'accur': 1442, 'market': 1443, 'commentari': 1444, 'eddi': 1445, 'uncl': 1446, 'andi': 1447, 'seemingli': 1448, 'danni': 1449, 'clue': 1450, 'devil': 1451, 'jackson': 1452, 'that': 1453, 'pair': 1454, 'refus': 1455, 'therefor': 1456, 'unit': 1457, 'river': 1458, 'accid': 1459, 'fate': 1460, 'fault': 1461, 'ed': 1462, 'tune': 1463, 'afraid': 1464, 'stephen': 1465, 'russian': 1466, 'clean': 1467, 'hidden': 1468, 'captain': 1469, 'irrit': 1470, 'quick': 1471, 'convey': 1472, 'instanc': 1473, 'readi': 1474, 'test': 1475, 'european': 1476, 'frustrat': 1477, 'insan': 1478, 'daniel': 1479, 'chines': 1480, '1950': 1481, 'rescu': 1482, 'food': 1483, 'wed': 1484, 'angri': 1485, 'lock': 1486, 'dirti': 1487, 'joy': 1488, 'steven': 1489, 'price': 1490, 'cage': 1491, 'bland': 1492, 'rang': 1493, 'anymor': 1494, 'wooden': 1495, 'rush': 1496, 'news': 1497, 'n': 1498, 'jason': 1499, '12': 1500, 'worri': 1501, 'twenti': 1502, 'martial': 1503, 'led': 1504, 'board': 1505, 'hunter': 1506, 'cgi': 1507, 'transform': 1508, 'symbol': 1509, 'invent': 1510, 'onto': 1511, 'sentiment': 1512, 'johnni': 1513, 'piti': 1514, 'x': 1515, 'process': 1516, 'attitud': 1517, 'explan': 1518, 'awar': 1519, 'owner': 1520, 'aim': 1521, 'target': 1522, 'floor': 1523, 'favor': 1524, 'energi': 1525, 'necessari': 1526, 'opposit': 1527, 'religi': 1528, 'insight': 1529, 'chick': 1530, 'blind': 1531, 'window': 1532, 'movement': 1533, 'deepli': 1534, 'research': 1535, 'comparison': 1536, 'possess': 1537, 'mountain': 1538, 'whatsoev': 1539, 'comed': 1540, 'grand': 1541, 'rain': 1542, 'shadow': 1543, 'began': 1544, 'mid': 1545, 'bank': 1546, 'parodi': 1547, 'princ': 1548, 'weapon': 1549, 'taylor': 1550, 'credibl': 1551, 'friendship': 1552, 'pre': 1553, 'flesh': 1554, 'teach': 1555, 'dougla': 1556, 'terror': 1557, 'bloodi': 1558, 'hint': 1559, 'protect': 1560, 'marvel': 1561, 'drunk': 1562, 'anybodi': 1563, 'load': 1564, 'accord': 1565, 'superman': 1566, 'leader': 1567, 'watchabl': 1568, 'brown': 1569, 'freddi': 1570, 'appropri': 1571, 'jeff': 1572, 'tim': 1573, 'seat': 1574, 'hitler': 1575, 'knock': 1576, 'villag': 1577, 'keaton': 1578, 'charg': 1579, 'unknown': 1580, 'unnecessari': 1581, 'england': 1582, 'empti': 1583, 'enemi': 1584, 'media': 1585, 'dare': 1586, 'craft': 1587, 'perspect': 1588, 'wave': 1589, 'strength': 1590, 'buck': 1591, 'utter': 1592, 'ford': 1593, 'nativ': 1594, 'correct': 1595, 'contrast': 1596, 'kiss': 1597, 'magnific': 1598, 'distract': 1599, 'knowledg': 1600, 'nazi': 1601, 'speed': 1602, 'anywher': 1603, 'soap': 1604, 'chill': 1605, '1980': 1606, 'breath': 1607, 'mission': 1608, 'fred': 1609, 'ice': 1610, 'jr': 1611, 'crowd': 1612, 'joan': 1613, 'moon': 1614, 'soft': 1615, 'kate': 1616, '000': 1617, 'frighten': 1618, 'dan': 1619, 'hundr': 1620, 'nick': 1621, 'dick': 1622, 'somebodi': 1623, 'radio': 1624, 'dozen': 1625, 'simon': 1626, 'academi': 1627, 'thousand': 1628, 'andrew': 1629, 'shakespear': 1630, 'loss': 1631, 'quot': 1632, 'account': 1633, 'root': 1634, 'vehicl': 1635, 'sum': 1636, 'convent': 1637, 'leg': 1638, '1970': 1639, 'behavior': 1640, 'gold': 1641, 'regular': 1642, 'demand': 1643, 'compet': 1644, 'worker': 1645, 'pretenti': 1646, 'explos': 1647, 'notabl': 1648, 'privat': 1649, 'lynch': 1650, 'stretch': 1651, 'japan': 1652, 'candi': 1653, 'interpret': 1654, 'debut': 1655, 'constant': 1656, 'tarzan': 1657, 'translat': 1658, 'prais': 1659, 'sea': 1660, 'revolv': 1661, 'spi': 1662, 'quiet': 1663, 'franc': 1664, 'technolog': 1665, 'sat': 1666, 'threaten': 1667, 'jesu': 1668, 'ass': 1669, 'failur': 1670, 'kevin': 1671, 'higher': 1672, 'met': 1673, 'punch': 1674, 'toy': 1675, 'aid': 1676, 'abandon': 1677, 'vh': 1678, 'mike': 1679, 'interact': 1680, 'command': 1681, 'bet': 1682, 'separ': 1683, 'confront': 1684, 'techniqu': 1685, 'stunt': 1686, 'site': 1687, 'belong': 1688, 'servic': 1689, 'recal': 1690, 'gotten': 1691, 'foot': 1692, 'cabl': 1693, 'freak': 1694, 'bug': 1695, 'african': 1696, 'bright': 1697, 'fu': 1698, 'capabl': 1699, 'jimmi': 1700, 'clark': 1701, 'boat': 1702, 'succeed': 1703, 'presid': 1704, 'stock': 1705, 'fat': 1706, 'gene': 1707, 'structur': 1708, 'spanish': 1709, 'paper': 1710, 'kidnap': 1711, 'factor': 1712, 'whilst': 1713, 'belief': 1714, 'tree': 1715, 'realis': 1716, 'bob': 1717, 'complic': 1718, 'realism': 1719, 'attend': 1720, 'educ': 1721, 'witti': 1722, 'santa': 1723, 'assist': 1724, 'broken': 1725, 'finest': 1726, 'smoke': 1727, 'up': 1728, 'depart': 1729, 'determin': 1730, 'v': 1731, 'observ': 1732, 'rubbish': 1733, 'hat': 1734, 'fame': 1735, 'routin': 1736, 'domin': 1737, 'oper': 1738, 'lewi': 1739, 'advanc': 1740, 'hook': 1741, 'kinda': 1742, 'morgan': 1743, 'safe': 1744, 'foreign': 1745, 'lone': 1746, 'rank': 1747, 'numer': 1748, 'vs': 1749, 'shape': 1750, 'werewolf': 1751, 'civil': 1752, 'shallow': 1753, 'rose': 1754, 'washington': 1755, 'gari': 1756, 'morn': 1757, 'winner': 1758, 'ordinari': 1759, 'accomplish': 1760, 'kong': 1761, 'peac': 1762, 'whenev': 1763, 'grab': 1764, 'virtual': 1765, 'luck': 1766, 'h': 1767, 'offens': 1768, 'unfunni': 1769, 'complain': 1770, 'activ': 1771, 'patient': 1772, 'welcom': 1773, 'bigger': 1774, 'contriv': 1775, 'pretend': 1776, 'dimension': 1777, 'trek': 1778, 'con': 1779, 'dri': 1780, 'flash': 1781, 'cain': 1782, 'lesbian': 1783, 'code': 1784, 'wake': 1785, 'eric': 1786, 'corrupt': 1787, 'guard': 1788, 'albert': 1789, 'manipul': 1790, 'dancer': 1791, 'statu': 1792, 'awkward': 1793, 'signific': 1794, 'context': 1795, 'sourc': 1796, 'gain': 1797, 'speech': 1798, 'corni': 1799, 'psycho': 1800, 'anthoni': 1801, 'sean': 1802, '13': 1803, 'clip': 1804, 'reli': 1805, 'theatric': 1806, 'advic': 1807, 'curiou': 1808, 'religion': 1809, 'w': 1810, 'priest': 1811, 'flow': 1812, 'addict': 1813, 'asian': 1814, 'secur': 1815, 'skin': 1816, 'jennif': 1817, 'specif': 1818, 'howard': 1819, 'golden': 1820, 'core': 1821, 'organ': 1822, 'comfort': 1823, 'promot': 1824, 'luke': 1825, 'cash': 1826, 'lucki': 1827, 'cheat': 1828, 'associ': 1829, 'lower': 1830, 'dislik': 1831, 'contribut': 1832, 'frequent': 1833, 'regret': 1834, 'frankli': 1835, 'devic': 1836, 'degre': 1837, 'spell': 1838, 'wing': 1839, 'balanc': 1840, 'print': 1841, 'lake': 1842, 'sake': 1843, 'forgiv': 1844, 'mass': 1845, 'thoma': 1846, 'betti': 1847, 'unexpect': 1848, 'crack': 1849, 'gordon': 1850, 'construct': 1851, 'grown': 1852, 'unfold': 1853, 'categori': 1854, 'amateur': 1855, 'invit': 1856, 'depend': 1857, 'matur': 1858, 'grew': 1859, 'walter': 1860, 'intellectu': 1861, 'honor': 1862, 'anna': 1863, 'condit': 1864, 'sole': 1865, 'mirror': 1866, 'veteran': 1867, 'sudden': 1868, 'spectacular': 1869, 'meanwhil': 1870, 'freedom': 1871, 'demonstr': 1872, 'liner': 1873, 'experienc': 1874, 'overli': 1875, 'grip': 1876, 'card': 1877, 'gift': 1878, 'robin': 1879, 'brilliantli': 1880, 'section': 1881, 'sheriff': 1882, 'circumst': 1883, 'colour': 1884, 'oliv': 1885, 'crappi': 1886, 'subtitl': 1887, 'drew': 1888, 'unabl': 1889, 'theori': 1890, 'cook': 1891, 'path': 1892, 'parker': 1893, 'matt': 1894, 'sheer': 1895, 'pile': 1896, 'altern': 1897, 'laughter': 1898, 'hall': 1899, 'wander': 1900, 'treatment': 1901, 'sinatra': 1902, 'relief': 1903, 'accident': 1904, 'defin': 1905, 'lawyer': 1906, 'dragon': 1907, 'captiv': 1908, 'hank': 1909, 'moor': 1910, 'halloween': 1911, 'gratuit': 1912, 'broadway': 1913, 'k': 1914, 'wound': 1915, 'barbara': 1916, 'kung': 1917, 'jacki': 1918, 'unintent': 1919, 'wayn': 1920, 'cowboy': 1921, 'canadian': 1922, 'surreal': 1923, 'statement': 1924, 'winter': 1925, 'spoof': 1926, 'fish': 1927, 'compos': 1928, 'treasur': 1929, 'cheer': 1930, 'gonna': 1931, 'fare': 1932, 'unrealist': 1933, 'victor': 1934, 'sensit': 1935, 'emerg': 1936, 'woodi': 1937, 'driven': 1938, 'sympathet': 1939, 'ran': 1940, 'neighbor': 1941, 'glass': 1942, 'menac': 1943, 'expos': 1944, 'overlook': 1945, 'topic': 1946, 'authent': 1947, 'handsom': 1948, 'michel': 1949, 'ancient': 1950, 'gross': 1951, 'chief': 1952, 'pleasant': 1953, 'built': 1954, 'cinderella': 1955, 'contemporari': 1956, 'stranger': 1957, 'russel': 1958, 'network': 1959, 'nevertheless': 1960, 'comedian': 1961, 'feet': 1962, 'earn': 1963, 'consider': 1964, 'letter': 1965, 'underr': 1966, 'blockbust': 1967, 'miser': 1968, 'gori': 1969, 'endless': 1970, 'solv': 1971, 'switch': 1972, 'brook': 1973, 'convict': 1974, 'joseph': 1975, 'virgin': 1976, 'bullet': 1977, 'edward': 1978, 'victoria': 1979, 'chosen': 1980, 'cynic': 1981, 'scenario': 1982, 'scale': 1983, '0': 1984, 'alex': 1985, 'com': 1986, 'outrag': 1987, 'gut': 1988, 'sword': 1989, 'curs': 1990, 'wrap': 1991, 'juli': 1992, 'proper': 1993, 'monkey': 1994, 'substanc': 1995, 'screenwrit': 1996, 'driver': 1997, 'uk': 1998, 'par': 1999, 'remov': 2000, 'indic': 2001, 'bird': 2002, 'court': 2003, 'naiv': 2004, 'rental': 2005, 'inevit': 2006, 'loser': 2007, 'nanci': 2008, 'grave': 2009, 'consequ': 2010, 'roy': 2011, 'advertis': 2012, 'le': 2013, 'fatal': 2014, 'brave': 2015, 'germani': 2016, 'invis': 2017, 'bridg': 2018, 'slap': 2019, 'provok': 2020, 'footbal': 2021, 'anger': 2022, 'loui': 2023, 'ador': 2024, 'alcohol': 2025, 'chan': 2026, 'anderson': 2027, 'willi': 2028, 'stumbl': 2029, 'ryan': 2030, 'professor': 2031, 'assassin': 2032, '1930': 2033, 'australian': 2034, 'patrick': 2035, 'sharp': 2036, 'bat': 2037, 'cell': 2038, 'liber': 2039, 'deni': 2040, 'trilog': 2041, 'ape': 2042, 'refresh': 2043, 'amateurish': 2044, 'strongli': 2045, 'eight': 2046, 'saturday': 2047, 'lousi': 2048, 'heck': 2049, 'sin': 2050, 'resid': 2051, 'justifi': 2052, 'san': 2053, 'vagu': 2054, 'sympathi': 2055, 'reput': 2056, 'defeat': 2057, 'mini': 2058, 'creator': 2059, 'indi': 2060, 'terrifi': 2061, 'prevent': 2062, 'task': 2063, 'expert': 2064, 'endur': 2065, 'tabl': 2066, 'tediou': 2067, 'rival': 2068, 'imit': 2069, 'offend': 2070, 'trial': 2071, 'employ': 2072, 'che': 2073, 'basebal': 2074, 'beach': 2075, 'max': 2076, 'europ': 2077, 'dig': 2078, 'fairi': 2079, 'weekend': 2080, 'complaint': 2081, 'pitch': 2082, 'purchas': 2083, 'murphi': 2084, 'format': 2085, 'risk': 2086, 'harsh': 2087, 'glimps': 2088, 'powel': 2089, 'nois': 2090, 'bite': 2091, 'tini': 2092, 'titan': 2093, 'hype': 2094, 'reminisc': 2095, 'prime': 2096, 'till': 2097, '14': 2098, 'fals': 2099, 'strip': 2100, 'asleep': 2101, 'north': 2102, 'revel': 2103, 'descript': 2104, 'africa': 2105, 'texa': 2106, 'destruct': 2107, 'sitcom': 2108, 'inner': 2109, 'arrest': 2110, 'surfac': 2111, 'uninterest': 2112, 'excess': 2113, 'semi': 2114, 'spin': 2115, 'makeup': 2116, 'massiv': 2117, 'controversi': 2118, 'maintain': 2119, 'hitchcock': 2120, 'argu': 2121, 'twin': 2122, 'dinosaur': 2123, 'stare': 2124, 'expens': 2125, 'insist': 2126, 'kim': 2127, 'ideal': 2128, 'reject': 2129, 'melodrama': 2130, 'ludicr': 2131, 'host': 2132, 'supernatur': 2133, 'columbo': 2134, 'nail': 2135, 'subplot': 2136, 'ga': 2137, 'forest': 2138, 'erot': 2139, 'ala': 2140, 'press': 2141, 'atroci': 2142, 'notch': 2143, 'identifi': 2144, 'dude': 2145, 'cant': 2146, 'presum': 2147, 'method': 2148, 'closer': 2149, 'plagu': 2150, 'forgett': 2151, 'guest': 2152, 'character': 2153, 'crude': 2154, 'foster': 2155, 'border': 2156, 'ear': 2157, 'landscap': 2158, 'beast': 2159, 'lion': 2160, 'princess': 2161, 'accus': 2162, 'bound': 2163, 'storytel': 2164, 'damag': 2165, 'aunt': 2166, 'previous': 2167, 'pacino': 2168, 'birth': 2169, 'urban': 2170, 'jungl': 2171, 'propaganda': 2172, 'nude': 2173, 'jess': 2174, 'emma': 2175, 'thirti': 2176, 'chose': 2177, 'guid': 2178, 'doll': 2179, 'pet': 2180, '25': 2181, 'mate': 2182, 'mainstream': 2183, 'warrior': 2184, 'whoever': 2185, 'gritti': 2186, 'friday': 2187, 'poster': 2188, 'exact': 2189, 'upset': 2190, 'deadli': 2191, 'latest': 2192, 'merit': 2193, 'size': 2194, 'cooper': 2195, 'contact': 2196, 'popul': 2197, 'warner': 2198, 'sun': 2199, 'citizen': 2200, 'ton': 2201, 'blend': 2202, 'corps': 2203, 'buff': 2204, 'wilson': 2205, 'contest': 2206, '1990': 2207, 'settl': 2208, 'rough': 2209, 'pitt': 2210, 'overcom': 2211, 'select': 2212, 'bu': 2213, 'mgm': 2214, 'environ': 2215, 'alic': 2216, 'widow': 2217, 'metal': 2218, 'rat': 2219, 'particip': 2220, 'link': 2221, 'revolut': 2222, 'ted': 2223, 'lift': 2224, 'guilti': 2225, 'exagger': 2226, 'afternoon': 2227, '1960': 2228, 'johnson': 2229, 'matrix': 2230, 'accompani': 2231, 'prostitut': 2232, 'corner': 2233, 'moron': 2234, 'corpor': 2235, 'friendli': 2236, 'instal': 2237, 'multipl': 2238, 'hood': 2239, 'doom': 2240, 'leagu': 2241, 'sincer': 2242, 'holm': 2243, 'clair': 2244, 'irish': 2245, 'campi': 2246, 'sunday': 2247, 'aka': 2248, 'examin': 2249, 'junk': 2250, 'string': 2251, 'hip': 2252, 'advis': 2253, 'grim': 2254, 'defend': 2255, 'lugosi': 2256, 'blah': 2257, 'shut': 2258, 'varieti': 2259, 'tight': 2260, 'confid': 2261, 'shake': 2262, 'pro': 2263, 'icon': 2264, 'rachel': 2265, 'mexican': 2266, 'goal': 2267, 'directli': 2268, 'sullivan': 2269, 'jaw': 2270, 'attach': 2271, 'denni': 2272, 'medic': 2273, 'vietnam': 2274, 'prior': 2275, 'terrorist': 2276, 'bourn': 2277, 'legendari': 2278, 'courag': 2279, 'duke': 2280, 'sentenc': 2281, 'breast': 2282, 'dean': 2283, 'sarah': 2284, 'truck': 2285, 'donald': 2286, 'nose': 2287, 'split': 2288, 'entri': 2289, 'un': 2290, 'behav': 2291, 'hong': 2292, 'proceed': 2293, 'yell': 2294, 'swim': 2295, 'crush': 2296, 'buri': 2297, 'borrow': 2298, 'jerk': 2299, 'confess': 2300, 'everywher': 2301, 'forth': 2302, 'concentr': 2303, 'lifetim': 2304, 'gather': 2305, 'unconvinc': 2306, 'stolen': 2307, 'deliveri': 2308, 'lip': 2309, 'california': 2310, 'julia': 2311, 'turkey': 2312, 'pan': 2313, 'spite': 2314, 'offici': 2315, 'proud': 2316, 'hoffman': 2317, 'china': 2318, 'downright': 2319, 'reward': 2320, 'freeman': 2321, 'quest': 2322, 'flight': 2323, 'encourag': 2324, 'fabul': 2325, 'jon': 2326, 'lazi': 2327, 'notori': 2328, 'inept': 2329, 'betray': 2330, 'fade': 2331, 'sink': 2332, 'jail': 2333, 'worthwhil': 2334, 'sir': 2335, 'susan': 2336, 'lisa': 2337, 'storm': 2338, 'bell': 2339, 'teeth': 2340, 'cousin': 2341, 'shower': 2342, 'survivor': 2343, 'retard': 2344, 'bag': 2345, 'branagh': 2346, 'imageri': 2347, 'relev': 2348, 'bride': 2349, 'toler': 2350, 'tremend': 2351, 'finger': 2352, 'summari': 2353, 'quirki': 2354, 'shark': 2355, 'stab': 2356, 'trade': 2357, 'facial': 2358, 'alright': 2359, 'mexico': 2360, 'hugh': 2361, 'blown': 2362, 'von': 2363, 'pose': 2364, 'bitter': 2365, 'hyster': 2366, 'ha': 2367, 'cruel': 2368, 'ron': 2369, 'afterward': 2370, 'scheme': 2371, 'bone': 2372, 'christ': 2373, 'address': 2374, 'larri': 2375, 'ned': 2376, 'feed': 2377, 'tour': 2378, 'pursu': 2379, 'swear': 2380, 'beg': 2381, 'distinct': 2382, 'traci': 2383, 'screw': 2384, 'thumb': 2385, 'snake': 2386, 'mechan': 2387, 'chair': 2388, 'stomach': 2389, 'obscur': 2390, 'occas': 2391, 'raw': 2392, 'photo': 2393, 'resist': 2394, 'argument': 2395, 'sidney': 2396, 'gruesom': 2397, 'heavili': 2398, 'holiday': 2399, 'render': 2400, 'chain': 2401, 'necessarili': 2402, 'southern': 2403, 'hardi': 2404, 'cabin': 2405, 'understood': 2406, 'satan': 2407, 'indulg': 2408, 'racist': 2409, 'india': 2410, 'philip': 2411, 'tongu': 2412, 'belov': 2413, 'integr': 2414, 'stalk': 2415, 'fourth': 2416, 'forgot': 2417, 'lay': 2418, 'outfit': 2419, 'pregnant': 2420, 'midnight': 2421, 'obnoxi': 2422, 'carol': 2423, 'inhabit': 2424, '17': 2425, 'garden': 2426, 'restor': 2427, 'magazin': 2428, 'deeper': 2429, 'ticket': 2430, 'slapstick': 2431, 'brad': 2432, 'incid': 2433, 'devot': 2434, 'lincoln': 2435, 'shoe': 2436, 'underground': 2437, 'disbelief': 2438, 'divorc': 2439, 'anticip': 2440, 'benefit': 2441, 'maria': 2442, 'elizabeth': 2443, 'lili': 2444, 'guarante': 2445, 'sandler': 2446, 'amazingli': 2447, 'greater': 2448, 'capit': 2449, 'explod': 2450, 'bbc': 2451, 'creation': 2452, 'slave': 2453, 'cring': 2454, 'princip': 2455, 'mildli': 2456, 'extraordinari': 2457, 'lesli': 2458, 'introduct': 2459, 'halfway': 2460, 'funnier': 2461, 'enhanc': 2462, 'overwhelm': 2463, 'text': 2464, 'extent': 2465, 'advantag': 2466, 'wreck': 2467, 'transfer': 2468, 'punish': 2469, 'tap': 2470, 'horrif': 2471, 'lo': 2472, 'east': 2473, 'lane': 2474, 'preview': 2475, 'plant': 2476, 'error': 2477, 'dynam': 2478, 'deliber': 2479, 'jessica': 2480, 'miscast': 2481, 'sophist': 2482, 'vacat': 2483, 'basi': 2484, 'vincent': 2485, 'appli': 2486, 'miller': 2487, 'ensu': 2488, 'homosexu': 2489, '2000': 2490, 'spoken': 2491, 'uncomfort': 2492, 'extend': 2493, 'measur': 2494, 'bollywood': 2495, 'sleazi': 2496, 'mansion': 2497, 'steel': 2498, 'via': 2499, 'elev': 2500, 'reed': 2501, 'stanley': 2502, 'mous': 2503, 'alter': 2504, 'assign': 2505, 'fix': 2506, 'blair': 2507, 'breathtak': 2508, 'goofi': 2509, 'beer': 2510, 'daili': 2511, 'overact': 2512, 'conceiv': 2513, 'cathol': 2514, 'hippi': 2515, 'savag': 2516, 'melt': 2517, 'dentist': 2518, 'everyday': 2519, 'properli': 2520, 'succe': 2521, 'carpent': 2522, 'subsequ': 2523, 'nowaday': 2524, 'sacrific': 2525, 'oppos': 2526, 'burt': 2527, 'inspector': 2528, 'laura': 2529, 'block': 2530, 'circl': 2531, 'neck': 2532, 'massacr': 2533, 'pool': 2534, 'fallen': 2535, 'access': 2536, 'lesser': 2537, 'concert': 2538, 'mob': 2539, 'christi': 2540, 'grey': 2541, 'portrait': 2542, 'seagal': 2543, 'fay': 2544, 'usa': 2545, 'chees': 2546, 'jewish': 2547, 'react': 2548, 'isol': 2549, 'jake': 2550, 'sinist': 2551, 'competit': 2552, 'relax': 2553, '2006': 2554, 'immens': 2555, 'appal': 2556, 'suitabl': 2557, 'stink': 2558, 'spiritu': 2559, 'creep': 2560, 'chop': 2561, 'ironi': 2562, 'lyric': 2563, 'nine': 2564, 'nonetheless': 2565, 'sold': 2566, 'spring': 2567, 'navi': 2568, 'showcas': 2569, 'rage': 2570, 'franchis': 2571, 'reduc': 2572, 'luci': 2573, 'user': 2574, 'adopt': 2575, 'needless': 2576, 'shirt': 2577, 'nut': 2578, 'retir': 2579, 'per': 2580, 'zone': 2581, 'bulli': 2582, 'digit': 2583, 'asham': 2584, 'uninspir': 2585, 'bath': 2586, 'jay': 2587, 'stanwyck': 2588, 'nurs': 2589, 'illustr': 2590, 'laid': 2591, 'sutherland': 2592, 'upper': 2593, 'oddli': 2594, 'broadcast': 2595, 'amongst': 2596, '2001': 2597, '1940': 2598, 'aspir': 2599, 'disguis': 2600, 'stylish': 2601, 'fulfil': 2602, 'throat': 2603, 'baker': 2604, 'brando': 2605, 'impli': 2606, 'pound': 2607, 'wanna': 2608, 'endear': 2609, 'nobl': 2610, '18': 2611, 'thief': 2612, 'wwii': 2613, 'neighborhood': 2614, 'em': 2615, 'pride': 2616, 'bo': 2617, 'cinematograph': 2618, 'coher': 2619, 'dawn': 2620, 'bett': 2621, 'shoulder': 2622, 'shift': 2623, 'tens': 2624, 'rochest': 2625, 'distribut': 2626, 'dinner': 2627, 'prop': 2628, 'albeit': 2629, 'diseas': 2630, '16': 2631, 'function': 2632, 'wash': 2633, 'forti': 2634, 'shout': 2635, 'poignant': 2636, 'surf': 2637, 'silenc': 2638, 'rebel': 2639, 'snow': 2640, 'contract': 2641, 'matthau': 2642, 'knife': 2643, 'instinct': 2644, 'derek': 2645, 'heat': 2646, 'height': 2647, 'duti': 2648, 'chuck': 2649, 'cancel': 2650, 'cannib': 2651, 'silver': 2652, 'widmark': 2653, 'internet': 2654, 'horrend': 2655, 'mindless': 2656, 'reunion': 2657, 'eeri': 2658, 'proof': 2659, 'henc': 2660, 'elvira': 2661, 'spielberg': 2662, 'premier': 2663, 'musician': 2664, 'greatli': 2665, 'pie': 2666, 'alik': 2667, 'innov': 2668, 'repetit': 2669, 'neat': 2670, 'glori': 2671, 'absorb': 2672, 'incoher': 2673, 'mill': 2674, 'torn': 2675, 'etern': 2676, 'elvi': 2677, 'blank': 2678, 'infam': 2679, 'racism': 2680, 'horrifi': 2681, 'bang': 2682, 'trite': 2683, 'redempt': 2684, 'precis': 2685, 'britain': 2686, 'wealthi': 2687, 'diamond': 2688, 'crisi': 2689, 'announc': 2690, 'fbi': 2691, 'homag': 2692, 'itali': 2693, 'burton': 2694, 'lovabl': 2695, 'nelson': 2696, 'dedic': 2697, 'ensembl': 2698, 'resolut': 2699, 'happili': 2700, 'wilder': 2701, 'chaplin': 2702, 'pat': 2703, 'helen': 2704, 'flop': 2705, 'parallel': 2706, 'streisand': 2707, 'hammer': 2708, 'conclud': 2709, 'oil': 2710, 'triumph': 2711, 'cube': 2712, 'disagre': 2713, 'plastic': 2714, 'st': 2715, 'carter': 2716, 'broke': 2717, 'mar': 2718, 'factori': 2719, 'climb': 2720, 'row': 2721, 'chuckl': 2722, 'fighter': 2723, 'weight': 2724, 'own': 2725, 'vega': 2726, 'bush': 2727, 'rocket': 2728, 'march': 2729, 'enorm': 2730, 'luca': 2731, 'sensibl': 2732, 'unforgett': 2733, 'mst3k': 2734, 'boot': 2735, 'kurt': 2736, 'wherea': 2737, 'spare': 2738, 'thug': 2739, 'lust': 2740, 'dane': 2741, 'meaning': 2742, 'dump': 2743, 'stress': 2744, 'fifti': 2745, 'dear': 2746, 'engin': 2747, 'arnold': 2748, 'adequ': 2749, 'difficulti': 2750, 'threat': 2751, 'caricatur': 2752, 'brand': 2753, 'rap': 2754, 'bobbi': 2755, 'butt': 2756, 'karloff': 2757, 'arrog': 2758, 'polish': 2759, 'swing': 2760, 'fest': 2761, 'secretari': 2762, 'elabor': 2763, 'flynn': 2764, 'ralph': 2765, 'homeless': 2766, 'journalist': 2767, 'ego': 2768, 'barri': 2769, 'hamlet': 2770, 'simpson': 2771, 'tool': 2772, 'resort': 2773, 'conspiraci': 2774, 'arrang': 2775, 'induc': 2776, 'fanci': 2777, 'float': 2778, 'spike': 2779, 'grate': 2780, 'unbear': 2781, 'puppet': 2782, 'tribut': 2783, 'pig': 2784, 'guilt': 2785, 'basement': 2786, 'boll': 2787, 'exercis': 2788, 'phillip': 2789, 'choreograph': 2790, 'cruis': 2791, 'muppet': 2792, 'ward': 2793, 'medium': 2794, 'toilet': 2795, 'scarecrow': 2796, 'puzzl': 2797, 'editor': 2798, 'item': 2799, '24': 2800, 'ham': 2801, 'document': 2802, 'layer': 2803, 'slip': 2804, 'file': 2805, 'tower': 2806, 'korean': 2807, 'stan': 2808, 'fianc': 2809, 'babe': 2810, 'transit': 2811, 'superfici': 2812, 'portion': 2813, 'larger': 2814, 'inexplic': 2815, 'catherin': 2816, 'spark': 2817, 'assur': 2818, 'philosoph': 2819, 'minim': 2820, 'doc': 2821, 'orient': 2822, 'librari': 2823, 'glover': 2824, 'persona': 2825, 'slaughter': 2826, 'territori': 2827, 'denzel': 2828, 'shi': 2829, 'jet': 2830, 'dorothi': 2831, 'sneak': 2832, 'jeremi': 2833, 'pg': 2834, 'wolf': 2835, 'walken': 2836, 'boredom': 2837, 'owe': 2838, 'financi': 2839, 'ban': 2840, 'curti': 2841, 'ambigu': 2842, 'profound': 2843, 'hudson': 2844, 'cusack': 2845, 'backdrop': 2846, 'multi': 2847, 'metaphor': 2848, 'eleph': 2849, 'whale': 2850, 'union': 2851, 'ultra': 2852, '2005': 2853, 'hack': 2854, 'birthday': 2855, 'rave': 2856, 'implaus': 2857, 'elsewher': 2858, 'notion': 2859, 'viru': 2860, 'stiff': 2861, 'gadget': 2862, 'slight': 2863, 'eva': 2864, 'urg': 2865, 'hawk': 2866, 'eastwood': 2867, 'newspap': 2868, 'pad': 2869, 'poison': 2870, 'reader': 2871, 'lloyd': 2872, 'disc': 2873, 'superhero': 2874, 'deriv': 2875, 'afford': 2876, '1st': 2877, 'squar': 2878, 'canada': 2879, 'bibl': 2880, 'distanc': 2881, 'charisma': 2882, 'button': 2883, 'restaur': 2884, 'montag': 2885, 'skit': 2886, 'essenc': 2887, 'sadist': 2888, 'huh': 2889, 'health': 2890, 'spread': 2891, 'heston': 2892, 'cure': 2893, 'drown': 2894, 'invest': 2895, 'godfath': 2896, 'muslim': 2897, 'dealt': 2898, 'peak': 2899, 'gradual': 2900, 'companion': 2901, 'maniac': 2902, 'fetch': 2903, 'scoobi': 2904, 'lab': 2905, 'estat': 2906, 'servant': 2907, 'subtleti': 2908, 'cup': 2909, 'gothic': 2910, 'countless': 2911, 'kane': 2912, 'ritter': 2913, 'alli': 2914, 'tea': 2915, 'miik': 2916, 'charismat': 2917, 'electr': 2918, 'elect': 2919, 'briefli': 2920, 'salli': 2921, 'iii': 2922, 'heroic': 2923, 'resourc': 2924, 'tender': 2925, 'reel': 2926, 'admittedli': 2927, 'wannab': 2928, 'cole': 2929, 'bud': 2930, 'neil': 2931, 'nuanc': 2932, 'toss': 2933, 'ingredi': 2934, 'grandmoth': 2935, 'punk': 2936, 'poverti': 2937, 'kubrick': 2938, 'pit': 2939, 'reev': 2940, 'mild': 2941, 'stood': 2942, 'stronger': 2943, 'mafia': 2944, 'carrey': 2945, 'label': 2946, 'pauli': 2947, 'shall': 2948, 'dawson': 2949, 'gate': 2950, 'terri': 2951, 'easier': 2952, 'smash': 2953, 'outcom': 2954, 'bakshi': 2955, 'burst': 2956, 'assault': 2957, 'cardboard': 2958, 'ian': 2959, 'fond': 2960, 'useless': 2961, 'smooth': 2962, 'updat': 2963, 'tag': 2964, 'astair': 2965, 'cox': 2966, 'resolv': 2967, 'vari': 2968, 'exchang': 2969, 'samurai': 2970, 'fist': 2971, 'divers': 2972, 'melodramat': 2973, 'sketch': 2974, 'qualifi': 2975, 'rex': 2976, 'vulner': 2977, 'increasingli': 2978, 'coincid': 2979, '2002': 2980, 'brillianc': 2981, 'suspend': 2982, 'be': 2983, 'templ': 2984, 'luckili': 2985, 'tame': 2986, 'conveni': 2987, 'scratch': 2988, 'reynold': 2989, 'blast': 2990, 'insert': 2991, 'hamilton': 2992, 'coach': 2993, 'gotta': 2994, 'fisher': 2995, 'ambiti': 2996, 'farm': 2997, 'pin': 2998, 'strictli': 2999, 'jami': 3000, 'walker': 3001, 'matthew': 3002, 'soprano': 3003, 'meat': 3004, 'seventi': 3005, 'nuclear': 3006, 'grasp': 3007, 'kudo': 3008, 'clock': 3009, 'monk': 3010, 'cave': 3011, 'ninja': 3012, 'instantli': 3013, 'revers': 3014, 'discoveri': 3015, 'butcher': 3016, 'eccentr': 3017, 'closet': 3018, 'recreat': 3019, 'empir': 3020, 'brosnan': 3021, 'struck': 3022, 'timeless': 3023, 'spooki': 3024, 'convolut': 3025, 'joey': 3026, 'worthless': 3027, 'inconsist': 3028, 'partli': 3029, 'bleak': 3030, 'mitchel': 3031, 'sidekick': 3032, 'sloppi': 3033, 'norman': 3034, 'evok': 3035, 'miracl': 3036, 'clown': 3037, 'eighti': 3038, 'importantli': 3039, 'declar': 3040, 'wipe': 3041, 'fifteen': 3042, 'cliff': 3043, 'seller': 3044, 'communist': 3045, 'gray': 3046, 'selfish': 3047, 'pal': 3048, 'cheek': 3049, 'piano': 3050, 'enthusiast': 3051, 'seed': 3052, 'superbl': 3053, 'lifestyl': 3054, 'debat': 3055, 'websit': 3056, 'farc': 3057, 'chew': 3058, 'destin': 3059, 'psychiatrist': 3060, '45': 3061, 'ho': 3062, 'australia': 3063, 'flawless': 3064, 'aforement': 3065, 'stoog': 3066, 'regardless': 3067, 'pressur': 3068, 'wick': 3069, 'incompet': 3070, 'emili': 3071, 'drivel': 3072, 'directori': 3073, 'dash': 3074, 'dire': 3075, 'soviet': 3076, 'kitchen': 3077, 'akshay': 3078, 'slice': 3079, 'anni': 3080, 'abc': 3081, 'bash': 3082, 'wrestl': 3083, 'splatter': 3084, 'artifici': 3085, 'curios': 3086, 'judi': 3087, 'prize': 3088, 'pleasantli': 3089, 'flower': 3090, 'chapter': 3091, 'lou': 3092, 'ken': 3093, 'boil': 3094, 'duo': 3095, 'increas': 3096, 'recov': 3097, 'distant': 3098, 'seduc': 3099, 'beaten': 3100, 'jar': 3101, 'helicopt': 3102, 'glow': 3103, 'blob': 3104, 'cameron': 3105, 'cia': 3106, 'doo': 3107, 'cagney': 3108, 'suppli': 3109, 'mann': 3110, 'dave': 3111, 'ellen': 3112, 'web': 3113, 'drunken': 3114, 'goldberg': 3115, 'hop': 3116, 'francisco': 3117, 'turner': 3118, 'glenn': 3119, 'favour': 3120, 'ranger': 3121, 'eleg': 3122, 'craven': 3123, 'panic': 3124, 'splendid': 3125, 'combat': 3126, 'psychot': 3127, 'craig': 3128, 'laurel': 3129, 'perri': 3130, 'ruth': 3131, 'shortli': 3132, 'falk': 3133, 'plausibl': 3134, 'wizard': 3135, 'graduat': 3136, 'gentl': 3137, '20th': 3138, 'min': 3139, 'rid': 3140, 'flip': 3141, 'alexand': 3142, 'philosophi': 3143, 'modesti': 3144, 'greek': 3145, 'slightest': 3146, 'fx': 3147, 'gandhi': 3148, 'hatr': 3149, 'ocean': 3150, 'dracula': 3151, 'jealou': 3152, 'fund': 3153, 'we': 3154, 'unpleas': 3155, 'lend': 3156, 'preciou': 3157, 'futurist': 3158, 'manhattan': 3159, 'tall': 3160, 'harm': 3161, 'knight': 3162, 'holi': 3163, 'felix': 3164, 'legal': 3165, 'explicit': 3166, 'nod': 3167, 'overdon': 3168, 'childish': 3169, 'forbidden': 3170, 'scientif': 3171, 'digniti': 3172, 'ami': 3173, 'bless': 3174, 'thread': 3175, 'reviv': 3176, 'tank': 3177, 'giallo': 3178, 'mock': 3179, 'pirat': 3180, 'broad': 3181, 'thick': 3182, 'awaken': 3183, 'awe': 3184, 'margaret': 3185, 'unwatch': 3186, 'fever': 3187, 'eve': 3188, '2004': 3189, 'yesterday': 3190, '99': 3191, 'torment': 3192, 'repeatedli': 3193, 'verhoeven': 3194, 'elderli': 3195, 'mel': 3196, 'nerv': 3197, 'bin': 3198, 'custom': 3199, 'uniform': 3200, 'stiller': 3201, 'launch': 3202, 'ah': 3203, 'lean': 3204, 'romero': 3205, 'timothi': 3206, 'kay': 3207, 'griffith': 3208, 'rivet': 3209, 'absenc': 3210, 'royal': 3211, 'publish': 3212, 'politician': 3213, 'automat': 3214, 'ambit': 3215, 'roman': 3216, 'eas': 3217, 'acclaim': 3218, 'stinker': 3219, 'warren': 3220, 'darker': 3221, 'transport': 3222, 'antic': 3223, 'homicid': 3224, 'sunshin': 3225, 'pulp': 3226, 'bathroom': 3227, 'purpl': 3228, 'wallac': 3229, 'phrase': 3230, 'gabriel': 3231, 'termin': 3232, 'foul': 3233, 'crook': 3234, 'pierc': 3235, 'tomato': 3236, 'ought': 3237, 'eyr': 3238, 'choreographi': 3239, 'hollow': 3240, 'brazil': 3241, 'revolutionari': 3242, 'li': 3243, 'saint': 3244, 'contrari': 3245, 'packag': 3246, '2003': 3247, 'q': 3248, 'coloni': 3249, 'marin': 3250, 'pray': 3251, 'juvenil': 3252, 'viciou': 3253, 'awak': 3254, 'album': 3255, 'karen': 3256, 'kenneth': 3257, 'prom': 3258, 'horrid': 3259, 'sixti': 3260, 'rambo': 3261, 'donna': 3262, 'evolv': 3263, 'nerd': 3264, 'ireland': 3265, 'blade': 3266, 'kapoor': 3267, 'candid': 3268, 'twelv': 3269, 'defi': 3270, 'conserv': 3271, 'boast': 3272, 'stole': 3273, 'overr': 3274, 'option': 3275, 'mildr': 3276, 'beatti': 3277, 'mummi': 3278, 'dose': 3279, 'ramon': 3280, 'altman': 3281, 'jazz': 3282, 'detract': 3283, 'natali': 3284, 'global': 3285, 'confirm': 3286, 'kirk': 3287, 'funer': 3288, 'flame': 3289, 'astonish': 3290, 'fulci': 3291, 'collabor': 3292, 'trio': 3293, 'protest': 3294, 'racial': 3295, 'bottl': 3296, 'yellow': 3297, 'whip': 3298, 'delici': 3299, 'mystic': 3300, 'nicholson': 3301, 'shade': 3302, 'tommi': 3303, 'destini': 3304, 'leap': 3305, 'blake': 3306, 'bull': 3307, 'enterpris': 3308, 'spit': 3309, 'audio': 3310, 'harder': 3311, 'reunit': 3312, 'bedroom': 3313, 'staff': 3314, 'vivid': 3315, 'enchant': 3316, 'fonda': 3317, 'popcorn': 3318, 'inherit': 3319, 'pseudo': 3320, 'merci': 3321, 'altogeth': 3322, 'adolesc': 3323, 'threw': 3324, 'visibl': 3325, 'meaningless': 3326, 'neo': 3327, 'swedish': 3328, 'todd': 3329, 'uneven': 3330, 'wire': 3331, 'decor': 3332, 'fanat': 3333, 'bust': 3334, 'await': 3335, 'respond': 3336, 'synopsi': 3337, 'reserv': 3338, 'lawrenc': 3339, 'voight': 3340, 'kennedi': 3341, 'suspici': 3342, 'crocodil': 3343, 'befriend': 3344, 'tip': 3345, 'moodi': 3346, 'leonard': 3347, 'ruthless': 3348, 'exhibit': 3349, 'roommat': 3350, 'edi': 3351, 'jew': 3352, 'atlanti': 3353, 'lemmon': 3354, 'madonna': 3355, 'dimens': 3356, 'bargain': 3357, 'ventur': 3358, 'bradi': 3359, 'audit': 3360, 'clint': 3361, 'unsettl': 3362, 'carl': 3363, 'rural': 3364, '2007': 3365, 'chao': 3366, 'palma': 3367, 'holli': 3368, 'bold': 3369, 'incident': 3370, 'abysm': 3371, 'voyag': 3372, 'garner': 3373, 'clumsi': 3374, 'centr': 3375, 'poetic': 3376, 'characterist': 3377, 'hart': 3378, 'cuba': 3379, 'trail': 3380, 'tiger': 3381, '2nd': 3382, 'immigr': 3383, 'wealth': 3384, 'mall': 3385, 'cari': 3386, 'troop': 3387, 'imperson': 3388, 'humili': 3389, 'cd': 3390, 'lit': 3391, 'neglect': 3392, 'ant': 3393, 'versu': 3394, 'nearbi': 3395, 'daddi': 3396, 'echo': 3397, 'elimin': 3398, 'acknowledg': 3399, 'timon': 3400, 'paus': 3401, 'pun': 3402, 'solo': 3403, 'collaps': 3404, 'prejudic': 3405, 'domest': 3406, 'marshal': 3407, 'jeffrey': 3408, 'repuls': 3409, 'celluloid': 3410, 'mistaken': 3411, 'homer': 3412, 'mickey': 3413, 'saga': 3414, 'infect': 3415, 'chest': 3416, 'milk': 3417, 'hbo': 3418, '1996': 3419, 'undoubtedli': 3420, 'apolog': 3421, 'coat': 3422, 'pant': 3423, 'promin': 3424, 'cake': 3425, 'coffe': 3426, 'ginger': 3427, 'harvey': 3428, 'inappropri': 3429, 'interrupt': 3430, 'leon': 3431, 'inan': 3432, 'sore': 3433, 'assembl': 3434, 'gear': 3435, 'tribe': 3436, 'equip': 3437, 'olivi': 3438, 'brooklyn': 3439, 'primari': 3440, 'furthermor': 3441, 'pen': 3442, 'maggi': 3443, 'retain': 3444, 'instant': 3445, 'consum': 3446, 'exot': 3447, 'embrac': 3448, 'humbl': 3449, 'devast': 3450, 'trace': 3451, 'solut': 3452, 'institut': 3453, 'aveng': 3454, 'vulgar': 3455, 'florida': 3456, 'airplan': 3457, 'highest': 3458, 'jenni': 3459, 'pot': 3460, 'colonel': 3461, 'colleagu': 3462, 'polanski': 3463, 'principl': 3464, 'outer': 3465, 'dian': 3466, 'wive': 3467, 'strain': 3468, 'cope': 3469, '3rd': 3470, 'sale': 3471, 'bowl': 3472, 'seduct': 3473, 'ya': 3474, 'smaller': 3475, 'rick': 3476, 'dutch': 3477, 'linda': 3478, 'descend': 3479, 'gender': 3480, 'godzilla': 3481, '1999': 3482, 'illog': 3483, 'poke': 3484, 'disabl': 3485, 'primarili': 3486, 'dive': 3487, 'mixtur': 3488, 'glamor': 3489, 'inferior': 3490, 'vast': 3491, 'beneath': 3492, 'gundam': 3493, 'blatant': 3494, 'dud': 3495, 'secondli': 3496, 'gloriou': 3497, 'scope': 3498, 'predecessor': 3499, 'rabbit': 3500, 'lol': 3501, 'yard': 3502, 'cue': 3503, 'hal': 3504, 'bubbl': 3505, 'devoid': 3506, 'disjoint': 3507, 'simplist': 3508, 'invas': 3509, 'z': 3510, 'countrysid': 3511, 'senseless': 3512, 'grinch': 3513, 'museum': 3514, 'talki': 3515, 'alfr': 3516, 'hideou': 3517, 'et': 3518, 'alert': 3519, 'breed': 3520, 'pearl': 3521, 'aggress': 3522, 'shirley': 3523, 'shelf': 3524, 'streep': 3525, 'myer': 3526, 'domino': 3527, 'garbo': 3528, 'april': 3529, 'trademark': 3530, 'casual': 3531, 'arab': 3532, 'khan': 3533, 'defens': 3534, 'stir': 3535, 'uwe': 3536, 'acid': 3537, 'stellar': 3538, 'stack': 3539, 'slide': 3540, 'mayor': 3541, 'rendit': 3542, 'obtain': 3543, 'oz': 3544, 'robberi': 3545, 'illeg': 3546, 'mail': 3547, 'applaud': 3548, 'maci': 3549, 'hardcor': 3550, 'vanish': 3551, 'loyal': 3552, 'hopeless': 3553, 'sh': 3554, 'boom': 3555, 'disgrac': 3556, 'experiment': 3557, 'robinson': 3558, 'unhappi': 3559, 'incomprehens': 3560, 'recruit': 3561, 'dismiss': 3562, 'topless': 3563, 'soccer': 3564, 'emphasi': 3565, 'grandfath': 3566, 'span': 3567, 'psychic': 3568, 'tempt': 3569, 'wont': 3570, 'amanda': 3571, 'blew': 3572, 'fri': 3573, 'craze': 3574, 'spider': 3575, 'declin': 3576, 'tenant': 3577, 'hartley': 3578, 'diana': 3579, 'rifl': 3580, 'counter': 3581, 'dicken': 3582, 'berlin': 3583, 'scroog': 3584, 'goer': 3585, 'wet': 3586, 'woo': 3587, 'justin': 3588, 'riot': 3589, 'shed': 3590, 'shaw': 3591, 'resurrect': 3592, 'sympath': 3593, 'intim': 3594, 'sibl': 3595, 'faster': 3596, 'ration': 3597, 'bitch': 3598, 'trashi': 3599, 'revolt': 3600, 'ethnic': 3601, 'parad': 3602, 'porno': 3603, 'niro': 3604, 'lumet': 3605, 'gap': 3606, 'wheel': 3607, 'honesti': 3608, 'patriot': 3609, 'slick': 3610, 'enlighten': 3611, 'commend': 3612, 'feminist': 3613, 'weakest': 3614, 'hesit': 3615, 'nephew': 3616, 'unreal': 3617, 'jonathan': 3618, 'farmer': 3619, 'partial': 3620, 'eager': 3621, 'worm': 3622, 'biographi': 3623, 'choru': 3624, 'immort': 3625, 'mario': 3626, 'dealer': 3627, 'region': 3628, 'steam': 3629, 'hopper': 3630, 'ensur': 3631, 'lena': 3632, 'ballet': 3633, 'rider': 3634, 'andr': 3635, 'wendi': 3636, '00': 3637, 'charlott': 3638, 'util': 3639, 'victori': 3640, 'vice': 3641, 'psychopath': 3642, 'repress': 3643, 'confin': 3644, 'properti': 3645, 'safeti': 3646, 'nostalg': 3647, 'mutant': 3648, 'morri': 3649, 'hung': 3650, 'prequel': 3651, 'sappi': 3652, 'kingdom': 3653, 'snap': 3654, 'skull': 3655, 'similarli': 3656, 'wore': 3657, 'composit': 3658, 'owen': 3659, 'franco': 3660, 'leo': 3661, 'macarthur': 3662, 'blunt': 3663, 'sandra': 3664, 'deed': 3665, 'whoopi': 3666, 'dalton': 3667, 'drain': 3668, 'hyde': 3669, 'pattern': 3670, 'latin': 3671, 'speci': 3672, 'snl': 3673, 'campbel': 3674, 'del': 3675, 'heartbreak': 3676, 'rocki': 3677, '1972': 3678, 'rope': 3679, 'compass': 3680, 'drum': 3681, 'strand': 3682, 'acquir': 3683, 'thru': 3684, 'cg': 3685, 'bonu': 3686, 'tail': 3687, 'dust': 3688, 'repli': 3689, 'bergman': 3690, 'bumbl': 3691, 'nervou': 3692, 'compens': 3693, 'kyle': 3694, 'despair': 3695, 'emperor': 3696, 'montana': 3697, 'rambl': 3698, 'bow': 3699, 'tad': 3700, 'miseri': 3701, 'recycl': 3702, 'valuabl': 3703, 'farrel': 3704, 'exit': 3705, 'bleed': 3706, 'da': 3707, 'tonight': 3708, '35': 3709, 'oppress': 3710, 'pour': 3711, 'martian': 3712, 'mistress': 3713, 'airport': 3714, 'gimmick': 3715, 'slug': 3716, 'carradin': 3717, 'chess': 3718, 'romp': 3719, 'percept': 3720, 'downhil': 3721, 'wacki': 3722, 'gal': 3723, 'rotten': 3724, 'rapist': 3725, 'orson': 3726, 'radic': 3727, 'contempl': 3728, 'roth': 3729, 'olli': 3730, 'arguabl': 3731, 'melodi': 3732, 'stilt': 3733, 'pursuit': 3734, 'taught': 3735, 'tackl': 3736, 'preach': 3737, 'tooth': 3738, 'belt': 3739, 'champion': 3740, 'edgar': 3741, 'pervert': 3742, 'shelley': 3743, 'heal': 3744, 'banal': 3745, 'unpredict': 3746, 'arc': 3747, 'slash': 3748, '1983': 3749, 'pervers': 3750, 'mislead': 3751, 'paltrow': 3752, 'programm': 3753, 'dazzl': 3754, 'attorney': 3755, 'franki': 3756, 'graham': 3757, 'cleverli': 3758, 'virginia': 3759, 'chicken': 3760, 'employe': 3761, 'raymond': 3762, 'duval': 3763, 'passeng': 3764, 'conneri': 3765, 'mesmer': 3766, 'tiresom': 3767, 'uplift': 3768, 'maid': 3769, 'sensat': 3770, 'gambl': 3771, 'rubi': 3772, 'vengeanc': 3773, 'closest': 3774, 'orang': 3775, 'bela': 3776, 'poem': 3777, 'vocal': 3778, 'plight': 3779, 'dixon': 3780, 'marti': 3781, 'clone': 3782, 'secretli': 3783, 'iran': 3784, 'suffic': 3785, 'abraham': 3786, 'paranoia': 3787, 'convincingli': 3788, 'engross': 3789, 'quarter': 3790, 'scottish': 3791, 'giggl': 3792, 'amitabh': 3793, 'climact': 3794, 'habit': 3795, 'profan': 3796, 'volum': 3797, 'whine': 3798, 'swallow': 3799, 'mute': 3800, 'tube': 3801, 'calm': 3802, '1968': 3803, 'monologu': 3804, 'sirk': 3805, 'yawn': 3806, 'bay': 3807, 'gerard': 3808, 'crystal': 3809, 'inject': 3810, 'extens': 3811, 'outing': 3812, 'lundgren': 3813, 'pokemon': 3814, 'numb': 3815, 'linger': 3816, 'underst': 3817, 'abort': 3818, 'taxi': 3819, 'frankenstein': 3820, 'fed': 3821, 'grotesqu': 3822, 'lowest': 3823, 'franci': 3824, 'earl': 3825, 'im': 3826, 'septemb': 3827, 'surpass': 3828, 'spock': 3829, 'plod': 3830, 'austen': 3831, 'meander': 3832, 'expand': 3833, 'profess': 3834, 'bend': 3835, 'backward': 3836, 'junior': 3837, 'trend': 3838, 'dispos': 3839, 'poetri': 3840, 'richardson': 3841, 'ethan': 3842, 'nichola': 3843, 'chicago': 3844, 'literatur': 3845, 'cannon': 3846, 'household': 3847, 'mundan': 3848, 'compliment': 3849, 'lure': 3850, 'nostalgia': 3851, 'econom': 3852, 'tourist': 3853, 'spoke': 3854, 'eugen': 3855, 'instrument': 3856, 'descent': 3857, 'waitress': 3858, 'catchi': 3859, 'sue': 3860, 'rubber': 3861, 'myth': 3862, 'stallon': 3863, 'greedi': 3864, 'muddl': 3865, 'simplic': 3866, 'rant': 3867, 'hum': 3868, 'dysfunct': 3869, 'der': 3870, 'cent': 3871, 'occupi': 3872, 'recognis': 3873, 'damon': 3874, 'recognit': 3875, 'eaten': 3876, 'stale': 3877, 'lang': 3878, 'insur': 3879, 'molli': 3880, 'dictat': 3881, 'firstli': 3882, 'flee': 3883, 'irrelev': 3884, 'phantom': 3885, 'hello': 3886, 'duck': 3887, 'map': 3888, 'mankind': 3889, 'phoni': 3890, 'dement': 3891, 'carel': 3892, 'crucial': 3893, 'mortal': 3894, 'bacal': 3895, 'june': 3896, 'equival': 3897, 'sissi': 3898, 'deaf': 3899, 'coast': 3900, 'louis': 3901, 'furi': 3902, 'omen': 3903, 'alongsid': 3904, 'randi': 3905, 'daisi': 3906, 'ashley': 3907, 'grayson': 3908, 'wisdom': 3909, 'onlin': 3910, 'twilight': 3911, 'rude': 3912, 'bike': 3913, 'bump': 3914, 'distinguish': 3915, 'labor': 3916, '1973': 3917, 'likewis': 3918, 'heel': 3919, 'freez': 3920, 'newli': 3921, 'drake': 3922, 'lengthi': 3923, 'cyborg': 3924, 'dreari': 3925, 'reign': 3926, 'blackmail': 3927, 'rooney': 3928, 'loyalti': 3929, 'biko': 3930, 'buffalo': 3931, 'antwon': 3932, 'damm': 3933, 'approv': 3934, 'vein': 3935, 'boxer': 3936, 'analysi': 3937, 'incorpor': 3938, 'inher': 3939, 'proce': 3940, 'baddi': 3941, 'butler': 3942, 'tunnel': 3943, 'barrymor': 3944, 'interior': 3945, 'unorigin': 3946, 'nineti': 3947, 'basketbal': 3948, 'pink': 3949, 'attribut': 3950, 'prey': 3951, 'startl': 3952, 'emphas': 3953, 'provoc': 3954, 'worn': 3955, 'ridden': 3956, 'chronicl': 3957, 'exposur': 3958, 'keith': 3959, 'sailor': 3960, 'undeni': 3961, 'hypnot': 3962, 'stalker': 3963, 'mormon': 3964, 'nicol': 3965, 'condemn': 3966, 'robbin': 3967, 'walsh': 3968, 'improvis': 3969, 'degrad': 3970, 'carla': 3971, 'fleet': 3972, 'underli': 3973, 'bunni': 3974, 'mighti': 3975, 'millionair': 3976, 'er': 3977, 'meg': 3978, 'elm': 3979, 'meyer': 3980, 'drift': 3981, 'substitut': 3982, 'indiffer': 3983, 'predat': 3984, 'barrel': 3985, 'julian': 3986, 'belushi': 3987, 'simmon': 3988, 'unrel': 3989, 'othello': 3990, 'unawar': 3991, 'vital': 3992, 'hay': 3993, 'firm': 3994, 'enthusiasm': 3995, 'nyc': 3996, 'errol': 3997, 'mtv': 3998, 'shove': 3999, 'exquisit': 4000, 'warmth': 4001, 'roof': 4002, 'alarm': 4003, 'marion': 4004, 'disord': 4005, 'watson': 4006, 'greed': 4007, 'priceless': 4008, 'palac': 4009, 'edgi': 4010, 'lampoon': 4011, 'novak': 4012, 'dolph': 4013, 'alison': 4014, 'reid': 4015, 'agenda': 4016, 'rukh': 4017, '3d': 4018, 'showdown': 4019, 'iraq': 4020, 'glanc': 4021, 'eastern': 4022, 'peril': 4023, '13th': 4024, 'randomli': 4025, 'testament': 4026, 'cassidi': 4027, 'preserv': 4028, 'pamela': 4029, 'coup': 4030, 'petti': 4031, 'beatl': 4032, 'campaign': 4033, 'thompson': 4034, 'profit': 4035, 'israel': 4036, 'crown': 4037, 'what': 4038, 'simultan': 4039, 'unleash': 4040, 'valentin': 4041, 'orlean': 4042, 'distort': 4043, 'nun': 4044, 'angela': 4045, 'minimum': 4046, 'session': 4047, 'ponder': 4048, 'peck': 4049, 'gestur': 4050, 'sergeant': 4051, 'championship': 4052, 'drip': 4053, '1933': 4054, 'zizek': 4055, 'spain': 4056, 'calib': 4057, 'rout': 4058, 'crawl': 4059, 'stake': 4060, 'jan': 4061, 'cream': 4062, 'crow': 4063, 'gentleman': 4064, 'perpetu': 4065, 'buster': 4066, 'cooki': 4067, 'exposit': 4068, 'wig': 4069, 'han': 4070, 'miyazaki': 4071, 'shootout': 4072, 'mon': 4073, 'reson': 4074, 'restrain': 4075, 'represent': 4076, 'climat': 4077, 'sabrina': 4078, 'contradict': 4079, 'scotland': 4080, 'empathi': 4081, 'brenda': 4082, 'realm': 4083, 'bro': 4084, 'quinn': 4085, 'din': 4086, 'valley': 4087, 'fido': 4088, 'travesti': 4089, 'stroke': 4090, 'kurosawa': 4091, '1984': 4092, 'regist': 4093, 'unimagin': 4094, 'mclaglen': 4095, 'josh': 4096, '1987': 4097, 'warrant': 4098, 'sucker': 4099, 'ustinov': 4100, 'femm': 4101, 'cloud': 4102, 'soderbergh': 4103, 'unseen': 4104, 'tacki': 4105, 'baldwin': 4106, 'demis': 4107, 'absent': 4108, 'traumat': 4109, 'geek': 4110, 'greg': 4111, 'shoddi': 4112, 'perceiv': 4113, 'crawford': 4114, 'distress': 4115, 'dana': 4116, 'fuller': 4117, 'ross': 4118, 'censor': 4119, 'wax': 4120, 'monoton': 4121, 'compromis': 4122, 'painter': 4123, 'pole': 4124, 'unsatisfi': 4125, 'pretens': 4126, 'businessman': 4127, 'derang': 4128, 'meryl': 4129, 'shaki': 4130, 'abomin': 4131, 'spacey': 4132, 'passabl': 4133, 'darren': 4134, '1997': 4135, 'sammi': 4136, 'delic': 4137, 'stargat': 4138, 'unravel': 4139, 'anchor': 4140, 'deniro': 4141, 'clash': 4142, 'accuraci': 4143, 'fenc': 4144, 'valid': 4145, 'sid': 4146, 'seal': 4147, 'nathan': 4148, 'tech': 4149, 'kumar': 4150, 'exclus': 4151, 'tarantino': 4152, 'furiou': 4153, 'reluct': 4154, 'uncov': 4155, 'jewel': 4156, 'norm': 4157, 'judgment': 4158, 'austin': 4159, 'dee': 4160, 'polici': 4161, 'verbal': 4162, 'primit': 4163, 'expedit': 4164, 'wholli': 4165, 'correctli': 4166, 'fog': 4167, '1993': 4168, 'deceas': 4169, 'antonioni': 4170, 'click': 4171, 'darn': 4172, 'vanc': 4173, 'murray': 4174, 'enforc': 4175, '1971': 4176, 'clerk': 4177, 'behold': 4178, 'fart': 4179, 'trait': 4180, '1995': 4181, 'nicola': 4182, 'sustain': 4183, 'logan': 4184, 'pocket': 4185, 'alec': 4186, 'seldom': 4187, 'bake': 4188, 'fought': 4189, 'sunni': 4190, '3000': 4191, 'wang': 4192, 'debt': 4193, 'dreck': 4194, 'patienc': 4195, 'temper': 4196, 'roller': 4197, 'crippl': 4198, 'wretch': 4199, 'ritual': 4200, 'slam': 4201, 'malon': 4202, 'mode': 4203, '2008': 4204, 'joel': 4205, 'fabric': 4206, 'sand': 4207, 'tax': 4208, 'shanghai': 4209, 'conduct': 4210, 'sheet': 4211, 'hallucin': 4212, 'unfair': 4213, 'despis': 4214, 'squad': 4215, 'preston': 4216, 'scriptwrit': 4217, 'tactic': 4218, 'exhaust': 4219, 'schedul': 4220, 'divid': 4221, 'outlin': 4222, 'technicolor': 4223, 'stuart': 4224, 'rita': 4225, 'isabel': 4226, 'helpless': 4227, 'stark': 4228, 'bridget': 4229, 'guitar': 4230, 'pete': 4231, 'legaci': 4232, 'soup': 4233, 'penni': 4234, 'canyon': 4235, 'phil': 4236, 'sweep': 4237, 'runner': 4238, 'robber': 4239, 'shell': 4240, 'critiqu': 4241, 'conscious': 4242, 'bias': 4243, 'fundament': 4244, 'grief': 4245, 'preposter': 4246, 'clau': 4247, 'delv': 4248, 'liberti': 4249, 'rear': 4250, 'implic': 4251, 'kansa': 4252, 'russia': 4253, 'unexpectedli': 4254, 'rehash': 4255, 'restrict': 4256, 'downey': 4257, 'sugar': 4258, 'inabl': 4259, 'drove': 4260, 'passag': 4261, 'alley': 4262, 'marc': 4263, 'newman': 4264, 'palanc': 4265, 'culmin': 4266, 'sniper': 4267, 'consciou': 4268, 'agenc': 4269, 'jacket': 4270, 'lacklust': 4271, 'invad': 4272, 'flair': 4273, 'vomit': 4274, 'gregori': 4275, 'cigarett': 4276, 'boyl': 4277, 'bloom': 4278, 'connor': 4279, 'propos': 4280, 'alicia': 4281, 'sentinel': 4282, 'jodi': 4283, '1936': 4284, 'karl': 4285, 'bacon': 4286, 'behaviour': 4287, 'pale': 4288, 'tripe': 4289, 'aesthet': 4290, 'improb': 4291, 'sharon': 4292, 'mccoy': 4293, 'chainsaw': 4294, 'foxx': 4295, 'rampag': 4296, 'ladder': 4297, 'wrench': 4298, 'feat': 4299, 'cap': 4300, 'lush': 4301, 'horn': 4302, 'vet': 4303, 'yeti': 4304, 'asylum': 4305, 'awhil': 4306, 'rod': 4307, 'delet': 4308, 'arrow': 4309, 'kolchak': 4310, 'rehears': 4311, 'tendenc': 4312, '22': 4313, '1920': 4314, 'hulk': 4315, 'tasteless': 4316, 'rhythm': 4317, 'stream': 4318, 'minu': 4319, 'paramount': 4320, 'sung': 4321, 'elit': 4322, 'hackney': 4323, 'basing': 4324, 'suffici': 4325, 'newcom': 4326, 'wagner': 4327, 'lurk': 4328, 'paradis': 4329, '19th': 4330, 'prank': 4331, 'underneath': 4332, 'shortcom': 4333, 'scoop': 4334, 'financ': 4335, 'weav': 4336, 'aristocrat': 4337, 'wildli': 4338, 'coaster': 4339, 'filler': 4340, 'rumor': 4341, '1978': 4342, 'el': 4343, 'globe': 4344, 'spice': 4345, 'hungri': 4346, 'conscienc': 4347, '1988': 4348, 'suspicion': 4349, 'loneli': 4350, 'amazon': 4351, 'tomorrow': 4352, 'fright': 4353, 'visitor': 4354, 'thunderbird': 4355, 'secondari': 4356, 'abrupt': 4357, 'dirt': 4358, 'penn': 4359, 'literari': 4360, 'chavez': 4361, 'beverli': 4362, 'straightforward': 4363, '1939': 4364, 'grudg': 4365, 'immers': 4366, 'quietli': 4367, 'naughti': 4368, 'smell': 4369, 'minist': 4370, 'ingeni': 4371, 'cancer': 4372, 'brit': 4373, 'impos': 4374, 'teas': 4375, 'hopkin': 4376, 'atroc': 4377, '75': 4378, 'heist': 4379, 'choppi': 4380, 'ram': 4381, 'standout': 4382, 'leigh': 4383, 'inmat': 4384, 'lectur': 4385, 'rub': 4386, 'recogniz': 4387, 'paxton': 4388, 'entranc': 4389, 'iv': 4390, '1989': 4391, 'couch': 4392, 'bread': 4393, 'tierney': 4394, 'springer': 4395, 'worship': 4396, 'en': 4397, 'posey': 4398, 'curli': 4399, 'chamberlain': 4400, 'counterpart': 4401, 'wwe': 4402, 'nolan': 4403, 'sublim': 4404, 'sassi': 4405, 'entitl': 4406, 'heartfelt': 4407, 'convert': 4408, 'policeman': 4409, '1986': 4410, 'injuri': 4411, 'moreov': 4412, 'bernard': 4413, 'transcend': 4414, 'nemesi': 4415, 'laurenc': 4416, 'morbid': 4417, 'net': 4418, 'missil': 4419, 'misguid': 4420, 'esther': 4421, 'yearn': 4422, 'ace': 4423, 'clan': 4424, 'watcher': 4425, 'geni': 4426, 'attenborough': 4427, 'duel': 4428, 'skeptic': 4429, 'lindsay': 4430, 'enthral': 4431, 'variat': 4432, 'cattl': 4433, 'quaid': 4434, 'ratso': 4435, 'spiral': 4436, 'kitti': 4437, 'facil': 4438, 'kidman': 4439, 'rosemari': 4440, 'bean': 4441, 'hk': 4442, 'cruelti': 4443, '1979': 4444, 'enabl': 4445, 'poe': 4446, 'uncut': 4447, 'bye': 4448, 'characteris': 4449, 'obstacl': 4450, 'hopelessli': 4451, 'buzz': 4452, 'puppi': 4453, 'unexplain': 4454, 'youngest': 4455, 'grin': 4456, 'egg': 4457, 'steadi': 4458, 'vader': 4459, 'mytholog': 4460, 'diari': 4461, 'tyler': 4462, 'setup': 4463, 'graini': 4464, 'out': 4465, 'reliabl': 4466, 'moder': 4467, 'artsi': 4468, 'carlito': 4469, 'brood': 4470, 'dont': 4471, 'bewar': 4472, 'underworld': 4473, 'niec': 4474, 'effici': 4475, 'oblig': 4476, 'heap': 4477, 'brendan': 4478, 'weather': 4479, 'athlet': 4480, 'hammi': 4481, '1969': 4482, 'disastr': 4483, 'narrow': 4484, 'preming': 4485, 'fuel': 4486, 'baffl': 4487, 'bounc': 4488, 'kline': 4489, 'hain': 4490, 'gillian': 4491, 'decept': 4492, 'sweat': 4493, 'martha': 4494, 'exterior': 4495, 'spontan': 4496, 'acquaint': 4497, 'patricia': 4498, 'clueless': 4499, 'bronson': 4500, 'christin': 4501, 'despic': 4502, 'gina': 4503, 'suprem': 4504, 'fontain': 4505, 'sooner': 4506, 'enlist': 4507, 'hepburn': 4508, 'loi': 4509, 'insipid': 4510, 'shatter': 4511, 'preachi': 4512, 'trigger': 4513, 'scar': 4514, 'virtu': 4515, 'viewpoint': 4516, '73': 4517, 'circu': 4518, 'rome': 4519, 'loath': 4520, 'harmless': 4521, 'tick': 4522, 'mayhem': 4523, 'sleepwalk': 4524, 'uh': 4525, 'astound': 4526, 'goof': 4527, 'biker': 4528, 'injur': 4529, 'housewif': 4530, 'taboo': 4531, '19': 4532, 'analyz': 4533, 'outlaw': 4534, 'mermaid': 4535, 'renaiss': 4536, 'headach': 4537, 'angst': 4538, 'dilemma': 4539, 'dandi': 4540, 'candl': 4541, 'lester': 4542, 'hokey': 4543, 'ebert': 4544, 'tripl': 4545, 'whore': 4546, 'contempt': 4547, 'bent': 4548, 'zoom': 4549, 'dish': 4550, 'gere': 4551, 'corbett': 4552, 'salt': 4553, 'camcord': 4554, 'scorses': 4555, 'spade': 4556, 'filth': 4557, 'immatur': 4558, 'claustrophob': 4559, 'steer': 4560, 'phenomenon': 4561, 'amor': 4562, 'hostag': 4563, 'dismal': 4564, 'stair': 4565, 'cassavet': 4566, 'macho': 4567, 'fluff': 4568, 'guin': 4569, 'oldest': 4570, 'foolish': 4571, 'redund': 4572, 'idol': 4573, 'hooker': 4574, 'surgeri': 4575, 'intric': 4576, 'glorifi': 4577, 'overlong': 4578, 'slimi': 4579, 'stimul': 4580, 'ariel': 4581, 'boston': 4582, 'sox': 4583, '1981': 4584, 'keen': 4585, 'down': 4586, 'frantic': 4587, 'antagonist': 4588, 'assert': 4589, '1976': 4590, 'harold': 4591, 'mount': 4592, 'spree': 4593, 'alvin': 4594, 'dwarf': 4595, 'conquer': 4596, 'nolt': 4597, 'widescreen': 4598, 'radiat': 4599, 'beard': 4600, 'perman': 4601, 'proport': 4602, 'gasp': 4603, 'flirt': 4604, 'corman': 4605, 'zane': 4606, 'mutual': 4607, 'astronaut': 4608, 'obligatori': 4609, 'strongest': 4610, 'shred': 4611, 'preced': 4612, 'gabl': 4613, 'transplant': 4614, 'trivia': 4615, 'cohen': 4616, 'rhyme': 4617, 'cow': 4618, 'margin': 4619, 'messi': 4620, 'remad': 4621, 'schlock': 4622, 'muscl': 4623, 'flashi': 4624, 'shield': 4625, 'flag': 4626, 'faint': 4627, 'cush': 4628, 'joker': 4629, 'fascist': 4630, 'spinal': 4631, 'naschi': 4632, 'hara': 4633, 'discern': 4634, 'triangl': 4635, 'archiv': 4636, 'persuad': 4637, 'vaniti': 4638, 'carey': 4639, 'departur': 4640, 'bachelor': 4641, 'someday': 4642, 'brush': 4643, 'mobil': 4644, 'neurot': 4645, '95': 4646, 'raj': 4647, 'fishburn': 4648, 'boob': 4649, 'claud': 4650, 'divin': 4651, 'scandal': 4652, 'flock': 4653, 'mol': 4654, 'ritchi': 4655, 'wield': 4656, 'inflict': 4657, 'www': 4658, '28': 4659, 'sensual': 4660, 'interestingli': 4661, 'barn': 4662, 'off': 4663, 'resum': 4664, 'bitten': 4665, 'instruct': 4666, 'strive': 4667, 'danish': 4668, 'deer': 4669, 'repris': 4670, 'info': 4671, '1945': 4672, 'aborigin': 4673, 'rot': 4674, 'kathryn': 4675, 'timberlak': 4676, 'dylan': 4677, 'submit': 4678, 'luka': 4679, 'cher': 4680, 'parson': 4681, 'axe': 4682, 'fragil': 4683, 'casino': 4684, 'hug': 4685, 'harrison': 4686, 'cycl': 4687, 'cb': 4688, 'helm': 4689, 'prophet': 4690, 'senior': 4691, 'ish': 4692, 'recit': 4693, 'melissa': 4694, 'undermin': 4695, 'hilar': 4696, 'mobster': 4697, 'dim': 4698, 'pickford': 4699, 'traffic': 4700, 'proclaim': 4701, 'jade': 4702, 'banter': 4703, 'dame': 4704, 'neill': 4705, 'loretta': 4706, 'frontier': 4707, 'cliffhang': 4708, 'miracul': 4709, 'colin': 4710, 'biblic': 4711, 'hapless': 4712, 'carlo': 4713, 'wendigo': 4714, 'pacif': 4715, 'europa': 4716, 'bate': 4717, 'artwork': 4718, 'heartwarm': 4719, 'pixar': 4720, 'clad': 4721, 'earnest': 4722, 'vibrant': 4723, 'anton': 4724, 'holocaust': 4725, 'seedi': 4726, 'mason': 4727, 'aris': 4728, 'articl': 4729, 'sicken': 4730, 'token': 4731, 'pc': 4732, 'misfortun': 4733, 'shepherd': 4734, 'vanessa': 4735, 'antholog': 4736, 'northern': 4737, 'blatantli': 4738, 'lucil': 4739, 'lui': 4740, 'akin': 4741, 'estrang': 4742, 'jo': 4743, 'trier': 4744, 'alexandr': 4745, 'flavor': 4746, 'breakfast': 4747, 'isra': 4748, 'illus': 4749, 'milo': 4750, 'vile': 4751, 'cerebr': 4752, 'legitim': 4753, 'foil': 4754, 'bondag': 4755, 'choke': 4756, 'winchest': 4757, 'redneck': 4758, 'uma': 4759, 'bikini': 4760, 'nope': 4761, 'wardrob': 4762, 'rooki': 4763, 'marlon': 4764, 'eli': 4765, 'feast': 4766, 'static': 4767, 'electron': 4768, 'razor': 4769, 'orphan': 4770, 'http': 4771, 'toronto': 4772, 'mathieu': 4773, 'venom': 4774, 'jordan': 4775, 'affleck': 4776, 'psych': 4777, 'dudley': 4778, 'glare': 4779, 'retriev': 4780, 'fifth': 4781, 'clinic': 4782, 'smack': 4783, 'swept': 4784, 'highway': 4785, 'tack': 4786, 'feminin': 4787, 'howl': 4788, 'abund': 4789, 'oppon': 4790, 'gilbert': 4791, 'shorter': 4792, 'nightclub': 4793, 'magician': 4794, 'huston': 4795, 'frog': 4796, 'comprehend': 4797, 'deem': 4798, 'turd': 4799, 'wrestler': 4800, 'peer': 4801, 'linear': 4802, 'gunga': 4803, 'styliz': 4804, 'audrey': 4805, 'leather': 4806, 'ideolog': 4807, 'outdat': 4808, 'charlton': 4809, 'knightley': 4810, 'disregard': 4811, 'cartoonish': 4812, 'ceremoni': 4813, 'boyer': 4814, 'chip': 4815, 'breakdown': 4816, 'salman': 4817, 'energet': 4818, 'summar': 4819, 'bogu': 4820, 'durat': 4821, 'lavish': 4822, 'uniformli': 4823, 'deliver': 4824, 'boo': 4825, 'collector': 4826, 'evolut': 4827, 'potter': 4828, 'btw': 4829, 'newer': 4830, 'goldsworthi': 4831, 'lifeless': 4832, 'tara': 4833, 'spine': 4834, 'cuban': 4835, '1994': 4836, 'moe': 4837, 'plate': 4838, 'sleaz': 4839, 'phenomen': 4840, 'toe': 4841, 'compris': 4842, 'greet': 4843, 'lighter': 4844, 'whack': 4845, 'bastard': 4846, 'cemeteri': 4847, 'mitch': 4848, 'monument': 4849, 'conrad': 4850, 'corn': 4851, 'braveheart': 4852, '1991': 4853, 'client': 4854, 'snatch': 4855, '4th': 4856, 'spawn': 4857, 'senat': 4858, 'einstein': 4859, 'ie': 4860, 'constitut': 4861, 'gilliam': 4862, 'kent': 4863, 'trauma': 4864, 'eleven': 4865, 'liu': 4866, 'spectacl': 4867, 'occup': 4868, '1977': 4869, 'sorrow': 4870, 'inaccuraci': 4871, 'firmli': 4872, 'undertak': 4873, 'jam': 4874, 'kazan': 4875, 'signal': 4876, 'wtf': 4877, 'clara': 4878, 'outright': 4879, 'armstrong': 4880, 'judd': 4881, 'bulk': 4882, 'healthi': 4883, 'creek': 4884, 'belli': 4885, 'undead': 4886, 'randolph': 4887, 'embark': 4888, 'historian': 4889, 'pronounc': 4890, 'jedi': 4891, 'alleg': 4892, 'mcqueen': 4893, '1974': 4894, 'capot': 4895, 'evelyn': 4896, 'luxuri': 4897, 'neatli': 4898, 'replay': 4899, 'jule': 4900, 'jare': 4901, 'appl': 4902, 'bori': 4903, 'ol': 4904, 'cecil': 4905, 'lex': 4906, 'nina': 4907, 'fluid': 4908, 'comprehens': 4909, 'meal': 4910, 'inclus': 4911, 'relentless': 4912, 'kiddi': 4913, '1985': 4914, 'goldblum': 4915, 'propheci': 4916, 'ash': 4917, 'decapit': 4918, 'walt': 4919, 'vain': 4920, 'carmen': 4921, 'vignett': 4922, 'id': 4923, 'tokyo': 4924, 'inaccur': 4925, 'bait': 4926, 'bsg': 4927, 'pepper': 4928, 'sidewalk': 4929, 'congratul': 4930, 'cape': 4931, 'conan': 4932, 'forgiven': 4933, 'paula': 4934, 'knee': 4935, 'miami': 4936, 'curtain': 4937, 'galaxi': 4938, 'mum': 4939, 'sacrif': 4940, 'roar': 4941, 'lauren': 4942, 'aussi': 4943, 'truman': 4944, 'subtli': 4945, 'rosario': 4946, 'groan': 4947, 'lanc': 4948, 'palm': 4949, 'miniseri': 4950, 'unsuspect': 4951, 'fruit': 4952, 'spray': 4953, 'antonio': 4954, 'poker': 4955, 'comb': 4956, 'pioneer': 4957, 'unattract': 4958, 'porter': 4959, 'genet': 4960, 'abound': 4961, 'blur': 4962, 'basket': 4963, 'bach': 4964, 'asset': 4965, 'growth': 4966, 'assort': 4967, 'frontal': 4968, '21st': 4969, 'masterson': 4970, 'cypher': 4971, 'spill': 4972, 'mice': 4973, 'hackman': 4974, 'jill': 4975, 'vastli': 4976, 'rapidli': 4977, 'orchestr': 4978, 'epitom': 4979, 'optimist': 4980, 'motorcycl': 4981, 'modest': 4982, 'profil': 4983, 'dubiou': 4984, 'scarfac': 4985, 'macabr': 4986, 'detach': 4987, 'verg': 4988, 'ghetto': 4989, 'drone': 4990, 'monti': 4991, 'hostil': 4992, 'bravo': 4993, 'weaker': 4994, 'substanti': 4995, 'weari': 4996, 'evan': 4997, 'victorian': 4998, 'scariest': 4999}\n"
     ]
    }
   ],
   "source": [
    "word_dict = build_dict(train_X)\n",
    "print(word_dict)"
   ]
  },
  {
   "cell_type": "markdown",
   "metadata": {},
   "source": [
    "**Question:** What are the five most frequently appearing (tokenized) words in the training set? Does it makes sense that these words appear frequently in the training set?"
   ]
  },
  {
   "cell_type": "markdown",
   "metadata": {},
   "source": [
    "**Answer:**\n",
    "\n",
    "The five most frequently appearing words are 'movi', 'film', 'one', 'like', and 'time'. It does make sense that these words appear frequently in movie reviews."
   ]
  },
  {
   "cell_type": "code",
   "execution_count": 13,
   "metadata": {},
   "outputs": [
    {
     "name": "stdout",
     "output_type": "stream",
     "text": [
      "['movi', 'film', 'one', 'like', 'time']\n"
     ]
    }
   ],
   "source": [
    "print(list(word_dict.keys())[:5])"
   ]
  },
  {
   "cell_type": "markdown",
   "metadata": {},
   "source": [
    "### Save `word_dict`\n",
    "\n",
    "Later on when we construct an endpoint which processes a submitted review we will need to make use of the `word_dict` which we have created. As such, we will save it to a file now for future use."
   ]
  },
  {
   "cell_type": "code",
   "execution_count": 14,
   "metadata": {},
   "outputs": [],
   "source": [
    "data_dir = '../data/pytorch' # The folder we will use for storing data\n",
    "if not os.path.exists(data_dir): # Make sure that the folder exists\n",
    "    os.makedirs(data_dir)"
   ]
  },
  {
   "cell_type": "code",
   "execution_count": 15,
   "metadata": {},
   "outputs": [],
   "source": [
    "with open(os.path.join(data_dir, 'word_dict.pkl'), \"wb\") as f:\n",
    "    pickle.dump(word_dict, f)"
   ]
  },
  {
   "cell_type": "markdown",
   "metadata": {},
   "source": [
    "### Transform the reviews\n",
    "\n",
    "Now that we have our word dictionary which allows us to transform the words appearing in the reviews into integers, it is time to make use of it and convert our reviews to their integer sequence representation, making sure to pad or truncate to a fixed length, which in our case is `500`."
   ]
  },
  {
   "cell_type": "code",
   "execution_count": 16,
   "metadata": {},
   "outputs": [],
   "source": [
    "def convert_and_pad(word_dict, sentence, pad=500):\n",
    "    NOWORD = 0 # We will use 0 to represent the 'no word' category\n",
    "    INFREQ = 1 # and we use 1 to represent the infrequent words, i.e., words not appearing in word_dict\n",
    "    \n",
    "    working_sentence = [NOWORD] * pad\n",
    "    \n",
    "    for word_index, word in enumerate(sentence[:pad]):\n",
    "        if word in word_dict:\n",
    "            working_sentence[word_index] = word_dict[word]\n",
    "        else:\n",
    "            working_sentence[word_index] = INFREQ\n",
    "            \n",
    "    return working_sentence, min(len(sentence), pad)\n",
    "\n",
    "def convert_and_pad_data(word_dict, data, pad=500):\n",
    "    result = []\n",
    "    lengths = []\n",
    "    \n",
    "    for sentence in data:\n",
    "        converted, leng = convert_and_pad(word_dict, sentence, pad)\n",
    "        result.append(converted)\n",
    "        lengths.append(leng)\n",
    "        \n",
    "    return np.array(result), np.array(lengths)"
   ]
  },
  {
   "cell_type": "code",
   "execution_count": 17,
   "metadata": {},
   "outputs": [],
   "source": [
    "train_X, train_X_len = convert_and_pad_data(word_dict, train_X)\n",
    "test_X, test_X_len = convert_and_pad_data(word_dict, test_X)"
   ]
  },
  {
   "cell_type": "markdown",
   "metadata": {},
   "source": [
    "As a quick check to make sure that things are working as intended, check to see what one of the reviews in the training set looks like after having been processeed. Does this look reasonable? What is the length of a review in the training set?"
   ]
  },
  {
   "cell_type": "code",
   "execution_count": 18,
   "metadata": {},
   "outputs": [
    {
     "name": "stdout",
     "output_type": "stream",
     "text": [
      "[  37 1338  229   83   16  447  252   76  427  291 1933   94   76 1059\n",
      "    8  474 1283  783  508 1119    1 4633  222    9  891 4776    1    1\n",
      "    7   13  748 2324  181   11  297  920   14  857  504  171   64  607\n",
      "  413  170   14   49   10    2  291    1  443  396  396    0    0    0\n",
      "    0    0    0    0    0    0    0    0    0    0    0    0    0    0\n",
      "    0    0    0    0    0    0    0    0    0    0    0    0    0    0\n",
      "    0    0    0    0    0    0    0    0    0    0    0    0    0    0\n",
      "    0    0    0    0    0    0    0    0    0    0    0    0    0    0\n",
      "    0    0    0    0    0    0    0    0    0    0    0    0    0    0\n",
      "    0    0    0    0    0    0    0    0    0    0    0    0    0    0\n",
      "    0    0    0    0    0    0    0    0    0    0    0    0    0    0\n",
      "    0    0    0    0    0    0    0    0    0    0    0    0    0    0\n",
      "    0    0    0    0    0    0    0    0    0    0    0    0    0    0\n",
      "    0    0    0    0    0    0    0    0    0    0    0    0    0    0\n",
      "    0    0    0    0    0    0    0    0    0    0    0    0    0    0\n",
      "    0    0    0    0    0    0    0    0    0    0    0    0    0    0\n",
      "    0    0    0    0    0    0    0    0    0    0    0    0    0    0\n",
      "    0    0    0    0    0    0    0    0    0    0    0    0    0    0\n",
      "    0    0    0    0    0    0    0    0    0    0    0    0    0    0\n",
      "    0    0    0    0    0    0    0    0    0    0    0    0    0    0\n",
      "    0    0    0    0    0    0    0    0    0    0    0    0    0    0\n",
      "    0    0    0    0    0    0    0    0    0    0    0    0    0    0\n",
      "    0    0    0    0    0    0    0    0    0    0    0    0    0    0\n",
      "    0    0    0    0    0    0    0    0    0    0    0    0    0    0\n",
      "    0    0    0    0    0    0    0    0    0    0    0    0    0    0\n",
      "    0    0    0    0    0    0    0    0    0    0    0    0    0    0\n",
      "    0    0    0    0    0    0    0    0    0    0    0    0    0    0\n",
      "    0    0    0    0    0    0    0    0    0    0    0    0    0    0\n",
      "    0    0    0    0    0    0    0    0    0    0    0    0    0    0\n",
      "    0    0    0    0    0    0    0    0    0    0    0    0    0    0\n",
      "    0    0    0    0    0    0    0    0    0    0    0    0    0    0\n",
      "    0    0    0    0    0    0    0    0    0    0    0    0    0    0\n",
      "    0    0    0    0    0    0    0    0    0    0    0    0    0    0\n",
      "    0    0    0    0    0    0    0    0    0    0    0    0    0    0\n",
      "    0    0    0    0    0    0    0    0    0    0    0    0    0    0\n",
      "    0    0    0    0    0    0    0    0    0    0]\n",
      "53\n"
     ]
    }
   ],
   "source": [
    "print(train_X[0])\n",
    "print(train_X_len[0])"
   ]
  },
  {
   "cell_type": "markdown",
   "metadata": {},
   "source": [
    "**Question:** In the cells above we use the `preprocess_data` and `convert_and_pad_data` methods to process both the training and testing set. Why or why not might this be a problem?"
   ]
  },
  {
   "cell_type": "markdown",
   "metadata": {},
   "source": [
    "**Answer:**\n",
    "\n",
    "Preprocessing the training and testing sets the same way should allow us to directly transfer the model from the training set to the testing set when training is completed."
   ]
  },
  {
   "cell_type": "markdown",
   "metadata": {},
   "source": [
    "## Step 3: Upload the data to S3\n",
    "\n",
    "As in the XGBoost notebook, we will need to upload the training dataset to S3 in order for our training code to access it. For now we will save it locally and we will upload to S3 later on.\n",
    "\n",
    "### Save the processed training dataset locally\n",
    "\n",
    "It is important to note the format of the data that we are saving as we will need to know it when we write the training code. In our case, each row of the dataset has the form `label`, `length`, `review[500]` where `review[500]` is a sequence of `500` integers representing the words in the review."
   ]
  },
  {
   "cell_type": "code",
   "execution_count": 19,
   "metadata": {},
   "outputs": [],
   "source": [
    "import pandas as pd\n",
    "    \n",
    "pd.concat([pd.DataFrame(train_y), pd.DataFrame(train_X_len), pd.DataFrame(train_X)], axis=1) \\\n",
    "        .to_csv(os.path.join(data_dir, 'train.csv'), header=False, index=False)"
   ]
  },
  {
   "cell_type": "markdown",
   "metadata": {},
   "source": [
    "### Uploading the training data\n",
    "\n",
    "\n",
    "Next, we need to upload the training data to the SageMaker default S3 bucket so that we can provide access to it while training our model."
   ]
  },
  {
   "cell_type": "code",
   "execution_count": 20,
   "metadata": {},
   "outputs": [],
   "source": [
    "import sagemaker\n",
    "\n",
    "sagemaker_session = sagemaker.Session()\n",
    "\n",
    "bucket = sagemaker_session.default_bucket()\n",
    "prefix = 'sagemaker/sentiment_rnn'\n",
    "\n",
    "role = sagemaker.get_execution_role()"
   ]
  },
  {
   "cell_type": "code",
   "execution_count": 21,
   "metadata": {},
   "outputs": [],
   "source": [
    "input_data = sagemaker_session.upload_data(path=data_dir, bucket=bucket, key_prefix=prefix)"
   ]
  },
  {
   "cell_type": "markdown",
   "metadata": {},
   "source": [
    "**NOTE:** The cell above uploads the entire contents of our data directory. This includes the `word_dict.pkl` file. This is fortunate as we will need this later on when we create an endpoint that accepts an arbitrary review. For now, we will just take note of the fact that it resides in the data directory (and so also in the S3 training bucket) and that we will need to make sure it gets saved in the model directory."
   ]
  },
  {
   "cell_type": "markdown",
   "metadata": {},
   "source": [
    "## Step 4: Build and Train the PyTorch Model\n",
    "\n",
    "In the XGBoost notebook we discussed what a model is in the SageMaker framework. In particular, a model comprises three objects\n",
    "\n",
    " - Model Artifacts,\n",
    " - Training Code, and\n",
    " - Inference Code,\n",
    " \n",
    "each of which interact with one another. In the XGBoost example we used training and inference code that was provided by Amazon. Here we will still be using containers provided by Amazon with the added benefit of being able to include our own custom code.\n",
    "\n",
    "We will start by implementing our own neural network in PyTorch along with a training script. For the purposes of this project we have provided the necessary model object in the `model.py` file, inside of the `train` folder. You can see the provided implementation by running the cell below."
   ]
  },
  {
   "cell_type": "code",
   "execution_count": 22,
   "metadata": {},
   "outputs": [
    {
     "name": "stdout",
     "output_type": "stream",
     "text": [
      "\u001b[34mimport\u001b[39;49;00m \u001b[04m\u001b[36mtorch\u001b[39;49;00m\u001b[04m\u001b[36m.\u001b[39;49;00m\u001b[04m\u001b[36mnn\u001b[39;49;00m \u001b[34mas\u001b[39;49;00m \u001b[04m\u001b[36mnn\u001b[39;49;00m\r\n",
      "\r\n",
      "\u001b[34mclass\u001b[39;49;00m \u001b[04m\u001b[32mLSTMClassifier\u001b[39;49;00m(nn.Module):\r\n",
      "    \u001b[33m\"\"\"\u001b[39;49;00m\r\n",
      "\u001b[33m    This is the simple RNN model we will be using to perform Sentiment Analysis.\u001b[39;49;00m\r\n",
      "\u001b[33m    \"\"\"\u001b[39;49;00m\r\n",
      "\r\n",
      "    \u001b[34mdef\u001b[39;49;00m \u001b[32m__init__\u001b[39;49;00m(\u001b[36mself\u001b[39;49;00m, embedding_dim, hidden_dim, vocab_size):\r\n",
      "        \u001b[33m\"\"\"\u001b[39;49;00m\r\n",
      "\u001b[33m        Initialize the model by settingg up the various layers.\u001b[39;49;00m\r\n",
      "\u001b[33m        \"\"\"\u001b[39;49;00m\r\n",
      "        \u001b[36msuper\u001b[39;49;00m(LSTMClassifier, \u001b[36mself\u001b[39;49;00m).\u001b[32m__init__\u001b[39;49;00m()\r\n",
      "\r\n",
      "        \u001b[36mself\u001b[39;49;00m.embedding = nn.Embedding(vocab_size, embedding_dim, padding_idx=\u001b[34m0\u001b[39;49;00m)\r\n",
      "        \u001b[36mself\u001b[39;49;00m.lstm = nn.LSTM(embedding_dim, hidden_dim)\r\n",
      "        \u001b[36mself\u001b[39;49;00m.dense = nn.Linear(in_features=hidden_dim, out_features=\u001b[34m1\u001b[39;49;00m)\r\n",
      "        \u001b[36mself\u001b[39;49;00m.sig = nn.Sigmoid()\r\n",
      "        \r\n",
      "        \u001b[36mself\u001b[39;49;00m.word_dict = \u001b[34mNone\u001b[39;49;00m\r\n",
      "\r\n",
      "    \u001b[34mdef\u001b[39;49;00m \u001b[32mforward\u001b[39;49;00m(\u001b[36mself\u001b[39;49;00m, x):\r\n",
      "        \u001b[33m\"\"\"\u001b[39;49;00m\r\n",
      "\u001b[33m        Perform a forward pass of our model on some input.\u001b[39;49;00m\r\n",
      "\u001b[33m        \"\"\"\u001b[39;49;00m\r\n",
      "        x = x.t()\r\n",
      "        lengths = x[\u001b[34m0\u001b[39;49;00m,:]\r\n",
      "        reviews = x[\u001b[34m1\u001b[39;49;00m:,:]\r\n",
      "        embeds = \u001b[36mself\u001b[39;49;00m.embedding(reviews)\r\n",
      "        lstm_out, _ = \u001b[36mself\u001b[39;49;00m.lstm(embeds)\r\n",
      "        out = \u001b[36mself\u001b[39;49;00m.dense(lstm_out)\r\n",
      "        out = out[lengths - \u001b[34m1\u001b[39;49;00m, \u001b[36mrange\u001b[39;49;00m(\u001b[36mlen\u001b[39;49;00m(lengths))]\r\n",
      "        \u001b[34mreturn\u001b[39;49;00m \u001b[36mself\u001b[39;49;00m.sig(out.squeeze())\r\n"
     ]
    }
   ],
   "source": [
    "!pygmentize train/model.py"
   ]
  },
  {
   "cell_type": "markdown",
   "metadata": {},
   "source": [
    "The important takeaway from the implementation provided is that there are three parameters that we may wish to tweak to improve the performance of our model. These are the embedding dimension, the hidden dimension and the size of the vocabulary. We will likely want to make these parameters configurable in the training script so that if we wish to modify them we do not need to modify the script itself. We will see how to do this later on. To start we will write some of the training code in the notebook so that we can more easily diagnose any issues that arise.\n",
    "\n",
    "First we will load a small portion of the training data set to use as a sample. It would be very time consuming to try and train the model completely in the notebook as we do not have access to a gpu and the compute instance that we are using is not particularly powerful. However, we can work on a small bit of the data to get a feel for how our training script is behaving."
   ]
  },
  {
   "cell_type": "code",
   "execution_count": 23,
   "metadata": {},
   "outputs": [],
   "source": [
    "import torch\n",
    "import torch.utils.data\n",
    "\n",
    "# Read in only the first 250 rows\n",
    "train_sample = pd.read_csv(os.path.join(data_dir, 'train.csv'), header=None, names=None, nrows=250)\n",
    "\n",
    "# Turn the input pandas dataframe into tensors\n",
    "train_sample_y = torch.from_numpy(train_sample[[0]].values).float().squeeze()\n",
    "train_sample_X = torch.from_numpy(train_sample.drop([0], axis=1).values).long()\n",
    "\n",
    "# Build the dataset\n",
    "train_sample_ds = torch.utils.data.TensorDataset(train_sample_X, train_sample_y)\n",
    "# Build the dataloader\n",
    "train_sample_dl = torch.utils.data.DataLoader(train_sample_ds, batch_size=50)"
   ]
  },
  {
   "cell_type": "markdown",
   "metadata": {},
   "source": [
    "### (TODO) Writing the training method\n",
    "\n",
    "Next we need to write the training code itself. This should be very similar to training methods that you have written before to train PyTorch models. We will leave any difficult aspects such as model saving / loading and parameter loading until a little later."
   ]
  },
  {
   "cell_type": "code",
   "execution_count": 24,
   "metadata": {},
   "outputs": [],
   "source": [
    "def train(model, train_loader, epochs, optimizer, loss_fn, device):\n",
    "    for epoch in range(1, epochs + 1):\n",
    "        model.train()\n",
    "        total_loss = 0\n",
    "        for batch in train_loader:         \n",
    "            batch_X, batch_y = batch\n",
    "            \n",
    "            batch_X = batch_X.to(device)\n",
    "            batch_y = batch_y.to(device)\n",
    "            \n",
    "            # zero out the previous gradients\n",
    "            optimizer.zero_grad()\n",
    "            \n",
    "            # generate output and calculate losses\n",
    "            output = model.forward(batch_X)\n",
    "            loss = loss_fn(output, batch_y)\n",
    "            \n",
    "            # perform back propagation\n",
    "            loss.backward()\n",
    "            optimizer.step()\n",
    "            \n",
    "            total_loss += loss.data.item()\n",
    "        print(\"Epoch: {}, BCELoss: {}\".format(epoch, total_loss / len(train_loader)))"
   ]
  },
  {
   "cell_type": "markdown",
   "metadata": {},
   "source": [
    "Supposing we have the training method above, we will test that it is working by writing a bit of code in the notebook that executes our training method on the small sample training set that we loaded earlier. The reason for doing this in the notebook is so that we have an opportunity to fix any errors that arise early when they are easier to diagnose."
   ]
  },
  {
   "cell_type": "code",
   "execution_count": 25,
   "metadata": {},
   "outputs": [
    {
     "name": "stdout",
     "output_type": "stream",
     "text": [
      "Epoch: 1, BCELoss: 0.6922815799713135\n",
      "Epoch: 2, BCELoss: 0.681801688671112\n",
      "Epoch: 3, BCELoss: 0.6728482127189637\n",
      "Epoch: 4, BCELoss: 0.6631731271743775\n",
      "Epoch: 5, BCELoss: 0.6515340328216552\n"
     ]
    }
   ],
   "source": [
    "import torch.optim as optim\n",
    "from train.model import LSTMClassifier\n",
    "\n",
    "device = torch.device(\"cuda\" if torch.cuda.is_available() else \"cpu\")\n",
    "model = LSTMClassifier(32, 100, 5000).to(device)\n",
    "optimizer = optim.Adam(model.parameters())\n",
    "loss_fn = torch.nn.BCELoss()\n",
    "\n",
    "train(model, train_sample_dl, 5, optimizer, loss_fn, device)"
   ]
  },
  {
   "cell_type": "markdown",
   "metadata": {},
   "source": [
    "In order to construct a PyTorch model using SageMaker we must provide SageMaker with a training script. We may optionally include a directory which will be copied to the container and from which our training code will be run. When the training container is executed it will check the uploaded directory (if there is one) for a `requirements.txt` file and install any required Python libraries, after which the training script will be run."
   ]
  },
  {
   "cell_type": "markdown",
   "metadata": {},
   "source": [
    "### (TODO) Training the model\n",
    "\n",
    "When a PyTorch model is constructed in SageMaker, an entry point must be specified. This is the Python file which will be executed when the model is trained. Inside of the `train` directory is a file called `train.py` which has been provided and which contains most of the necessary code to train our model. The only thing that is missing is the implementation of the `train()` method which you wrote earlier in this notebook.\n",
    "\n",
    "**TODO**: Copy the `train()` method written above and paste it into the `train/train.py` file where required.\n",
    "\n",
    "The way that SageMaker passes hyperparameters to the training script is by way of arguments. These arguments can then be parsed and used in the training script. To see how this is done take a look at the provided `train/train.py` file."
   ]
  },
  {
   "cell_type": "code",
   "execution_count": 26,
   "metadata": {},
   "outputs": [],
   "source": [
    "from sagemaker.pytorch import PyTorch\n",
    "\n",
    "estimator = PyTorch(entry_point=\"train.py\",\n",
    "                    source_dir=\"train\",\n",
    "                    role=role,\n",
    "                    framework_version='0.4.0',\n",
    "                    train_instance_count=1,\n",
    "                    train_instance_type='ml.p2.xlarge',\n",
    "                    hyperparameters={\n",
    "                        'epochs': 10,\n",
    "                        'hidden_dim': 200,\n",
    "                    })"
   ]
  },
  {
   "cell_type": "code",
   "execution_count": 27,
   "metadata": {},
   "outputs": [
    {
     "name": "stderr",
     "output_type": "stream",
     "text": [
      "'create_image_uri' will be deprecated in favor of 'ImageURIProvider' class in SageMaker Python SDK v2.\n",
      "'s3_input' class will be renamed to 'TrainingInput' in SageMaker Python SDK v2.\n",
      "'create_image_uri' will be deprecated in favor of 'ImageURIProvider' class in SageMaker Python SDK v2.\n"
     ]
    },
    {
     "name": "stdout",
     "output_type": "stream",
     "text": [
      "2020-07-22 11:15:52 Starting - Starting the training job...\n",
      "2020-07-22 11:15:53 Starting - Launching requested ML instances......\n",
      "2020-07-22 11:16:55 Starting - Preparing the instances for training......\n",
      "2020-07-22 11:18:14 Downloading - Downloading input data......\n",
      "2020-07-22 11:19:19 Training - Training image download completed. Training in progress..\u001b[34mbash: cannot set terminal process group (-1): Inappropriate ioctl for device\u001b[0m\n",
      "\u001b[34mbash: no job control in this shell\u001b[0m\n",
      "\u001b[34m2020-07-22 11:19:20,906 sagemaker-containers INFO     Imported framework sagemaker_pytorch_container.training\u001b[0m\n",
      "\u001b[34m2020-07-22 11:19:20,930 sagemaker_pytorch_container.training INFO     Block until all host DNS lookups succeed.\u001b[0m\n",
      "\u001b[34m2020-07-22 11:19:23,953 sagemaker_pytorch_container.training INFO     Invoking user training script.\u001b[0m\n",
      "\u001b[34m2020-07-22 11:19:24,193 sagemaker-containers INFO     Module train does not provide a setup.py. \u001b[0m\n",
      "\u001b[34mGenerating setup.py\u001b[0m\n",
      "\u001b[34m2020-07-22 11:19:24,193 sagemaker-containers INFO     Generating setup.cfg\u001b[0m\n",
      "\u001b[34m2020-07-22 11:19:24,193 sagemaker-containers INFO     Generating MANIFEST.in\u001b[0m\n",
      "\u001b[34m2020-07-22 11:19:24,193 sagemaker-containers INFO     Installing module with the following command:\u001b[0m\n",
      "\u001b[34m/usr/bin/python -m pip install -U . -r requirements.txt\u001b[0m\n",
      "\u001b[34mProcessing /opt/ml/code\u001b[0m\n",
      "\u001b[34mCollecting pandas (from -r requirements.txt (line 1))\n",
      "  Downloading https://files.pythonhosted.org/packages/74/24/0cdbf8907e1e3bc5a8da03345c23cbed7044330bb8f73bb12e711a640a00/pandas-0.24.2-cp35-cp35m-manylinux1_x86_64.whl (10.0MB)\u001b[0m\n",
      "\u001b[34mCollecting numpy (from -r requirements.txt (line 2))\n",
      "  Downloading https://files.pythonhosted.org/packages/b5/36/88723426b4ff576809fec7d73594fe17a35c27f8d01f93637637a29ae25b/numpy-1.18.5-cp35-cp35m-manylinux1_x86_64.whl (19.9MB)\u001b[0m\n",
      "\u001b[34mCollecting nltk (from -r requirements.txt (line 3))\n",
      "  Downloading https://files.pythonhosted.org/packages/92/75/ce35194d8e3022203cca0d2f896dbb88689f9b3fce8e9f9cff942913519d/nltk-3.5.zip (1.4MB)\u001b[0m\n",
      "\u001b[34mCollecting beautifulsoup4 (from -r requirements.txt (line 4))\n",
      "  Downloading https://files.pythonhosted.org/packages/66/25/ff030e2437265616a1e9b25ccc864e0371a0bc3adb7c5a404fd661c6f4f6/beautifulsoup4-4.9.1-py3-none-any.whl (115kB)\u001b[0m\n",
      "\u001b[34mCollecting html5lib (from -r requirements.txt (line 5))\n",
      "  Downloading https://files.pythonhosted.org/packages/6c/dd/a834df6482147d48e225a49515aabc28974ad5a4ca3215c18a882565b028/html5lib-1.1-py2.py3-none-any.whl (112kB)\u001b[0m\n",
      "\u001b[34mRequirement already satisfied, skipping upgrade: python-dateutil>=2.5.0 in /usr/local/lib/python3.5/dist-packages (from pandas->-r requirements.txt (line 1)) (2.7.5)\u001b[0m\n",
      "\u001b[34mCollecting pytz>=2011k (from pandas->-r requirements.txt (line 1))\n",
      "  Downloading https://files.pythonhosted.org/packages/4f/a4/879454d49688e2fad93e59d7d4efda580b783c745fd2ec2a3adf87b0808d/pytz-2020.1-py2.py3-none-any.whl (510kB)\u001b[0m\n",
      "\u001b[34mRequirement already satisfied, skipping upgrade: click in /usr/local/lib/python3.5/dist-packages (from nltk->-r requirements.txt (line 3)) (7.0)\u001b[0m\n",
      "\u001b[34mCollecting joblib (from nltk->-r requirements.txt (line 3))\n",
      "  Downloading https://files.pythonhosted.org/packages/28/5c/cf6a2b65a321c4a209efcdf64c2689efae2cb62661f8f6f4bb28547cf1bf/joblib-0.14.1-py2.py3-none-any.whl (294kB)\u001b[0m\n",
      "\u001b[34mCollecting regex (from nltk->-r requirements.txt (line 3))\u001b[0m\n",
      "\u001b[34m  Downloading https://files.pythonhosted.org/packages/09/c3/ddaa87500f31ed86290e3d014c0302a51fde28d7139eda0b5f33733726db/regex-2020.7.14.tar.gz (690kB)\u001b[0m\n",
      "\u001b[34mCollecting tqdm (from nltk->-r requirements.txt (line 3))\n",
      "  Downloading https://files.pythonhosted.org/packages/af/88/7b0ea5fa8192d1733dea459a9e3059afc87819cb4072c43263f2ec7ab768/tqdm-4.48.0-py2.py3-none-any.whl (67kB)\u001b[0m\n",
      "\u001b[34mCollecting soupsieve>1.2 (from beautifulsoup4->-r requirements.txt (line 4))\n",
      "  Downloading https://files.pythonhosted.org/packages/6f/8f/457f4a5390eeae1cc3aeab89deb7724c965be841ffca6cfca9197482e470/soupsieve-2.0.1-py3-none-any.whl\u001b[0m\n",
      "\u001b[34mRequirement already satisfied, skipping upgrade: six>=1.9 in /usr/local/lib/python3.5/dist-packages (from html5lib->-r requirements.txt (line 5)) (1.11.0)\u001b[0m\n",
      "\u001b[34mCollecting webencodings (from html5lib->-r requirements.txt (line 5))\n",
      "  Downloading https://files.pythonhosted.org/packages/f4/24/2a3e3df732393fed8b3ebf2ec078f05546de641fe1b667ee316ec1dcf3b7/webencodings-0.5.1-py2.py3-none-any.whl\u001b[0m\n",
      "\u001b[34mBuilding wheels for collected packages: nltk, train, regex\n",
      "  Running setup.py bdist_wheel for nltk: started\u001b[0m\n",
      "\u001b[34m  Running setup.py bdist_wheel for nltk: finished with status 'done'\n",
      "  Stored in directory: /root/.cache/pip/wheels/ae/8c/3f/b1fe0ba04555b08b57ab52ab7f86023639a526d8bc8d384306\n",
      "  Running setup.py bdist_wheel for train: started\n",
      "  Running setup.py bdist_wheel for train: finished with status 'done'\n",
      "  Stored in directory: /tmp/pip-ephem-wheel-cache-0hxqusl8/wheels/35/24/16/37574d11bf9bde50616c67372a334f94fa8356bc7164af8ca3\n",
      "  Running setup.py bdist_wheel for regex: started\u001b[0m\n",
      "\u001b[34m  Running setup.py bdist_wheel for regex: finished with status 'done'\n",
      "  Stored in directory: /root/.cache/pip/wheels/53/55/dc/e17fa4568958f4c53be34b65e474a1327b64641f65df379ec3\u001b[0m\n",
      "\u001b[34mSuccessfully built nltk train regex\u001b[0m\n",
      "\u001b[34mInstalling collected packages: numpy, pytz, pandas, joblib, regex, tqdm, nltk, soupsieve, beautifulsoup4, webencodings, html5lib, train\n",
      "  Found existing installation: numpy 1.15.4\n",
      "    Uninstalling numpy-1.15.4:\u001b[0m\n",
      "\u001b[34m      Successfully uninstalled numpy-1.15.4\u001b[0m\n",
      "\u001b[34mSuccessfully installed beautifulsoup4-4.9.1 html5lib-1.1 joblib-0.14.1 nltk-3.5 numpy-1.18.5 pandas-0.24.2 pytz-2020.1 regex-2020.7.14 soupsieve-2.0.1 tqdm-4.48.0 train-1.0.0 webencodings-0.5.1\u001b[0m\n",
      "\u001b[34mYou are using pip version 18.1, however version 20.2b1 is available.\u001b[0m\n",
      "\u001b[34mYou should consider upgrading via the 'pip install --upgrade pip' command.\u001b[0m\n",
      "\u001b[34m2020-07-22 11:19:46,281 sagemaker-containers INFO     Invoking user script\n",
      "\u001b[0m\n",
      "\u001b[34mTraining Env:\n",
      "\u001b[0m\n",
      "\u001b[34m{\n",
      "    \"module_name\": \"train\",\n",
      "    \"job_name\": \"sagemaker-pytorch-2020-07-22-11-15-51-756\",\n",
      "    \"current_host\": \"algo-1\",\n",
      "    \"output_intermediate_dir\": \"/opt/ml/output/intermediate\",\n",
      "    \"model_dir\": \"/opt/ml/model\",\n",
      "    \"output_data_dir\": \"/opt/ml/output/data\",\n",
      "    \"network_interface_name\": \"eth0\",\n",
      "    \"resource_config\": {\n",
      "        \"network_interface_name\": \"eth0\",\n",
      "        \"hosts\": [\n",
      "            \"algo-1\"\n",
      "        ],\n",
      "        \"current_host\": \"algo-1\"\n",
      "    },\n",
      "    \"module_dir\": \"s3://sagemaker-us-east-2-454058169514/sagemaker-pytorch-2020-07-22-11-15-51-756/source/sourcedir.tar.gz\",\n",
      "    \"num_cpus\": 4,\n",
      "    \"input_dir\": \"/opt/ml/input\",\n",
      "    \"log_level\": 20,\n",
      "    \"output_dir\": \"/opt/ml/output\",\n",
      "    \"hosts\": [\n",
      "        \"algo-1\"\n",
      "    ],\n",
      "    \"user_entry_point\": \"train.py\",\n",
      "    \"hyperparameters\": {\n",
      "        \"hidden_dim\": 200,\n",
      "        \"epochs\": 10\n",
      "    },\n",
      "    \"additional_framework_parameters\": {},\n",
      "    \"framework_module\": \"sagemaker_pytorch_container.training:main\",\n",
      "    \"num_gpus\": 1,\n",
      "    \"channel_input_dirs\": {\n",
      "        \"training\": \"/opt/ml/input/data/training\"\n",
      "    },\n",
      "    \"input_config_dir\": \"/opt/ml/input/config\",\n",
      "    \"input_data_config\": {\n",
      "        \"training\": {\n",
      "            \"RecordWrapperType\": \"None\",\n",
      "            \"S3DistributionType\": \"FullyReplicated\",\n",
      "            \"TrainingInputMode\": \"File\"\n",
      "        }\n",
      "    }\u001b[0m\n",
      "\u001b[34m}\n",
      "\u001b[0m\n",
      "\u001b[34mEnvironment variables:\n",
      "\u001b[0m\n",
      "\u001b[34mSM_OUTPUT_INTERMEDIATE_DIR=/opt/ml/output/intermediate\u001b[0m\n",
      "\u001b[34mSM_CURRENT_HOST=algo-1\u001b[0m\n",
      "\u001b[34mSM_HPS={\"epochs\":10,\"hidden_dim\":200}\u001b[0m\n",
      "\u001b[34mSM_FRAMEWORK_PARAMS={}\u001b[0m\n",
      "\u001b[34mSM_MODULE_NAME=train\u001b[0m\n",
      "\u001b[34mSM_OUTPUT_DIR=/opt/ml/output\u001b[0m\n",
      "\u001b[34mSM_NUM_GPUS=1\u001b[0m\n",
      "\u001b[34mSM_FRAMEWORK_MODULE=sagemaker_pytorch_container.training:main\u001b[0m\n",
      "\u001b[34mSM_HOSTS=[\"algo-1\"]\u001b[0m\n",
      "\u001b[34mSM_MODEL_DIR=/opt/ml/model\u001b[0m\n",
      "\u001b[34mSM_CHANNELS=[\"training\"]\u001b[0m\n",
      "\u001b[34mPYTHONPATH=/usr/local/bin:/usr/lib/python35.zip:/usr/lib/python3.5:/usr/lib/python3.5/plat-x86_64-linux-gnu:/usr/lib/python3.5/lib-dynload:/usr/local/lib/python3.5/dist-packages:/usr/lib/python3/dist-packages\u001b[0m\n",
      "\u001b[34mSM_HP_EPOCHS=10\u001b[0m\n",
      "\u001b[34mSM_INPUT_CONFIG_DIR=/opt/ml/input/config\u001b[0m\n",
      "\u001b[34mSM_INPUT_DIR=/opt/ml/input\u001b[0m\n",
      "\u001b[34mSM_USER_ARGS=[\"--epochs\",\"10\",\"--hidden_dim\",\"200\"]\u001b[0m\n",
      "\u001b[34mSM_INPUT_DATA_CONFIG={\"training\":{\"RecordWrapperType\":\"None\",\"S3DistributionType\":\"FullyReplicated\",\"TrainingInputMode\":\"File\"}}\u001b[0m\n",
      "\u001b[34mSM_NETWORK_INTERFACE_NAME=eth0\u001b[0m\n",
      "\u001b[34mSM_NUM_CPUS=4\u001b[0m\n",
      "\u001b[34mSM_RESOURCE_CONFIG={\"current_host\":\"algo-1\",\"hosts\":[\"algo-1\"],\"network_interface_name\":\"eth0\"}\u001b[0m\n",
      "\u001b[34mSM_USER_ENTRY_POINT=train.py\u001b[0m\n",
      "\u001b[34mSM_OUTPUT_DATA_DIR=/opt/ml/output/data\u001b[0m\n",
      "\u001b[34mSM_LOG_LEVEL=20\u001b[0m\n",
      "\u001b[34mSM_CHANNEL_TRAINING=/opt/ml/input/data/training\u001b[0m\n",
      "\u001b[34mSM_TRAINING_ENV={\"additional_framework_parameters\":{},\"channel_input_dirs\":{\"training\":\"/opt/ml/input/data/training\"},\"current_host\":\"algo-1\",\"framework_module\":\"sagemaker_pytorch_container.training:main\",\"hosts\":[\"algo-1\"],\"hyperparameters\":{\"epochs\":10,\"hidden_dim\":200},\"input_config_dir\":\"/opt/ml/input/config\",\"input_data_config\":{\"training\":{\"RecordWrapperType\":\"None\",\"S3DistributionType\":\"FullyReplicated\",\"TrainingInputMode\":\"File\"}},\"input_dir\":\"/opt/ml/input\",\"job_name\":\"sagemaker-pytorch-2020-07-22-11-15-51-756\",\"log_level\":20,\"model_dir\":\"/opt/ml/model\",\"module_dir\":\"s3://sagemaker-us-east-2-454058169514/sagemaker-pytorch-2020-07-22-11-15-51-756/source/sourcedir.tar.gz\",\"module_name\":\"train\",\"network_interface_name\":\"eth0\",\"num_cpus\":4,\"num_gpus\":1,\"output_data_dir\":\"/opt/ml/output/data\",\"output_dir\":\"/opt/ml/output\",\"output_intermediate_dir\":\"/opt/ml/output/intermediate\",\"resource_config\":{\"current_host\":\"algo-1\",\"hosts\":[\"algo-1\"],\"network_interface_name\":\"eth0\"},\"user_entry_point\":\"train.py\"}\u001b[0m\n",
      "\u001b[34mSM_MODULE_DIR=s3://sagemaker-us-east-2-454058169514/sagemaker-pytorch-2020-07-22-11-15-51-756/source/sourcedir.tar.gz\u001b[0m\n",
      "\u001b[34mSM_HP_HIDDEN_DIM=200\n",
      "\u001b[0m\n",
      "\u001b[34mInvoking script with the following command:\n",
      "\u001b[0m\n",
      "\u001b[34m/usr/bin/python -m train --epochs 10 --hidden_dim 200\n",
      "\n",
      "\u001b[0m\n",
      "\u001b[34mUsing device cuda.\u001b[0m\n",
      "\u001b[34mGet train data loader.\u001b[0m\n"
     ]
    },
    {
     "name": "stdout",
     "output_type": "stream",
     "text": [
      "\u001b[34mModel loaded with embedding_dim 32, hidden_dim 200, vocab_size 5000.\u001b[0m\n",
      "\u001b[34mEpoch: 1, BCELoss: 0.6743331661029738\u001b[0m\n",
      "\u001b[34mEpoch: 2, BCELoss: 0.6150037901742118\u001b[0m\n",
      "\u001b[34mEpoch: 3, BCELoss: 0.5131795083989903\u001b[0m\n",
      "\u001b[34mEpoch: 4, BCELoss: 0.4462450396041481\u001b[0m\n",
      "\u001b[34mEpoch: 5, BCELoss: 0.38492316129256265\u001b[0m\n",
      "\u001b[34mEpoch: 6, BCELoss: 0.3559058825580441\u001b[0m\n",
      "\u001b[34mEpoch: 7, BCELoss: 0.3594178946650758\u001b[0m\n",
      "\u001b[34mEpoch: 8, BCELoss: 0.31076544918576066\u001b[0m\n",
      "\u001b[34mEpoch: 9, BCELoss: 0.2924647541070471\u001b[0m\n",
      "\n",
      "2020-07-22 11:22:52 Uploading - Uploading generated training model\u001b[34mEpoch: 10, BCELoss: 0.27346114905513064\u001b[0m\n",
      "\u001b[34m2020-07-22 11:22:49,189 sagemaker-containers INFO     Reporting training SUCCESS\u001b[0m\n",
      "\n",
      "2020-07-22 11:22:59 Completed - Training job completed\n",
      "Training seconds: 285\n",
      "Billable seconds: 285\n"
     ]
    }
   ],
   "source": [
    "estimator.fit({'training': input_data})"
   ]
  },
  {
   "cell_type": "markdown",
   "metadata": {},
   "source": [
    "## Step 5: Testing the model\n",
    "\n",
    "As mentioned at the top of this notebook, we will be testing this model by first deploying it and then sending the testing data to the deployed endpoint. We will do this so that we can make sure that the deployed model is working correctly.\n",
    "\n",
    "## Step 6: Deploy the model for testing\n",
    "\n",
    "Now that we have trained our model, we would like to test it to see how it performs. Currently our model takes input of the form `review_length, review[500]` where `review[500]` is a sequence of `500` integers which describe the words present in the review, encoded using `word_dict`. Fortunately for us, SageMaker provides built-in inference code for models with simple inputs such as this.\n",
    "\n",
    "There is one thing that we need to provide, however, and that is a function which loads the saved model. This function must be called `model_fn()` and takes as its only parameter a path to the directory where the model artifacts are stored. This function must also be present in the python file which we specified as the entry point. In our case the model loading function has been provided and so no changes need to be made.\n",
    "\n",
    "**NOTE**: When the built-in inference code is run it must import the `model_fn()` method from the `train.py` file. This is why the training code is wrapped in a main guard ( ie, `if __name__ == '__main__':` )\n",
    "\n",
    "Since we don't need to change anything in the code that was uploaded during training, we can simply deploy the current model as-is.\n",
    "\n",
    "**NOTE:** When deploying a model you are asking SageMaker to launch an compute instance that will wait for data to be sent to it. As a result, this compute instance will continue to run until *you* shut it down. This is important to know since the cost of a deployed endpoint depends on how long it has been running for.\n",
    "\n",
    "In other words **If you are no longer using a deployed endpoint, shut it down!**\n",
    "\n",
    "**TODO:** Deploy the trained model."
   ]
  },
  {
   "cell_type": "code",
   "execution_count": 28,
   "metadata": {},
   "outputs": [
    {
     "name": "stderr",
     "output_type": "stream",
     "text": [
      "Parameter image will be renamed to image_uri in SageMaker Python SDK v2.\n",
      "'create_image_uri' will be deprecated in favor of 'ImageURIProvider' class in SageMaker Python SDK v2.\n"
     ]
    },
    {
     "name": "stdout",
     "output_type": "stream",
     "text": [
      "---------------!"
     ]
    }
   ],
   "source": [
    "predictor = estimator.deploy(initial_instance_count=1, instance_type='ml.m4.xlarge')"
   ]
  },
  {
   "cell_type": "markdown",
   "metadata": {},
   "source": [
    "## Step 7 - Use the model for testing\n",
    "\n",
    "Once deployed, we can read in the test data and send it off to our deployed model to get some results. Once we collect all of the results we can determine how accurate our model is."
   ]
  },
  {
   "cell_type": "code",
   "execution_count": 29,
   "metadata": {},
   "outputs": [],
   "source": [
    "test_X = pd.concat([pd.DataFrame(test_X_len), pd.DataFrame(test_X)], axis=1)"
   ]
  },
  {
   "cell_type": "code",
   "execution_count": 30,
   "metadata": {},
   "outputs": [
    {
     "name": "stdout",
     "output_type": "stream",
     "text": [
      "[207  54  57 ...  73 176  20]\n",
      "       0     0    1     2     3     4     5     6     7    8    ...  490  491  \\\n",
      "0      207   109    1   281    63  1389  2289   922   174    2  ...    0    0   \n",
      "1       54   135    2  2637     1   424   212   630  2108  168  ...    0    0   \n",
      "2       57    28  506  2372    33     1    94   916     1   20  ...    0    0   \n",
      "3      176    15   26  1299  2794  1400     3  1210  1286  587  ...    0    0   \n",
      "4       51   174    2     1    56    47    47    70     2  132  ...    0    0   \n",
      "...    ...   ...  ...   ...   ...   ...   ...   ...   ...  ...  ...  ...  ...   \n",
      "24995  136  4352   79    91   531   743  1229   819     1   13  ...    0    0   \n",
      "24996   27   300  218   234  1834    27   147  1759    66   15  ...    0    0   \n",
      "24997   73   151  174     3    56    47   323    41    41    1  ...    0    0   \n",
      "24998  176  3203    1    29   154   120     1     1     4  576  ...    0    0   \n",
      "24999   20  1821  579   494    73   303    53   150  3246  222  ...    0    0   \n",
      "\n",
      "       492  493  494  495  496  497  498  499  \n",
      "0        0    0    0    0    0    0    0    0  \n",
      "1        0    0    0    0    0    0    0    0  \n",
      "2        0    0    0    0    0    0    0    0  \n",
      "3        0    0    0    0    0    0    0    0  \n",
      "4        0    0    0    0    0    0    0    0  \n",
      "...    ...  ...  ...  ...  ...  ...  ...  ...  \n",
      "24995    0    0    0    0    0    0    0    0  \n",
      "24996    0    0    0    0    0    0    0    0  \n",
      "24997    0    0    0    0    0    0    0    0  \n",
      "24998    0    0    0    0    0    0    0    0  \n",
      "24999    0    0    0    0    0    0    0    0  \n",
      "\n",
      "[25000 rows x 501 columns]\n"
     ]
    }
   ],
   "source": [
    "print(test_X_len)\n",
    "print(test_X)"
   ]
  },
  {
   "cell_type": "code",
   "execution_count": 31,
   "metadata": {},
   "outputs": [],
   "source": [
    "# We split the data into chunks and send each chunk seperately, accumulating the results.\n",
    "\n",
    "def predict(data, rows=512):\n",
    "    split_array = np.array_split(data, int(data.shape[0] / float(rows) + 1))\n",
    "    predictions = np.array([])\n",
    "    for array in split_array:\n",
    "        predictions = np.append(predictions, predictor.predict(array))\n",
    "    \n",
    "    return predictions"
   ]
  },
  {
   "cell_type": "code",
   "execution_count": 32,
   "metadata": {},
   "outputs": [],
   "source": [
    "predictions = predict(test_X.values)\n",
    "predictions = [round(num) for num in predictions]"
   ]
  },
  {
   "cell_type": "code",
   "execution_count": 33,
   "metadata": {},
   "outputs": [
    {
     "data": {
      "text/plain": [
       "0.85344"
      ]
     },
     "execution_count": 33,
     "metadata": {},
     "output_type": "execute_result"
    }
   ],
   "source": [
    "from sklearn.metrics import accuracy_score\n",
    "accuracy_score(test_y, predictions)"
   ]
  },
  {
   "cell_type": "markdown",
   "metadata": {},
   "source": [
    "**Question:** How does this model compare to the XGBoost model you created earlier? Why might these two models perform differently on this dataset? Which do *you* think is better for sentiment analysis?"
   ]
  },
  {
   "cell_type": "markdown",
   "metadata": {},
   "source": [
    "**Answer:**\n",
    "\n",
    "This model performed slightly better than the XGBoost model, producing an accuracy score of 0.853 (whereas the XGBoost model had an accuracy score of 0.839). In other sentiment analysis models, neural nets also seem to consistently outperform XGBoost ([here](http://www.diva-portal.org/smash/get/diva2:1335995/FULLTEXT02) and [here](http://ceur-ws.org/Vol-2590/short35.pdf)). This could be the case due to the fact that sentiment analysis often use high-dimensional data where variables are likely to have correlations in some way. Tree-based algorithms typically perform better in scenarios where the data is tabular and the number of variables is small. But this is not the case with typical sentiment analysis."
   ]
  },
  {
   "cell_type": "markdown",
   "metadata": {},
   "source": [
    "### (TODO) More testing\n",
    "\n",
    "We now have a trained model which has been deployed and which we can send processed reviews to and which returns the predicted sentiment. However, ultimately we would like to be able to send our model an unprocessed review. That is, we would like to send the review itself as a string. For example, suppose we wish to send the following review to our model."
   ]
  },
  {
   "cell_type": "code",
   "execution_count": null,
   "metadata": {},
   "outputs": [],
   "source": [
    "test_review = 'The simplest pleasures in life are the best, and this film is one of them. Combining a rather basic storyline of love and adventure this movie transcends the usual weekend fair with wit and unmitigated charm.'"
   ]
  },
  {
   "cell_type": "markdown",
   "metadata": {},
   "source": [
    "The question we now need to answer is, how do we send this review to our model?\n",
    "\n",
    "Recall in the first section of this notebook we did a bunch of data processing to the IMDb dataset. In particular, we did two specific things to the provided reviews.\n",
    " - Removed any html tags and stemmed the input\n",
    " - Encoded the review as a sequence of integers using `word_dict`\n",
    " \n",
    "In order process the review we will need to repeat these two steps.\n",
    "\n",
    "**TODO**: Using the `review_to_words` and `convert_and_pad` methods from section one, convert `test_review` into a numpy array `test_data` suitable to send to our model. Remember that our model expects input of the form `review_length, review[500]`."
   ]
  },
  {
   "cell_type": "code",
   "execution_count": 35,
   "metadata": {},
   "outputs": [
    {
     "name": "stdout",
     "output_type": "stream",
     "text": [
      "   0    1     2    3    4    5    6    7    8    9    ...  491  492  493  494  \\\n",
      "0   20    1  1376   50   53    3    4  878  173  392  ...    0    0    0    0   \n",
      "\n",
      "   495  496  497  498  499  500  \n",
      "0    0    0    0    0    0    0  \n",
      "\n",
      "[1 rows x 501 columns]\n"
     ]
    }
   ],
   "source": [
    "# convert test_review into a form usable by the model and save the results in test_data\n",
    "test_review_X, test_review_length = convert_and_pad(word_dict, review_to_words(test_review))\n",
    "test_review_X, test_review_length = np.array(test_review_X), np.array(test_review_length)\n",
    "\n",
    "test_data = np.insert(test_review_X, 0, test_review_length)\n",
    "test_data = pd.DataFrame(test_data).transpose()\n",
    "print(test_data)"
   ]
  },
  {
   "cell_type": "markdown",
   "metadata": {},
   "source": [
    "Now that we have processed the review, we can send the resulting array to our model to predict the sentiment of the review."
   ]
  },
  {
   "cell_type": "code",
   "execution_count": 36,
   "metadata": {},
   "outputs": [
    {
     "data": {
      "text/plain": [
       "array(0.83037513, dtype=float32)"
      ]
     },
     "execution_count": 36,
     "metadata": {},
     "output_type": "execute_result"
    }
   ],
   "source": [
    "predictor.predict(test_data)"
   ]
  },
  {
   "cell_type": "markdown",
   "metadata": {},
   "source": [
    "Since the return value of our model is close to `1`, we can be certain that the review we submitted is positive."
   ]
  },
  {
   "cell_type": "markdown",
   "metadata": {},
   "source": [
    "### Delete the endpoint\n",
    "\n",
    "Of course, just like in the XGBoost notebook, once we've deployed an endpoint it continues to run until we tell it to shut down. Since we are done using our endpoint for now, we can delete it."
   ]
  },
  {
   "cell_type": "code",
   "execution_count": 37,
   "metadata": {},
   "outputs": [
    {
     "name": "stderr",
     "output_type": "stream",
     "text": [
      "WARNING:root:estimator.delete_endpoint() will be deprecated in SageMaker Python SDK v2. Please use the delete_endpoint() function on your predictor instead.\n"
     ]
    }
   ],
   "source": [
    "estimator.delete_endpoint()"
   ]
  },
  {
   "cell_type": "markdown",
   "metadata": {},
   "source": [
    "## Step 6 (again) - Deploy the model for the web app\n",
    "\n",
    "Now that we know that our model is working, it's time to create some custom inference code so that we can send the model a review which has not been processed and have it determine the sentiment of the review.\n",
    "\n",
    "As we saw above, by default the estimator which we created, when deployed, will use the entry script and directory which we provided when creating the model. However, since we now wish to accept a string as input and our model expects a processed review, we need to write some custom inference code.\n",
    "\n",
    "We will store the code that we write in the `serve` directory. Provided in this directory is the `model.py` file that we used to construct our model, a `utils.py` file which contains the `review_to_words` and `convert_and_pad` pre-processing functions which we used during the initial data processing, and `predict.py`, the file which will contain our custom inference code. Note also that `requirements.txt` is present which will tell SageMaker what Python libraries are required by our custom inference code.\n",
    "\n",
    "When deploying a PyTorch model in SageMaker, you are expected to provide four functions which the SageMaker inference container will use.\n",
    " - `model_fn`: This function is the same function that we used in the training script and it tells SageMaker how to load our model.\n",
    " - `input_fn`: This function receives the raw serialized input that has been sent to the model's endpoint and its job is to de-serialize and make the input available for the inference code.\n",
    " - `output_fn`: This function takes the output of the inference code and its job is to serialize this output and return it to the caller of the model's endpoint.\n",
    " - `predict_fn`: The heart of the inference script, this is where the actual prediction is done and is the function which you will need to complete.\n",
    "\n",
    "For the simple website that we are constructing during this project, the `input_fn` and `output_fn` methods are relatively straightforward. We only require being able to accept a string as input and we expect to return a single value as output. You might imagine though that in a more complex application the input or output may be image data or some other binary data which would require some effort to serialize.\n",
    "\n",
    "### (TODO) Writing inference code\n",
    "\n",
    "Before writing our custom inference code, we will begin by taking a look at the code which has been provided."
   ]
  },
  {
   "cell_type": "code",
   "execution_count": 38,
   "metadata": {},
   "outputs": [
    {
     "name": "stdout",
     "output_type": "stream",
     "text": [
      "\u001b[34mimport\u001b[39;49;00m \u001b[04m\u001b[36margparse\u001b[39;49;00m\r\n",
      "\u001b[34mimport\u001b[39;49;00m \u001b[04m\u001b[36mjson\u001b[39;49;00m\r\n",
      "\u001b[34mimport\u001b[39;49;00m \u001b[04m\u001b[36mos\u001b[39;49;00m\r\n",
      "\u001b[34mimport\u001b[39;49;00m \u001b[04m\u001b[36mpickle\u001b[39;49;00m\r\n",
      "\u001b[34mimport\u001b[39;49;00m \u001b[04m\u001b[36msys\u001b[39;49;00m\r\n",
      "\u001b[34mimport\u001b[39;49;00m \u001b[04m\u001b[36msagemaker_containers\u001b[39;49;00m\r\n",
      "\u001b[34mimport\u001b[39;49;00m \u001b[04m\u001b[36mpandas\u001b[39;49;00m \u001b[34mas\u001b[39;49;00m \u001b[04m\u001b[36mpd\u001b[39;49;00m\r\n",
      "\u001b[34mimport\u001b[39;49;00m \u001b[04m\u001b[36mnumpy\u001b[39;49;00m \u001b[34mas\u001b[39;49;00m \u001b[04m\u001b[36mnp\u001b[39;49;00m\r\n",
      "\u001b[34mimport\u001b[39;49;00m \u001b[04m\u001b[36mtorch\u001b[39;49;00m\r\n",
      "\u001b[34mimport\u001b[39;49;00m \u001b[04m\u001b[36mtorch\u001b[39;49;00m\u001b[04m\u001b[36m.\u001b[39;49;00m\u001b[04m\u001b[36mnn\u001b[39;49;00m \u001b[34mas\u001b[39;49;00m \u001b[04m\u001b[36mnn\u001b[39;49;00m\r\n",
      "\u001b[34mimport\u001b[39;49;00m \u001b[04m\u001b[36mtorch\u001b[39;49;00m\u001b[04m\u001b[36m.\u001b[39;49;00m\u001b[04m\u001b[36moptim\u001b[39;49;00m \u001b[34mas\u001b[39;49;00m \u001b[04m\u001b[36moptim\u001b[39;49;00m\r\n",
      "\u001b[34mimport\u001b[39;49;00m \u001b[04m\u001b[36mtorch\u001b[39;49;00m\u001b[04m\u001b[36m.\u001b[39;49;00m\u001b[04m\u001b[36mutils\u001b[39;49;00m\u001b[04m\u001b[36m.\u001b[39;49;00m\u001b[04m\u001b[36mdata\u001b[39;49;00m\r\n",
      "\r\n",
      "\u001b[34mfrom\u001b[39;49;00m \u001b[04m\u001b[36mmodel\u001b[39;49;00m \u001b[34mimport\u001b[39;49;00m LSTMClassifier\r\n",
      "\r\n",
      "\u001b[34mfrom\u001b[39;49;00m \u001b[04m\u001b[36mutils\u001b[39;49;00m \u001b[34mimport\u001b[39;49;00m review_to_words, convert_and_pad\r\n",
      "\r\n",
      "\u001b[34mdef\u001b[39;49;00m \u001b[32mmodel_fn\u001b[39;49;00m(model_dir):\r\n",
      "    \u001b[33m\"\"\"Load the PyTorch model from the `model_dir` directory.\"\"\"\u001b[39;49;00m\r\n",
      "    \u001b[36mprint\u001b[39;49;00m(\u001b[33m\"\u001b[39;49;00m\u001b[33mLoading model.\u001b[39;49;00m\u001b[33m\"\u001b[39;49;00m)\r\n",
      "\r\n",
      "    \u001b[37m# First, load the parameters used to create the model.\u001b[39;49;00m\r\n",
      "    model_info = {}\r\n",
      "    model_info_path = os.path.join(model_dir, \u001b[33m'\u001b[39;49;00m\u001b[33mmodel_info.pth\u001b[39;49;00m\u001b[33m'\u001b[39;49;00m)\r\n",
      "    \u001b[34mwith\u001b[39;49;00m \u001b[36mopen\u001b[39;49;00m(model_info_path, \u001b[33m'\u001b[39;49;00m\u001b[33mrb\u001b[39;49;00m\u001b[33m'\u001b[39;49;00m) \u001b[34mas\u001b[39;49;00m f:\r\n",
      "        model_info = torch.load(f)\r\n",
      "\r\n",
      "    \u001b[36mprint\u001b[39;49;00m(\u001b[33m\"\u001b[39;49;00m\u001b[33mmodel_info: \u001b[39;49;00m\u001b[33m{}\u001b[39;49;00m\u001b[33m\"\u001b[39;49;00m.format(model_info))\r\n",
      "\r\n",
      "    \u001b[37m# Determine the device and construct the model.\u001b[39;49;00m\r\n",
      "    device = torch.device(\u001b[33m\"\u001b[39;49;00m\u001b[33mcuda\u001b[39;49;00m\u001b[33m\"\u001b[39;49;00m \u001b[34mif\u001b[39;49;00m torch.cuda.is_available() \u001b[34melse\u001b[39;49;00m \u001b[33m\"\u001b[39;49;00m\u001b[33mcpu\u001b[39;49;00m\u001b[33m\"\u001b[39;49;00m)\r\n",
      "    model = LSTMClassifier(model_info[\u001b[33m'\u001b[39;49;00m\u001b[33membedding_dim\u001b[39;49;00m\u001b[33m'\u001b[39;49;00m], model_info[\u001b[33m'\u001b[39;49;00m\u001b[33mhidden_dim\u001b[39;49;00m\u001b[33m'\u001b[39;49;00m], model_info[\u001b[33m'\u001b[39;49;00m\u001b[33mvocab_size\u001b[39;49;00m\u001b[33m'\u001b[39;49;00m])\r\n",
      "\r\n",
      "    \u001b[37m# Load the store model parameters.\u001b[39;49;00m\r\n",
      "    model_path = os.path.join(model_dir, \u001b[33m'\u001b[39;49;00m\u001b[33mmodel.pth\u001b[39;49;00m\u001b[33m'\u001b[39;49;00m)\r\n",
      "    \u001b[34mwith\u001b[39;49;00m \u001b[36mopen\u001b[39;49;00m(model_path, \u001b[33m'\u001b[39;49;00m\u001b[33mrb\u001b[39;49;00m\u001b[33m'\u001b[39;49;00m) \u001b[34mas\u001b[39;49;00m f:\r\n",
      "        model.load_state_dict(torch.load(f))\r\n",
      "\r\n",
      "    \u001b[37m# Load the saved word_dict.\u001b[39;49;00m\r\n",
      "    word_dict_path = os.path.join(model_dir, \u001b[33m'\u001b[39;49;00m\u001b[33mword_dict.pkl\u001b[39;49;00m\u001b[33m'\u001b[39;49;00m)\r\n",
      "    \u001b[34mwith\u001b[39;49;00m \u001b[36mopen\u001b[39;49;00m(word_dict_path, \u001b[33m'\u001b[39;49;00m\u001b[33mrb\u001b[39;49;00m\u001b[33m'\u001b[39;49;00m) \u001b[34mas\u001b[39;49;00m f:\r\n",
      "        model.word_dict = pickle.load(f)\r\n",
      "\r\n",
      "    model.to(device).eval()\r\n",
      "\r\n",
      "    \u001b[36mprint\u001b[39;49;00m(\u001b[33m\"\u001b[39;49;00m\u001b[33mDone loading model.\u001b[39;49;00m\u001b[33m\"\u001b[39;49;00m)\r\n",
      "    \u001b[34mreturn\u001b[39;49;00m model\r\n",
      "\r\n",
      "\u001b[34mdef\u001b[39;49;00m \u001b[32minput_fn\u001b[39;49;00m(serialized_input_data, content_type):\r\n",
      "    \u001b[36mprint\u001b[39;49;00m(\u001b[33m'\u001b[39;49;00m\u001b[33mDeserializing the input data.\u001b[39;49;00m\u001b[33m'\u001b[39;49;00m)\r\n",
      "    \u001b[34mif\u001b[39;49;00m content_type == \u001b[33m'\u001b[39;49;00m\u001b[33mtext/plain\u001b[39;49;00m\u001b[33m'\u001b[39;49;00m:\r\n",
      "        data = serialized_input_data.decode(\u001b[33m'\u001b[39;49;00m\u001b[33mutf-8\u001b[39;49;00m\u001b[33m'\u001b[39;49;00m)\r\n",
      "        \u001b[34mreturn\u001b[39;49;00m data\r\n",
      "    \u001b[34mraise\u001b[39;49;00m \u001b[36mException\u001b[39;49;00m(\u001b[33m'\u001b[39;49;00m\u001b[33mRequested unsupported ContentType in content_type: \u001b[39;49;00m\u001b[33m'\u001b[39;49;00m + content_type)\r\n",
      "\r\n",
      "\u001b[34mdef\u001b[39;49;00m \u001b[32moutput_fn\u001b[39;49;00m(prediction_output, accept):\r\n",
      "    \u001b[36mprint\u001b[39;49;00m(\u001b[33m'\u001b[39;49;00m\u001b[33mSerializing the generated output.\u001b[39;49;00m\u001b[33m'\u001b[39;49;00m)\r\n",
      "    \u001b[34mreturn\u001b[39;49;00m \u001b[36mstr\u001b[39;49;00m(prediction_output)\r\n",
      "\r\n",
      "\u001b[34mdef\u001b[39;49;00m \u001b[32mpredict_fn\u001b[39;49;00m(input_data, model):\r\n",
      "    \u001b[36mprint\u001b[39;49;00m(\u001b[33m'\u001b[39;49;00m\u001b[33mInferring sentiment of input data.\u001b[39;49;00m\u001b[33m'\u001b[39;49;00m)\r\n",
      "\r\n",
      "    device = torch.device(\u001b[33m\"\u001b[39;49;00m\u001b[33mcuda\u001b[39;49;00m\u001b[33m\"\u001b[39;49;00m \u001b[34mif\u001b[39;49;00m torch.cuda.is_available() \u001b[34melse\u001b[39;49;00m \u001b[33m\"\u001b[39;49;00m\u001b[33mcpu\u001b[39;49;00m\u001b[33m\"\u001b[39;49;00m)\r\n",
      "    \r\n",
      "    \u001b[34mif\u001b[39;49;00m model.word_dict \u001b[35mis\u001b[39;49;00m \u001b[34mNone\u001b[39;49;00m:\r\n",
      "        \u001b[34mraise\u001b[39;49;00m \u001b[36mException\u001b[39;49;00m(\u001b[33m'\u001b[39;49;00m\u001b[33mModel has not been loaded properly, no word_dict.\u001b[39;49;00m\u001b[33m'\u001b[39;49;00m)\r\n",
      "    \r\n",
      "    \u001b[37m# TODO: Process input_data so that it is ready to be sent to our model.\u001b[39;49;00m\r\n",
      "    \u001b[37m#       You should produce two variables:\u001b[39;49;00m\r\n",
      "    \u001b[37m#         data_X   - A sequence of length 500 which represents the converted review\u001b[39;49;00m\r\n",
      "    \u001b[37m#         data_len - The length of the review\u001b[39;49;00m\r\n",
      "\r\n",
      "    data_X = \u001b[34mNone\u001b[39;49;00m\r\n",
      "    data_len = \u001b[34mNone\u001b[39;49;00m\r\n",
      "\r\n",
      "    \u001b[37m# Using data_X and data_len we construct an appropriate input tensor. Remember\u001b[39;49;00m\r\n",
      "    \u001b[37m# that our model expects input data of the form 'len, review[500]'.\u001b[39;49;00m\r\n",
      "    data_pack = np.hstack((data_len, data_X))\r\n",
      "    data_pack = data_pack.reshape(\u001b[34m1\u001b[39;49;00m, -\u001b[34m1\u001b[39;49;00m)\r\n",
      "    \r\n",
      "    data = torch.from_numpy(data_pack)\r\n",
      "    data = data.to(device)\r\n",
      "\r\n",
      "    \u001b[37m# Make sure to put the model into evaluation mode\u001b[39;49;00m\r\n",
      "    model.eval()\r\n",
      "\r\n",
      "    \u001b[37m# TODO: Compute the result of applying the model to the input data. The variable `result` should\u001b[39;49;00m\r\n",
      "    \u001b[37m#       be a numpy array which contains a single integer which is either 1 or 0\u001b[39;49;00m\r\n",
      "\r\n",
      "    result = \u001b[34mNone\u001b[39;49;00m\r\n",
      "\r\n",
      "    \u001b[34mreturn\u001b[39;49;00m result\r\n"
     ]
    }
   ],
   "source": [
    "!pygmentize serve/predict.py"
   ]
  },
  {
   "cell_type": "markdown",
   "metadata": {},
   "source": [
    "As mentioned earlier, the `model_fn` method is the same as the one provided in the training code and the `input_fn` and `output_fn` methods are very simple and your task will be to complete the `predict_fn` method. Make sure that you save the completed file as `predict.py` in the `serve` directory.\n",
    "\n",
    "**TODO**: Complete the `predict_fn()` method in the `serve/predict.py` file."
   ]
  },
  {
   "cell_type": "markdown",
   "metadata": {},
   "source": [
    "### Deploying the model\n",
    "\n",
    "Now that the custom inference code has been written, we will create and deploy our model. To begin with, we need to construct a new PyTorchModel object which points to the model artifacts created during training and also points to the inference code that we wish to use. Then we can call the deploy method to launch the deployment container.\n",
    "\n",
    "**NOTE**: The default behaviour for a deployed PyTorch model is to assume that any input passed to the predictor is a `numpy` array. In our case we want to send a string so we need to construct a simple wrapper around the `RealTimePredictor` class to accomodate simple strings. In a more complicated situation you may want to provide a serialization object, for example if you wanted to sent image data."
   ]
  },
  {
   "cell_type": "code",
   "execution_count": 54,
   "metadata": {},
   "outputs": [
    {
     "name": "stderr",
     "output_type": "stream",
     "text": [
      "WARNING:sagemaker:Parameter image will be renamed to image_uri in SageMaker Python SDK v2.\n"
     ]
    }
   ],
   "source": [
    "from sagemaker.predictor import RealTimePredictor\n",
    "from sagemaker.pytorch import PyTorchModel\n",
    "\n",
    "class StringPredictor(RealTimePredictor):\n",
    "    def __init__(self, endpoint_name, sagemaker_session):\n",
    "        super(StringPredictor, self).__init__(endpoint_name, sagemaker_session, content_type='text/plain')\n",
    "\n",
    "model = PyTorchModel(model_data=estimator.model_data,\n",
    "                     role = role,\n",
    "                     framework_version='0.4.0',\n",
    "                     entry_point='predict.py',\n",
    "                     source_dir='serve',\n",
    "                     predictor_cls=StringPredictor)"
   ]
  },
  {
   "cell_type": "code",
   "execution_count": 55,
   "metadata": {},
   "outputs": [
    {
     "name": "stderr",
     "output_type": "stream",
     "text": [
      "WARNING:sagemaker:'create_image_uri' will be deprecated in favor of 'ImageURIProvider' class in SageMaker Python SDK v2.\n"
     ]
    },
    {
     "name": "stdout",
     "output_type": "stream",
     "text": [
      "---------------!"
     ]
    }
   ],
   "source": [
    "predictor = model.deploy(initial_instance_count=1, instance_type='ml.m4.xlarge')"
   ]
  },
  {
   "cell_type": "markdown",
   "metadata": {},
   "source": [
    "### Testing the model\n",
    "\n",
    "Now that we have deployed our model with the custom inference code, we should test to see if everything is working. Here we test our model by loading the first `250` positive and negative reviews and send them to the endpoint, then collect the results. The reason for only sending some of the data is that the amount of time it takes for our model to process the input and then perform inference is quite long and so testing the entire data set would be prohibitive."
   ]
  },
  {
   "cell_type": "code",
   "execution_count": 56,
   "metadata": {},
   "outputs": [],
   "source": [
    "import glob\n",
    "\n",
    "def test_reviews(data_dir='../data/aclImdb', stop=250):\n",
    "    \n",
    "    results = []\n",
    "    ground = []\n",
    "    \n",
    "    # We make sure to test both positive and negative reviews    \n",
    "    for sentiment in ['pos', 'neg']:\n",
    "        \n",
    "        path = os.path.join(data_dir, 'test', sentiment, '*.txt')\n",
    "        files = glob.glob(path)\n",
    "        \n",
    "        files_read = 0\n",
    "        \n",
    "        print('Starting ', sentiment, ' files')\n",
    "        \n",
    "        # Iterate through the files and send them to the predictor\n",
    "        for f in files:\n",
    "            with open(f) as review:\n",
    "                # First, we store the ground truth (was the review positive or negative)\n",
    "                if sentiment == 'pos':\n",
    "                    ground.append(1)\n",
    "                else:\n",
    "                    ground.append(0)\n",
    "                # Read in the review and convert to 'utf-8' for transmission via HTTP\n",
    "                review_input = review.read().encode('utf-8')\n",
    "                # Send the review to the predictor and store the results\n",
    "                results.append(int(predictor.predict(review_input)))\n",
    "                \n",
    "            # Sending reviews to our endpoint one at a time takes a while so we\n",
    "            # only send a small number of reviews\n",
    "            files_read += 1\n",
    "            if files_read == stop:\n",
    "                break\n",
    "            \n",
    "    return ground, results"
   ]
  },
  {
   "cell_type": "code",
   "execution_count": 57,
   "metadata": {},
   "outputs": [
    {
     "name": "stdout",
     "output_type": "stream",
     "text": [
      "Starting  pos  files\n",
      "Starting  neg  files\n"
     ]
    }
   ],
   "source": [
    "ground, results = test_reviews()"
   ]
  },
  {
   "cell_type": "code",
   "execution_count": 58,
   "metadata": {},
   "outputs": [
    {
     "data": {
      "text/plain": [
       "0.856"
      ]
     },
     "execution_count": 58,
     "metadata": {},
     "output_type": "execute_result"
    }
   ],
   "source": [
    "from sklearn.metrics import accuracy_score\n",
    "accuracy_score(ground, results)"
   ]
  },
  {
   "cell_type": "markdown",
   "metadata": {},
   "source": [
    "As an additional test, we can try sending the `test_review` that we looked at earlier."
   ]
  },
  {
   "cell_type": "code",
   "execution_count": 59,
   "metadata": {},
   "outputs": [
    {
     "data": {
      "text/plain": [
       "b'1'"
      ]
     },
     "execution_count": 59,
     "metadata": {},
     "output_type": "execute_result"
    }
   ],
   "source": [
    "predictor.predict(test_review)"
   ]
  },
  {
   "cell_type": "markdown",
   "metadata": {},
   "source": [
    "Now that we know our endpoint is working as expected, we can set up the web page that will interact with it. If you don't have time to finish the project now, make sure to skip down to the end of this notebook and shut down your endpoint. You can deploy it again when you come back."
   ]
  },
  {
   "cell_type": "markdown",
   "metadata": {},
   "source": [
    "## Step 7 (again): Use the model for the web app\n",
    "\n",
    "> **TODO:** This entire section and the next contain tasks for you to complete, mostly using the AWS console.\n",
    "\n",
    "So far we have been accessing our model endpoint by constructing a predictor object which uses the endpoint and then just using the predictor object to perform inference. What if we wanted to create a web app which accessed our model? The way things are set up currently makes that not possible since in order to access a SageMaker endpoint the app would first have to authenticate with AWS using an IAM role which included access to SageMaker endpoints. However, there is an easier way! We just need to use some additional AWS services.\n",
    "\n",
    "<img src=\"Web App Diagram.svg\">\n",
    "\n",
    "The diagram above gives an overview of how the various services will work together. On the far right is the model which we trained above and which is deployed using SageMaker. On the far left is our web app that collects a user's movie review, sends it off and expects a positive or negative sentiment in return.\n",
    "\n",
    "In the middle is where some of the magic happens. We will construct a Lambda function, which you can think of as a straightforward Python function that can be executed whenever a specified event occurs. We will give this function permission to send and recieve data from a SageMaker endpoint.\n",
    "\n",
    "Lastly, the method we will use to execute the Lambda function is a new endpoint that we will create using API Gateway. This endpoint will be a url that listens for data to be sent to it. Once it gets some data it will pass that data on to the Lambda function and then return whatever the Lambda function returns. Essentially it will act as an interface that lets our web app communicate with the Lambda function.\n",
    "\n",
    "### Setting up a Lambda function\n",
    "\n",
    "The first thing we are going to do is set up a Lambda function. This Lambda function will be executed whenever our public API has data sent to it. When it is executed it will receive the data, perform any sort of processing that is required, send the data (the review) to the SageMaker endpoint we've created and then return the result.\n",
    "\n",
    "#### Part A: Create an IAM Role for the Lambda function\n",
    "\n",
    "Since we want the Lambda function to call a SageMaker endpoint, we need to make sure that it has permission to do so. To do this, we will construct a role that we can later give the Lambda function.\n",
    "\n",
    "Using the AWS Console, navigate to the **IAM** page and click on **Roles**. Then, click on **Create role**. Make sure that the **AWS service** is the type of trusted entity selected and choose **Lambda** as the service that will use this role, then click **Next: Permissions**.\n",
    "\n",
    "In the search box type `sagemaker` and select the check box next to the **AmazonSageMakerFullAccess** policy. Then, click on **Next: Review**.\n",
    "\n",
    "Lastly, give this role a name. Make sure you use a name that you will remember later on, for example `LambdaSageMakerRole`. Then, click on **Create role**.\n",
    "\n",
    "#### Part B: Create a Lambda function\n",
    "\n",
    "Now it is time to actually create the Lambda function.\n",
    "\n",
    "Using the AWS Console, navigate to the AWS Lambda page and click on **Create a function**. When you get to the next page, make sure that **Author from scratch** is selected. Now, name your Lambda function, using a name that you will remember later on, for example `sentiment_analysis_func`. Make sure that the **Python 3.6** runtime is selected and then choose the role that you created in the previous part. Then, click on **Create Function**.\n",
    "\n",
    "On the next page you will see some information about the Lambda function you've just created. If you scroll down you should see an editor in which you can write the code that will be executed when your Lambda function is triggered. In our example, we will use the code below. \n",
    "\n",
    "```python\n",
    "# We need to use the low-level library to interact with SageMaker since the SageMaker API\n",
    "# is not available natively through Lambda.\n",
    "import boto3\n",
    "\n",
    "def lambda_handler(event, context):\n",
    "\n",
    "    # The SageMaker runtime is what allows us to invoke the endpoint that we've created.\n",
    "    runtime = boto3.Session().client('sagemaker-runtime')\n",
    "\n",
    "    # Now we use the SageMaker runtime to invoke our endpoint, sending the review we were given\n",
    "    response = runtime.invoke_endpoint(EndpointName = '**ENDPOINT NAME HERE**',    # The name of the endpoint we created\n",
    "                                       ContentType = 'text/plain',                 # The data format that is expected\n",
    "                                       Body = event['body'])                       # The actual review\n",
    "\n",
    "    # The response is an HTTP response whose body contains the result of our inference\n",
    "    result = response['Body'].read().decode('utf-8')\n",
    "\n",
    "    return {\n",
    "        'statusCode' : 200,\n",
    "        'headers' : { 'Content-Type' : 'text/plain', 'Access-Control-Allow-Origin' : '*' },\n",
    "        'body' : result\n",
    "    }\n",
    "```\n",
    "\n",
    "Once you have copy and pasted the code above into the Lambda code editor, replace the `**ENDPOINT NAME HERE**` portion with the name of the endpoint that we deployed earlier. You can determine the name of the endpoint using the code cell below."
   ]
  },
  {
   "cell_type": "code",
   "execution_count": 60,
   "metadata": {},
   "outputs": [
    {
     "data": {
      "text/plain": [
       "'sagemaker-pytorch-2020-07-22-12-25-42-332'"
      ]
     },
     "execution_count": 60,
     "metadata": {},
     "output_type": "execute_result"
    }
   ],
   "source": [
    "predictor.endpoint"
   ]
  },
  {
   "cell_type": "markdown",
   "metadata": {},
   "source": [
    "Once you have added the endpoint name to the Lambda function, click on **Save**. Your Lambda function is now up and running. Next we need to create a way for our web app to execute the Lambda function.\n",
    "\n",
    "### Setting up API Gateway\n",
    "\n",
    "Now that our Lambda function is set up, it is time to create a new API using API Gateway that will trigger the Lambda function we have just created.\n",
    "\n",
    "Using AWS Console, navigate to **Amazon API Gateway** and then click on **Get started**.\n",
    "\n",
    "On the next page, make sure that **New API** is selected and give the new api a name, for example, `sentiment_analysis_api`. Then, click on **Create API**.\n",
    "\n",
    "Now we have created an API, however it doesn't currently do anything. What we want it to do is to trigger the Lambda function that we created earlier.\n",
    "\n",
    "Select the **Actions** dropdown menu and click **Create Method**. A new blank method will be created, select its dropdown menu and select **POST**, then click on the check mark beside it.\n",
    "\n",
    "For the integration point, make sure that **Lambda Function** is selected and click on the **Use Lambda Proxy integration**. This option makes sure that the data that is sent to the API is then sent directly to the Lambda function with no processing. It also means that the return value must be a proper response object as it will also not be processed by API Gateway.\n",
    "\n",
    "Type the name of the Lambda function you created earlier into the **Lambda Function** text entry box and then click on **Save**. Click on **OK** in the pop-up box that then appears, giving permission to API Gateway to invoke the Lambda function you created.\n",
    "\n",
    "The last step in creating the API Gateway is to select the **Actions** dropdown and click on **Deploy API**. You will need to create a new Deployment stage and name it anything you like, for example `prod`.\n",
    "\n",
    "You have now successfully set up a public API to access your SageMaker model. Make sure to copy or write down the URL provided to invoke your newly created public API as this will be needed in the next step. This URL can be found at the top of the page, highlighted in blue next to the text **Invoke URL**."
   ]
  },
  {
   "cell_type": "markdown",
   "metadata": {},
   "source": [
    "## Step 4: Deploying our web app\n",
    "\n",
    "Now that we have a publicly available API, we can start using it in a web app. For our purposes, we have provided a simple static html file which can make use of the public api you created earlier.\n",
    "\n",
    "In the `website` folder there should be a file called `index.html`. Download the file to your computer and open that file up in a text editor of your choice. There should be a line which contains **\\*\\*REPLACE WITH PUBLIC API URL\\*\\***. Replace this string with the url that you wrote down in the last step and then save the file.\n",
    "\n",
    "Now, if you open `index.html` on your local computer, your browser will behave as a local web server and you can use the provided site to interact with your SageMaker model.\n",
    "\n",
    "If you'd like to go further, you can host this html file anywhere you'd like, for example using github or hosting a static site on Amazon's S3. Once you have done this you can share the link with anyone you'd like and have them play with it too!\n",
    "\n",
    "> **Important Note** In order for the web app to communicate with the SageMaker endpoint, the endpoint has to actually be deployed and running. This means that you are paying for it. Make sure that the endpoint is running when you want to use the web app but that you shut it down when you don't need it, otherwise you will end up with a surprisingly large AWS bill.\n",
    "\n",
    "**TODO:** Make sure that you include the edited `index.html` file in your project submission."
   ]
  },
  {
   "cell_type": "markdown",
   "metadata": {},
   "source": [
    "Now that your web app is working, trying playing around with it and see how well it works.\n",
    "\n",
    "**Question**: Give an example of a review that you entered into your web app. What was the predicted sentiment of your example review?"
   ]
  },
  {
   "cell_type": "markdown",
   "metadata": {},
   "source": [
    "**Answer:**\n",
    "\n",
    "- \"I honestly don't know what this movie is about... Nothing really makes sense even after I read a whole bunch of reviews online\"\n",
    "\n",
    "**Predicted negative**\n",
    "\n",
    "- \"I would say that the director of this movie is brilliant. Even though it was very confusing for the first 3/4, the last 1/4 makes so much sense\"\n",
    "\n",
    "**Predicted negative** (is actually positive)"
   ]
  },
  {
   "cell_type": "markdown",
   "metadata": {},
   "source": [
    "### Delete the endpoint\n",
    "\n",
    "Remember to always shut down your endpoint if you are no longer using it. You are charged for the length of time that the endpoint is running so if you forget and leave it on you could end up with an unexpectedly large bill."
   ]
  },
  {
   "cell_type": "code",
   "execution_count": 61,
   "metadata": {},
   "outputs": [],
   "source": [
    "predictor.delete_endpoint()"
   ]
  },
  {
   "cell_type": "code",
   "execution_count": null,
   "metadata": {},
   "outputs": [],
   "source": []
  }
 ],
 "metadata": {
  "kernelspec": {
   "display_name": "conda_pytorch_p36",
   "language": "python",
   "name": "conda_pytorch_p36"
  },
  "language_info": {
   "codemirror_mode": {
    "name": "ipython",
    "version": 3
   },
   "file_extension": ".py",
   "mimetype": "text/x-python",
   "name": "python",
   "nbconvert_exporter": "python",
   "pygments_lexer": "ipython3",
   "version": "3.6.10"
  }
 },
 "nbformat": 4,
 "nbformat_minor": 2
}
